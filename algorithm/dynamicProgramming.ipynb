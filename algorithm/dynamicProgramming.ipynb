{
 "cells": [
  {
   "cell_type": "markdown",
   "metadata": {},
   "source": [
    "**动态规划特点**  \n",
    "* 需要在给定约束条件下优化某种指标时，动态规划很管用  \n",
    "* 问题可分解为离散子问题时，可使用动态规划来解决"
   ]
  },
  {
   "cell_type": "markdown",
   "metadata": {
    "collapsed": true
   },
   "source": [
    "# 题目一：台阶"
   ]
  },
  {
   "cell_type": "markdown",
   "metadata": {},
   "source": [
    "有一座高度是10级台阶的楼梯，从下往上走，每跨一步只能向上1级或者2级台阶。要求用程序来求出一共有多少种走法。"
   ]
  },
  {
   "cell_type": "markdown",
   "metadata": {},
   "source": [
    "### 问题分析\n",
    "* 分析  \n",
    "    * **F（n） = {0到n级台阶的走法}  （n is {0,10}）**\n",
    "    * F（10）= F（9）+ F（8）  \n",
    "    * F（9）= F（8） + F（7） \n",
    "* 三个重要概念  \n",
    "    * 最优子结构  \n",
    "        * F(9)和F（8）是F（10）的最优子结构\n",
    "    * 边界 \n",
    "        * F（1） =1； F（2） = 2 ；\n",
    "    * 状态转移公式\n",
    "        * F（n）=F（n-1） +F（n-2） （n>=3）"
   ]
  },
  {
   "cell_type": "markdown",
   "metadata": {},
   "source": [
    "### 递归求解"
   ]
  },
  {
   "cell_type": "code",
   "execution_count": 9,
   "metadata": {
    "collapsed": true
   },
   "outputs": [],
   "source": [
    "def getClimbingWays(n):\n",
    "    if n<1 :\n",
    "        return 0\n",
    "    elif n==1:\n",
    "        return 1\n",
    "    elif n==2:\n",
    "        return 2\n",
    "    else:\n",
    "        return getClibingWays(n-1) + getClibingWays(n-2)       "
   ]
  },
  {
   "cell_type": "markdown",
   "metadata": {},
   "source": [
    "* 时间复杂度：  \n",
    "    * 二叉树， 高度为N-1，结点的个数接近2的N-1次方，时间复杂度近似为O(2^N)\n",
    "* 空间复杂度:  \n",
    "    * 约需要申请O(2^N)个函数帧"
   ]
  },
  {
   "cell_type": "markdown",
   "metadata": {},
   "source": [
    "* 问题  \n",
    "    * 相同参数重复计算  \n",
    "* 解决  \n",
    "    * 用缓存，先创建一个哈希表，每次把不同参数的计算结果存入哈希。当遇到相同参数时，再从哈希表里取出，就不用重复计算了。 这种方法就叫**备忘录算法**"
   ]
  },
  {
   "cell_type": "markdown",
   "metadata": {},
   "source": [
    "### 备忘录算法"
   ]
  },
  {
   "cell_type": "code",
   "execution_count": 27,
   "metadata": {
    "collapsed": true
   },
   "outputs": [],
   "source": [
    "# repository is a map table\n",
    "def getClimbingWays(n): \n",
    "    if n<1:\n",
    "        return 0\n",
    "    elif n==1:\n",
    "        return 1\n",
    "    elif n==2:\n",
    "        return 2\n",
    "    else:\n",
    "        if repository.has_key(n):\n",
    "            return repository[n]\n",
    "        else:\n",
    "            Fn = getClimbingWays(n) + getClimbingWays(n-1) \n",
    "            repository[n] = Fn\n",
    "            return Fn\n",
    "    pass"
   ]
  },
  {
   "cell_type": "code",
   "execution_count": null,
   "metadata": {
    "collapsed": false
   },
   "outputs": [],
   "source": [
    "repository={}\n",
    "getClimbingWays(3)"
   ]
  },
  {
   "cell_type": "markdown",
   "metadata": {},
   "source": [
    "### 动态规划求解  "
   ]
  },
  {
   "cell_type": "markdown",
   "metadata": {},
   "source": [
    "**自顶向下 --> 自底向上**  "
   ]
  },
  {
   "cell_type": "code",
   "execution_count": 42,
   "metadata": {
    "collapsed": false
   },
   "outputs": [],
   "source": [
    "def getClimbingWays(n):\n",
    "    if n<1:\n",
    "        return 0\n",
    "    elif n==1:\n",
    "        return 1\n",
    "    elif n==2:\n",
    "        return 2\n",
    "    \n",
    "    a = 1\n",
    "    b = 2 \n",
    "    temp = 0\n",
    "    for i in range(3,n+1): \n",
    "        temp = a + b\n",
    "        a = b\n",
    "        b = temp\n",
    "    return temp"
   ]
  },
  {
   "cell_type": "markdown",
   "metadata": {},
   "source": [
    "# 题目二：国王和金矿"
   ]
  },
  {
   "cell_type": "markdown",
   "metadata": {},
   "source": [
    "有一个国家发现了5座金矿，每座金矿的黄金储量不同，需要参与挖掘的工人数也不同。参与挖矿工人的总数是10人。每座金矿要么全挖，要么不挖，不能派出一半人挖取一半金矿。要求用程序求解出，要想得到尽可能多的黄金，应该选择挖取哪几座金矿？"
   ]
  },
  {
   "cell_type": "markdown",
   "metadata": {},
   "source": [
    "### 排列组合"
   ]
  },
  {
   "cell_type": "markdown",
   "metadata": {
    "collapsed": true
   },
   "source": [
    "**分析：**  \n",
    "每一座金矿都有挖与不挖两种选择，如果有N座金矿，排列组合起来就有2^N种选择。对所有可能性做遍历，排除那些使用工人数超过10的选择，在剩下的选择里找出获得金币数最多的选择。  \n",
    "****"
   ]
  },
  {
   "cell_type": "code",
   "execution_count": null,
   "metadata": {
    "collapsed": true
   },
   "outputs": [],
   "source": []
  },
  {
   "cell_type": "markdown",
   "metadata": {},
   "source": [
    "### 简单递归"
   ]
  },
  {
   "cell_type": "markdown",
   "metadata": {
    "collapsed": true
   },
   "source": [
    "* **问题分析**\n",
    "* **描述**\n",
    "    * 金矿数量为N  \n",
    "    * 工人数设为W  \n",
    "    * 金矿的黄金量设为数组G[]\n",
    "    * 金矿的用工量设为数组P[]  \n",
    "\n",
    "5座金矿与4座金矿的最优选择之间存在的关系：  **F(5,10) = MAX(F(4,10), F(4，10-P[4])+G[4])**  \n",
    "\n",
    "\n",
    "\n",
    "F(n,w) = 0    (n<=1, w<p[0]);\n",
    "\n",
    "\n",
    "F(n,w) = g[0]     (n==1, w>=p[0]);\n",
    "\n",
    "\n",
    "F(n,w) = F(n-1,w)    (n>1, w<p[n-1])  \n",
    "\n",
    "\n",
    "F(n,w) = max(F(n-1,w),  F(n-1,w-p[n-1])+g[n-1])    (n>1, w>=p[n-1])\n"
   ]
  },
  {
   "cell_type": "markdown",
   "metadata": {},
   "source": [
    "\n",
    "\n",
    "把状态转移方程式翻译成递归程序，递归的结束的条件就是方程式当中的边界。因为每个状态有两个最优子结构，所以递归的执行流程类似于一颗高度为N的二叉树。\n",
    "\n",
    "\n",
    "方法的时间复杂度是O(2^N)。\n"
   ]
  },
  {
   "cell_type": "markdown",
   "metadata": {},
   "source": [
    "### 备忘录算法"
   ]
  },
  {
   "cell_type": "code",
   "execution_count": null,
   "metadata": {
    "collapsed": true
   },
   "outputs": [],
   "source": []
  },
  {
   "cell_type": "markdown",
   "metadata": {},
   "source": [
    "### 动态规划"
   ]
  },
  {
   "cell_type": "code",
   "execution_count": null,
   "metadata": {
    "collapsed": true
   },
   "outputs": [],
   "source": []
  }
 ],
 "metadata": {
  "anaconda-cloud": {},
  "kernelspec": {
   "display_name": "Python [Root]",
   "language": "python",
   "name": "Python [Root]"
  },
  "language_info": {
   "codemirror_mode": {
    "name": "ipython",
    "version": 2
   },
   "file_extension": ".py",
   "mimetype": "text/x-python",
   "name": "python",
   "nbconvert_exporter": "python",
   "pygments_lexer": "ipython2",
   "version": "2.7.12"
  }
 },
 "nbformat": 4,
 "nbformat_minor": 0
}
