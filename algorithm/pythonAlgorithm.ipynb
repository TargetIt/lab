{
 "cells": [
  {
   "cell_type": "code",
   "execution_count": null,
   "metadata": {
    "collapsed": true
   },
   "outputs": [],
   "source": []
  },
  {
   "cell_type": "markdown",
   "metadata": {},
   "source": [
    "# List"
   ]
  },
  {
   "cell_type": "code",
   "execution_count": null,
   "metadata": {
    "collapsed": true
   },
   "outputs": [],
   "source": []
  },
  {
   "cell_type": "markdown",
   "metadata": {},
   "source": [
    "# Link"
   ]
  },
  {
   "cell_type": "markdown",
   "metadata": {},
   "source": [
    "### revert a single link  "
   ]
  },
  {
   "cell_type": "code",
   "execution_count": 102,
   "metadata": {
    "collapsed": false
   },
   "outputs": [
    {
     "name": "stdout",
     "output_type": "stream",
     "text": [
      "4\n",
      "3\n",
      "2\n",
      "1\n"
     ]
    }
   ],
   "source": [
    "\n",
    "\n",
    "class Node(object):\n",
    "    def __init__(self, data=None, next=None):\n",
    "        self.data = data\n",
    "        self.next = next\n",
    "        \n",
    "link = Node(1, Node(2, Node(3, Node(4))))\n",
    "\n",
    "        \n",
    "def rev(link):\n",
    "    pre = link\n",
    "    cur = link.next\n",
    "    pre.next = None\n",
    "    while cur:\n",
    "        nxt = cur.next\n",
    "        cur.next = pre\n",
    "        pre = cur\n",
    "        cur = nxt\n",
    "\n",
    "    #while cur:\n",
    "    #    tmp = cur.next\n",
    "    #    cur.next = pre\n",
    "    #    pre = cur\n",
    "    #    cur =tmp\n",
    "        \n",
    "    return pre\n",
    "\n",
    "root = rev(link)\n",
    "\n",
    "while root:\n",
    "    print root.data\n",
    "    root = root.next\n",
    "    "
   ]
  },
  {
   "cell_type": "markdown",
   "metadata": {},
   "source": [
    "### 1->2->3->4 ==> 4->3->2->1"
   ]
  },
  {
   "cell_type": "markdown",
   "metadata": {},
   "source": [
    "![][swapPairs]\n",
    "\n",
    "[swapPairs]: ./swapPairs.bmp\n",
    " \"Picture of a swapPairs\""
   ]
  },
  {
   "cell_type": "code",
   "execution_count": 160,
   "metadata": {
    "collapsed": false
   },
   "outputs": [
    {
     "name": "stdout",
     "output_type": "stream",
     "text": [
      "2\n",
      "1\n",
      "4\n",
      "3\n",
      "6\n",
      "5\n",
      "8\n",
      "7\n"
     ]
    }
   ],
   "source": [
    "# 链表成对调换\n",
    "# 1->2->3->4 ==> 2->1->4->3\n",
    "class Node(object):\n",
    "    def __init__(self, data=None, next=None):\n",
    "        self.data = data\n",
    "        self.next = next\n",
    "\n",
    "link = Node(1, Node(2, Node(3, Node(4, Node(5, Node(6, Node(7, Node(8))))))))\n",
    "\n",
    "\n",
    "# -----------------------------------------------------\n",
    "# stupid method\n",
    "# -----------------------------------------------------\n",
    "#def rev(head):\n",
    "#    tail = head.next\n",
    "#    link = tail\n",
    "#    tmp = head.next.next \n",
    "#    \n",
    "#    head.next = tmp\n",
    "#    tail.next = head\n",
    "#    \n",
    "#    tail = tail.next\n",
    "#    head = tmp\n",
    "#    \n",
    "#    while head != None and head.next != None:\n",
    "#        tmp = head.next\n",
    "#        head.next = tmp.next\n",
    "#        tail.next = tmp\n",
    "#        tmp.next = head\n",
    "#        tail = head\n",
    "#        head = head.next\n",
    "#    return link\n",
    "\n",
    "\n",
    "# -----------------------------------------------------\n",
    "# smart method\n",
    "# -----------------------------------------------------\n",
    "def rev(head):\n",
    "    tail = Node()\n",
    "    link = tail\n",
    "    while head != None and head.next != None:\n",
    "        tmp = head.next\n",
    "        head.next = tmp.next\n",
    "        tail.next = tmp\n",
    "        tmp.next = head\n",
    "        tail = head\n",
    "        head = head.next\n",
    "    return link.next\n",
    "\n",
    "\n",
    "root = rev(link)\n",
    "while root:\n",
    "    print root.data\n",
    "    root = root.next\n"
   ]
  },
  {
   "cell_type": "code",
   "execution_count": 169,
   "metadata": {
    "collapsed": false
   },
   "outputs": [
    {
     "name": "stdout",
     "output_type": "stream",
     "text": [
      "2\n",
      "1\n",
      "4\n",
      "3\n",
      "6\n",
      "5\n",
      "8\n",
      "7\n"
     ]
    }
   ],
   "source": [
    "class Node(object):\n",
    "    def __init__(self, data=None, next=None):\n",
    "        self.data = data\n",
    "        self.next = next\n",
    "\n",
    "link = Node(1, Node(2, Node(3, Node(4, Node(5, Node(6, Node(7, Node(8))))))))\n",
    "\n",
    "\n",
    "def swapPairs(head):\n",
    "    if head != None and head.next != None:\n",
    "        next = head.next\n",
    "        head.next = swapPairs(next.next)\n",
    "        next.next = head\n",
    "        return next\n",
    "    \n",
    "root = swapPairs(link)\n",
    "\n",
    "while root:\n",
    "    print root.data\n",
    "    root = root.next\n",
    "    "
   ]
  },
  {
   "cell_type": "code",
   "execution_count": 173,
   "metadata": {
    "collapsed": false
   },
   "outputs": [
    {
     "name": "stdout",
     "output_type": "stream",
     "text": [
      "2\n",
      "1\n",
      "4\n",
      "3\n",
      "6\n",
      "5\n",
      "7\n",
      "8\n"
     ]
    }
   ],
   "source": [
    "class Node(object):\n",
    "    def __init__(self, data=None, next=None):\n",
    "        self.data = data\n",
    "        self.next = next\n",
    "\n",
    "link = Node(1, Node(2, Node(3, Node(4, Node(5, Node(6, Node(7, Node(8))))))))\n",
    "\n",
    "def swapData(link):\n",
    "    head = link\n",
    "    while head and head.next.next:\n",
    "        head.data , head.next.data = head.next.data, head.data\n",
    "        head = head.next.next\n",
    "    return link\n",
    "\n",
    "root = swapData(link)\n",
    "\n",
    "while root:\n",
    "    print root.data\n",
    "    root = root.next\n",
    "\n",
    "        \n"
   ]
  },
  {
   "cell_type": "code",
   "execution_count": 75,
   "metadata": {
    "collapsed": true
   },
   "outputs": [],
   "source": [
    "# 交叉链表求交点\n"
   ]
  },
  {
   "cell_type": "code",
   "execution_count": 84,
   "metadata": {
    "collapsed": true
   },
   "outputs": [],
   "source": [
    "# 从尾到头打印链表\n"
   ]
  }
 ],
 "metadata": {
  "kernelspec": {
   "display_name": "Python [Root]",
   "language": "python",
   "name": "Python [Root]"
  },
  "language_info": {
   "codemirror_mode": {
    "name": "ipython",
    "version": 2
   },
   "file_extension": ".py",
   "mimetype": "text/x-python",
   "name": "python",
   "nbconvert_exporter": "python",
   "pygments_lexer": "ipython2",
   "version": "2.7.12"
  }
 },
 "nbformat": 4,
 "nbformat_minor": 0
}
