{
 "cells": [
  {
   "cell_type": "code",
   "execution_count": 2,
   "metadata": {
    "collapsed": true
   },
   "outputs": [],
   "source": [
    "def print_directory_contents(sPath):\n",
    "    \"\"\"\n",
    "    这个函数接受文件夹的名称作为输入参数，\n",
    "    返回该文件夹中文件的路径，\n",
    "    以及其包含文件夹中文件的路径。\n",
    "\n",
    "    \"\"\"\n",
    "    # 补充代码\n",
    "    import os\n",
    "    for sChild in os.listdir(sPath):\n",
    "        sChildPath = os.path.join(sPath, sChild)\n",
    "        if os.path.isdir(sChildPath):\n",
    "            print_directory_contents(sChildPath)\n",
    "        else:\n",
    "            print (sChildPath)\n",
    "    "
   ]
  },
  {
   "cell_type": "code",
   "execution_count": 7,
   "metadata": {
    "collapsed": false
   },
   "outputs": [
    {
     "name": "stdout",
     "output_type": "stream",
     "text": [
      "\n",
      "    这个函数接受文件夹的名称作为输入参数，\n",
      "    返回该文件夹中文件的路径，\n",
      "    以及其包含文件夹中文件的路径。\n",
      "\n",
      "    \n"
     ]
    }
   ],
   "source": [
    "print print_directory_contents.__doc__"
   ]
  },
  {
   "cell_type": "markdown",
   "metadata": {},
   "source": [
    "# Factorial "
   ]
  },
  {
   "cell_type": "code",
   "execution_count": 11,
   "metadata": {
    "collapsed": true
   },
   "outputs": [],
   "source": [
    "def factorial(n):\n",
    "    if n== 1:\n",
    "        return 1\n",
    "    else:\n",
    "        return n * factorial(n-1)"
   ]
  },
  {
   "cell_type": "markdown",
   "metadata": {},
   "source": [
    "* **递归**\n",
    "    * 一个函数调用自己： 假想调用了一个和自己一模一样的函数 \n",
    "* **递归调用栈**\n",
    "    * 每一个栈帧就代表了被调用的一个函数 \n",
    "    * 栈帧的构成：\n",
    "        * 上一个栈帧的指针\n",
    "        * 输入参数 \n",
    "        * 返回值 \n",
    "        * 。。。\n",
    "        * 返回地址\n",
    "* **举例**   \n",
    " 4 *factorial(3)  ， 现在4的值有了， 但是factorial(3) 的值还不知道是多少， 所以就需要形成新的栈帧来计算， 而factorial(3) 需要 factorial(2)，  factorial(2) 需要 factorial(1)， 如果循环， 不， 是递归下去， 到最后才能得到 factorial(1) = 1，   然后每个栈帧逐次出栈， 就能计算出最终的factorial(4)了” \n",
    "* **问题** ： 栈溢出 \n",
    "* **解决** ： 尾递归\n"
   ]
  },
  {
   "cell_type": "code",
   "execution_count": 10,
   "metadata": {
    "collapsed": true
   },
   "outputs": [],
   "source": [
    "def factorial(n, result):\n",
    "    if n==1 :\n",
    "        return result\n",
    "    else:\n",
    "        return factorial(n-1, n*result)"
   ]
  },
  {
   "cell_type": "markdown",
   "metadata": {},
   "source": [
    "* **尾递归** ： 当递归调用时函数体中最后执行的语句并且它的返回值不属于表达式一部分时，这个递归就是尾递归\n",
    "* **举例**  \n",
    "    factorial(4,1)  \n",
    "    = factorial(3,4\\*1)  \n",
    "    = factorial(2,3\\*4\\*1)  \n",
    "    = factorial(1,2\\*3\\*4\\*1)  \n",
    "    = factorial(1,24)  \n",
    "    = 24\n",
    "    "
   ]
  },
  {
   "cell_type": "markdown",
   "metadata": {},
   "source": [
    "# Fibonacci"
   ]
  },
  {
   "cell_type": "code",
   "execution_count": null,
   "metadata": {
    "collapsed": true
   },
   "outputs": [],
   "source": [
    "def fib(n):\n",
    "    if n<= 2:\n",
    "        return 1\n",
    "    else:\n",
    "        return fib(n-1) + fib(n-2)"
   ]
  },
  {
   "cell_type": "code",
   "execution_count": 12,
   "metadata": {
    "collapsed": true
   },
   "outputs": [],
   "source": [
    "# Scheme, Tail-recursion\n",
    "def fib(n):\n",
    "    def fib_iter(n,x,y):\n",
    "        if n==0 : return x\n",
    "        else: return fib_iter(n-1, y, x+y)\n",
    "    return fib_iter(n, 0, 1)"
   ]
  },
  {
   "cell_type": "markdown",
   "metadata": {},
   "source": [
    "* **举例**   \n",
    "\n",
    "fib(4)  \n",
    "= fib_iter(4,0,1)  \n",
    "= fib_iter(3,1,1)  \n",
    "= fib_iter(2,1,2)  \n",
    "= fib_iter(1,2,3)  \n",
    "= fib_iter(0,3,5)  \n",
    "= 5  "
   ]
  }
 ],
 "metadata": {
  "kernelspec": {
   "display_name": "Python [Root]",
   "language": "python",
   "name": "Python [Root]"
  },
  "language_info": {
   "codemirror_mode": {
    "name": "ipython",
    "version": 2
   },
   "file_extension": ".py",
   "mimetype": "text/x-python",
   "name": "python",
   "nbconvert_exporter": "python",
   "pygments_lexer": "ipython2",
   "version": "2.7.12"
  }
 },
 "nbformat": 4,
 "nbformat_minor": 0
}
