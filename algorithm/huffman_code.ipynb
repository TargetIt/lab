{
 "cells": [
  {
   "cell_type": "code",
   "execution_count": null,
   "metadata": {
    "collapsed": true,
    "deletable": true,
    "editable": true
   },
   "outputs": [],
   "source": [
    "import six\n",
    "import sys"
   ]
  },
  {
   "cell_type": "markdown",
   "metadata": {
    "deletable": true,
    "editable": true
   },
   "source": [
    "### Create HuffNode, IntlNode, LeafNode"
   ]
  },
  {
   "cell_type": "code",
   "execution_count": null,
   "metadata": {
    "collapsed": false,
    "deletable": true,
    "editable": true
   },
   "outputs": [],
   "source": [
    "class HuffNode(object):\n",
    "    \"\"\"\n",
    "    定义一个HuffNode虚类，里面包含两个虚方法：\n",
    "    1. 获取节点的权重函数\n",
    "    2. 获取此节点是否是叶节点的函数\n",
    "    \"\"\"\n",
    "    def get_wieght(self):\n",
    "        raise NotImplementedError(\n",
    "            \"The Abstract Node Class doesn't define 'get_wieght'\")\n",
    "\n",
    "    def isleaf(self):\n",
    "        raise NotImplementedError(\n",
    "            \"The Abstract Node Class doesn't define 'isleaf'\")\n",
    "\n",
    "\n",
    "class LeafNode(HuffNode):\n",
    "    \"\"\"\n",
    "    树叶节点类\n",
    "    \"\"\"\n",
    "    def __init__(self, value=0, freq=0):\n",
    "        \"\"\"\n",
    "        初始化 树节点 需要初始化的对象参数有 ：value及其出现的频率freq\n",
    "        \"\"\"\n",
    "        super(LeafNode, self).__init__()\n",
    "        # 节点的值\n",
    "        self.value = value\n",
    "        self.wieght = freq\n",
    "\n",
    "\n",
    "    def isleaf(self):\n",
    "        \"\"\"\n",
    "        基类的方法，返回True，代表是叶节点\n",
    "        \"\"\"\n",
    "        return True\n",
    "\n",
    "    def get_wieght(self):\n",
    "        \"\"\"\n",
    "        基类的方法，返回对象属性 weight，表示对象的权重\n",
    "        \"\"\"\n",
    "        return self.wieght\n",
    "\n",
    "    def get_value(self):\n",
    "        \"\"\"\n",
    "        获取叶子节点的 字符 的值\n",
    "        \"\"\"\n",
    "        return self.value\n",
    "\n",
    "\n",
    "class IntlNode(HuffNode):\n",
    "    \"\"\"\n",
    "    中间节点类\n",
    "    \"\"\"\n",
    "    def __init__(self, left_child=None, right_child=None):\n",
    "        \"\"\"\n",
    "        初始化 中间节点 需要初始化的对象参数有 ：left_child, right_chiled, weight\n",
    "        \"\"\"\n",
    "        super(IntlNode, self).__init__()\n",
    "\n",
    "        # 节点的值\n",
    "        self.wieght = left_child.get_wieght() + right_child.get_wieght()\n",
    "        # 节点的左右子节点\n",
    "        self.left_child = left_child\n",
    "        self.right_child = right_child\n",
    "\n",
    "\n",
    "    def isleaf(self):\n",
    "        \"\"\"\n",
    "        基类的方法，返回False，代表是中间节点\n",
    "        \"\"\"\n",
    "        return False\n",
    "\n",
    "    def get_wieght(self):\n",
    "        \"\"\"\n",
    "        基类的方法，返回对象属性 weight，表示对象的权重\n",
    "        \"\"\"\n",
    "        return self.wieght\n",
    "\n",
    "    def get_left(self):\n",
    "        \"\"\"\n",
    "        获取左孩子\n",
    "        \"\"\"\n",
    "        return self.left_child\n",
    "\n",
    "    def get_right(self):\n",
    "        \"\"\"\n",
    "        获取右孩子\n",
    "        \"\"\"\n",
    "        return self.right_child"
   ]
  },
  {
   "cell_type": "markdown",
   "metadata": {
    "deletable": true,
    "editable": true
   },
   "source": [
    "### HuffTree"
   ]
  },
  {
   "cell_type": "code",
   "execution_count": null,
   "metadata": {
    "collapsed": true,
    "deletable": true,
    "editable": true
   },
   "outputs": [],
   "source": [
    "class HuffTree(object):\n",
    "    \"\"\"\n",
    "    huffTree\n",
    "    \"\"\"\n",
    "    def __init__(self, flag, value =0, freq=0, left_tree=None, right_tree=None):\n",
    "\n",
    "        super(HuffTree, self).__init__()\n",
    "\n",
    "        if flag == 0:\n",
    "            self.root = LeafNode(value, freq)\n",
    "        else:\n",
    "            self.root = IntlNode(left_tree.get_root(), right_tree.get_root())\n",
    "\n",
    "\n",
    "    def get_root(self):\n",
    "        \"\"\"\n",
    "        获取huffman tree 的根节点\n",
    "        \"\"\"\n",
    "        return self.root\n",
    "\n",
    "    def get_wieght(self):\n",
    "        \"\"\"\n",
    "        获取这个huffman树的根节点的权重\n",
    "        \"\"\"\n",
    "        return self.root.get_wieght()\n",
    "\n",
    "    def traverse_huffman_tree(self, root, code, char_freq):\n",
    "        \"\"\"\n",
    "        利用递归的方法遍历huffman_tree，并且以此方式得到每个 字符 对应的huffman编码\n",
    "        保存在字典 char_freq中\n",
    "        \"\"\"\n",
    "        if root.isleaf():\n",
    "            char_freq[root.get_value()] = code\n",
    "            print (\"it = %d/%c and  freq = %d  code = %s\")%(root.get_value(), chr(root.get_value()), root.get_wieght(), code)\n",
    "            return None\n",
    "        else:\n",
    "            self.traverse_huffman_tree(root.get_left(), code+'0', char_freq)\n",
    "            self.traverse_huffman_tree(root.get_right(), code+'1', char_freq)"
   ]
  },
  {
   "cell_type": "markdown",
   "metadata": {
    "deletable": true,
    "editable": true
   },
   "source": [
    "### Build Huffman Tree"
   ]
  },
  {
   "cell_type": "code",
   "execution_count": null,
   "metadata": {
    "collapsed": true,
    "deletable": true,
    "editable": true
   },
   "outputs": [],
   "source": [
    "def buildHuffmanTree(list_hufftrees):\n",
    "    \"\"\"\n",
    "    构造huffman树\n",
    "    \"\"\"\n",
    "    while len(list_hufftrees) >1 :\n",
    "\n",
    "        # 1. 按照weight 对huffman树进行从小到大的排序\n",
    "        list_hufftrees.sort(key=lambda x: x.get_wieght()) \n",
    "\n",
    "        # 2. 挑出weight 最小的两个huffman编码树\n",
    "        temp1 = list_hufftrees[0]\n",
    "        temp2 = list_hufftrees[1]\n",
    "        list_hufftrees = list_hufftrees[2:]\n",
    "\n",
    "        # 3. 构造一个新的huffman树\n",
    "        newed_hufftree = HuffTree(1, 0, 0, temp1, temp2)\n",
    "\n",
    "        # 4. 放入到数组当中\n",
    "        list_hufftrees.append(newed_hufftree)\n",
    "\n",
    "    # last.  数组中最后剩下来的那棵树，就是构造的Huffman编码树\n",
    "    return list_hufftrees[0]"
   ]
  },
  {
   "cell_type": "markdown",
   "metadata": {
    "deletable": true,
    "editable": true
   },
   "source": [
    "### main"
   ]
  },
  {
   "cell_type": "code",
   "execution_count": null,
   "metadata": {
    "collapsed": false,
    "deletable": true,
    "editable": true
   },
   "outputs": [],
   "source": [
    "if __name__ == '__main__':\n",
    "    # 获取用户的输入\n",
    "    if len(sys.argv) != 2:\n",
    "        print \"please input inputfilename \"\n",
    "        exit(0)\n",
    "    else:\n",
    "        INPUTFILE = sys.argv[1]\n",
    "\n",
    "    #1. 以二进制的方式打开文件 \n",
    "    f = open(INPUTFILE,'rb')\n",
    "    filedata = f.read()\n",
    "    # 获取文件的字节总数\n",
    "    filesize = f.tell()\n",
    "\n",
    "    # 2. 统计 byte的取值［0-255］ 的每个值出现的频率\n",
    "    # 保存在字典 char_freq中\n",
    "    char_freq = {}\n",
    "    for x in range(filesize):\n",
    "        tem = six.byte2int(filedata[x])\n",
    "        if tem in char_freq.keys():\n",
    "            char_freq[tem] = char_freq[tem] + 1\n",
    "        else:\n",
    "            char_freq[tem] = 1\n",
    "\n",
    "    # 输出统计结果\n",
    "    for tem in char_freq.keys():\n",
    "        print tem,' : ',char_freq[tem]\n",
    "\n",
    "\n",
    "    # 3. 开始构造原始的huffman编码树 数组，用于构造Huffman编码树\n",
    "    list_hufftrees = []\n",
    "    for x in char_freq.keys():\n",
    "        # 使用 HuffTree的构造函数 定义一棵只包含一个叶节点的Huffman树\n",
    "        tem = HuffTree(0, x, char_freq[x], None, None)\n",
    "        # 将其添加到数组 list_hufftrees 当中\n",
    "        list_hufftrees.append(tem)\n",
    "\n",
    "     # 5. 构造huffman编码树，并且获取到每个字符对应的 编码并且打印出来\n",
    "    tem = buildHuffmanTree(list_hufftrees)\n",
    "    tem.traverse_huffman_tree(tem.get_root(),'',char_freq)"
   ]
  },
  {
   "cell_type": "code",
   "execution_count": null,
   "metadata": {
    "collapsed": true,
    "deletable": true,
    "editable": true
   },
   "outputs": [],
   "source": []
  }
 ],
 "metadata": {
  "kernelspec": {
   "display_name": "Python 3",
   "language": "python",
   "name": "python3"
  },
  "language_info": {
   "codemirror_mode": {
    "name": "ipython",
    "version": 3
   },
   "file_extension": ".py",
   "mimetype": "text/x-python",
   "name": "python",
   "nbconvert_exporter": "python",
   "pygments_lexer": "ipython3",
   "version": "3.6.0"
  }
 },
 "nbformat": 4,
 "nbformat_minor": 2
}
