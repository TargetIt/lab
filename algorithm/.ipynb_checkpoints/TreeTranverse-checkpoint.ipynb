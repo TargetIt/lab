{
 "cells": [
  {
   "cell_type": "markdown",
   "metadata": {},
   "source": [
    "> * https://en.wikipedia.org/wiki/Tree_traversal\n",
    "> * https://sagittariusyx.github.io/2016/07/22/Python-binary-tree-traverse/index.html"
   ]
  },
  {
   "cell_type": "markdown",
   "metadata": {},
   "source": [
    "## Depth-first search"
   ]
  },
  {
   "cell_type": "code",
   "execution_count": null,
   "metadata": {
    "collapsed": true
   },
   "outputs": [],
   "source": [
    "class Node(object):\n",
    "    def __init__(self, data, left=None, right=None):\n",
    "        self.data = data\n",
    "        self.left = left\n",
    "        self.right = right\n",
    "tree = Node(1, Node(3, Node(7, Node(0)), Node(6)), Node(2, Node(5), Node(4)))"
   ]
  },
  {
   "cell_type": "code",
   "execution_count": 4,
   "metadata": {
    "collapsed": true
   },
   "outputs": [],
   "source": [
    "def preOrder_recr(self, root):\n",
    "    if root == None:\n",
    "        return\n",
    "    print (root.data)\n",
    "    self.preOrder_recr(root.left)\n",
    "    self.preOrder_recr(root.right)"
   ]
  },
  {
   "cell_type": "code",
   "execution_count": 3,
   "metadata": {
    "collapsed": true
   },
   "outputs": [],
   "source": [
    "def inOrder_recr(self, root):\n",
    "    if root == None:\n",
    "        return\n",
    "    self.inOrder_recr(root.left)\n",
    "    print (root.data)\n",
    "    self.inOrder_recr(root.right)"
   ]
  },
  {
   "cell_type": "code",
   "execution_count": null,
   "metadata": {
    "collapsed": true
   },
   "outputs": [],
   "source": [
    "def postOrder_recr(self.root):\n",
    "    if root == None:\n",
    "        return\n",
    "    self.postOrder_recr(root.left)\n",
    "    self.postOrder_recr(root.right)\n",
    "    print (root.data)"
   ]
  },
  {
   "cell_type": "markdown",
   "metadata": {},
   "source": [
    "preOrder \n",
    "* mid -> left -> right\n",
    "* ** 特点 **\n",
    "* 每次遇到节点时，先访问，后压入栈\n",
    "* 当左子树历完毕后才从栈中弹出最后一个访问的节点，访问其右子树\n",
    "* ** 空间复杂度 **\n",
    "* 同一层中不可能同时又两个节点压入栈，因此栈的大小空间为O(h),h为二叉树的高度\n",
    "* **时间复杂度**\n",
    "* 每个节点都被压入栈一次，弹出栈一次，访问一次，复杂度为O(n)"
   ]
  },
  {
   "cell_type": "code",
   "execution_count": 7,
   "metadata": {
    "collapsed": false
   },
   "outputs": [],
   "source": [
    "# preOrder\n",
    "\n",
    "def preOrder_iter(self, root):\n",
    "    if root == None:\n",
    "        return \n",
    "    myStack = []\n",
    "    node = root\n",
    "    while node or myStack:\n",
    "        while node:\n",
    "            print (node.data)\n",
    "            myStack.append(node)\n",
    "            node = node.left\n",
    "        node = myStack.pop()\n",
    "        node = node.right"
   ]
  },
  {
   "cell_type": "markdown",
   "metadata": {},
   "source": [
    "inOrder\n",
    "* left -> mid -> right\n",
    "* **特点**\n",
    "* 与先序相比，先序是先访问，再入栈，而中序则是先入栈，弹栈后再访问。\n",
    "* **指标**\n",
    "* 时间复杂度，空间复杂度与先序一致\n",
    "\n"
   ]
  },
  {
   "cell_type": "code",
   "execution_count": 5,
   "metadata": {
    "collapsed": true
   },
   "outputs": [],
   "source": [
    "def inOrder_iter(self, root):\n",
    "    if root == None:\n",
    "        return \n",
    "    myStack = []\n",
    "    node = root\n",
    "    while node or myStack:\n",
    "        while node:\n",
    "            myStack.append(node)\n",
    "            node = node.left\n",
    "        node  = myStack.pop()\n",
    "        print (node.data)\n",
    "        node = node.right"
   ]
  },
  {
   "cell_type": "markdown",
   "metadata": {},
   "source": [
    "postOrder\n",
    "\n",
    "* **特点**\n",
    "* left -> right -> mid"
   ]
  },
  {
   "cell_type": "code",
   "execution_count": 8,
   "metadata": {
    "collapsed": true
   },
   "outputs": [],
   "source": [
    "def postOrder_iter(self, root):\n",
    "    if root == None:\n",
    "        return\n",
    "    myStack = []\n",
    "    node = root\n",
    "    while node or myStack:\n",
    "        while node:\n",
    "            myStack.append(node)\n",
    "            node = node.left\n",
    "        node = node.myStack.pop()\n",
    "        if node.right:\n",
    "            myStack.append(node)\n",
    "            node = node.right\n",
    "        else:\n",
    "            print (node.data)"
   ]
  },
  {
   "cell_type": "markdown",
   "metadata": {},
   "source": [
    "## Breadth-first search"
   ]
  },
  {
   "cell_type": "markdown",
   "metadata": {},
   "source": [
    "level-Order "
   ]
  },
  {
   "cell_type": "code",
   "execution_count": 10,
   "metadata": {
    "collapsed": true
   },
   "outputs": [],
   "source": [
    "def levelOrder(self, root):\n",
    "    if root == None:\n",
    "        return\n",
    "    myQueue = []\n",
    "    node = root\n",
    "    myQueue.append(node)\n",
    "    while myQueue:\n",
    "        node = myQueue.pop(0)\n",
    "        print (node.data)\n",
    "        if node.left != None:\n",
    "            myQueue.append(node.left)\n",
    "        if node.right != None:\n",
    "            myQueue.append(node.right)       "
   ]
  },
  {
   "cell_type": "markdown",
   "metadata": {},
   "source": [
    "## TEST"
   ]
  }
 ],
 "metadata": {
  "anaconda-cloud": {},
  "kernelspec": {
   "display_name": "Python [Root]",
   "language": "python",
   "name": "Python [Root]"
  },
  "language_info": {
   "codemirror_mode": {
    "name": "ipython",
    "version": 2
   },
   "file_extension": ".py",
   "mimetype": "text/x-python",
   "name": "python",
   "nbconvert_exporter": "python",
   "pygments_lexer": "ipython2",
   "version": "2.7.12"
  }
 },
 "nbformat": 4,
 "nbformat_minor": 2
}
