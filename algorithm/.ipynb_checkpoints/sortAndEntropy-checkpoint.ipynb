{
 "cells": [
  {
   "cell_type": "markdown",
   "metadata": {},
   "source": [
    "# 实例\n",
    "* 猜数字  \n",
    "* 称球"
   ]
  },
  {
   "cell_type": "markdown",
   "metadata": {},
   "source": [
    "# 信息熵 "
   ]
  },
  {
   "cell_type": "markdown",
   "metadata": {},
   "source": [
    "* 信息  \n",
    "    * 一条信息的大小和它的不确定性由直接关系。\n",
    "    * 信息量的度量就等于不确定性的多少。 \n",
    "* 信息熵  \n",
    "    * 信息的期望 \n",
    "    * H(x) = -∑p(xi)log(p(xi)) (i=1,2,..n)    （其中p(x)是x事件出现的概率）单位为bit\n",
    "* 最大熵原理  \n",
    "    * 保留全部的不确定性，将风险降到最少\n",
    "    * 当需要对一个随机事件的概率分布进行预测时，我们的预测应当满足全部的已知条件，而对未知条件不做任何主管假设。 在这种情况下，概率分布最均匀，预测的风险最小。\n",
    "    * **不要把所有的鸡蛋放在一个篮子里**"
   ]
  },
  {
   "cell_type": "markdown",
   "metadata": {},
   "source": [
    "# 快速排序"
   ]
  },
  {
   "cell_type": "code",
   "execution_count": 11,
   "metadata": {
    "collapsed": true
   },
   "outputs": [],
   "source": [
    "def quicksort(seq):\n",
    "    if len(seq)<=1: return seq\n",
    "    lo, pi, hi = partition(seq)\n",
    "    return quicksort(lo) + [pi] + quicksort(hi)\n",
    "def partition(seq):\n",
    "    pi, seq = seq[0], seq[1:]\n",
    "    lo = [x for x in seq if x <= pi]\n",
    "    hi = [x for x in seq if x > pi]"
   ]
  },
  {
   "cell_type": "code",
   "execution_count": 13,
   "metadata": {
    "collapsed": true
   },
   "outputs": [],
   "source": [
    "def qsort(seq):\n",
    "    if len(seq) <=1: return seq\n",
    "    else:\n",
    "        pi,seq = seq[0], seq[1:]\n",
    "        lo = qsort([x for x in seq if x<=pi])\n",
    "        hi = qsort([x for x in seq if x >pi])\n",
    "        return lo + [pi] + hi "
   ]
  },
  {
   "cell_type": "markdown",
   "metadata": {},
   "source": [
    "# 堆排序 "
   ]
  },
  {
   "cell_type": "code",
   "execution_count": null,
   "metadata": {
    "collapsed": true
   },
   "outputs": [],
   "source": []
  },
  {
   "cell_type": "markdown",
   "metadata": {},
   "source": [
    "> [快速排序里的学问] http://www.nowamagic.net/librarys/veda/detail/2387"
   ]
  }
 ],
 "metadata": {
  "anaconda-cloud": {},
  "kernelspec": {
   "display_name": "Python [Root]",
   "language": "python",
   "name": "Python [Root]"
  },
  "language_info": {
   "codemirror_mode": {
    "name": "ipython",
    "version": 2
   },
   "file_extension": ".py",
   "mimetype": "text/x-python",
   "name": "python",
   "nbconvert_exporter": "python",
   "pygments_lexer": "ipython2",
   "version": "2.7.12"
  }
 },
 "nbformat": 4,
 "nbformat_minor": 2
}
