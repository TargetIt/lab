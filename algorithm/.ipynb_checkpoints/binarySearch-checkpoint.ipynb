{
 "cells": [
  {
   "cell_type": "code",
   "execution_count": 5,
   "metadata": {
    "collapsed": false,
    "deletable": true,
    "editable": true
   },
   "outputs": [
    {
     "name": "stdout",
     "output_type": "stream",
     "text": [
      "binarySearch\n"
     ]
    },
    {
     "data": {
      "text/plain": [
       "1"
      ]
     },
     "execution_count": 5,
     "metadata": {},
     "output_type": "execute_result"
    }
   ],
   "source": [
    "# iteration\n",
    "\n",
    "def binarySearch_iter(tv, seq):\n",
    "    '''\n",
    "        intput: tv, seq\n",
    "        output: the location of tv in seq\n",
    "        function: binary search\n",
    "        method: iteration\n",
    "        NOTE: seq should be a sorted one, or may cause deadlock\n",
    "    '''\n",
    "    print(\"binarySearch\")\n",
    "    # input checker\n",
    "    if len(seq) <= 1:\n",
    "        if seq[-1] == tv: return 0\n",
    "        else: return -1\n",
    "    #lo, mid, hi : used to record search range\n",
    "    lo = 0\n",
    "    hi = len(seq)\n",
    "    \n",
    "    #while lo != hi:\n",
    "    while lo < hi:\n",
    "        mid = (lo + hi)//2\n",
    "        if tv == seq[mid]: break\n",
    "        elif tv > seq[mid]:\n",
    "            lo = mid\n",
    "        else:\n",
    "            hi = mid\n",
    "    #output checker\n",
    "    if tv == seq[mid]:\n",
    "        return mid\n",
    "    else:\n",
    "        return -1\n",
    "a=binarySearch(3,[2,3,4])\n",
    "a"
   ]
  },
  {
   "cell_type": "code",
   "execution_count": 15,
   "metadata": {
    "collapsed": false,
    "deletable": true,
    "editable": true
   },
   "outputs": [],
   "source": [
    "# recursive\n",
    "\n",
    "def binarySearch_rec(tv, seq):\n",
    "    \"\"\"\n",
    "    method: recursive\n",
    "    \"\"\"\n",
    "    #input checker\n",
    "    if len(seq) <= 1:\n",
    "        if seq[-1] == tv: return 0\n",
    "        else: return -1\n",
    "    #\n",
    "    lo = 0\n",
    "    hi = len(seq)\n",
    "    mid = (lo + hi)//2\n",
    "    try:\n",
    "        if tv == seq[mid]: return 0\n",
    "        if tv < seq[mid]: binarySearch_rec(tv, seq[lo:mid])\n",
    "        if tv > seq[mid]: binarySearch_rec(tv, seq[mid:hi])\n",
    "    except:\n",
    "        print (\"Error occurred, and tv %d is not found\" % tv)\n",
    "\n",
    "binarySearch_rec(4,[4,5,7])"
   ]
  }
 ],
 "metadata": {
  "kernelspec": {
   "display_name": "Python [Root]",
   "language": "python",
   "name": "Python [Root]"
  },
  "language_info": {
   "codemirror_mode": {
    "name": "ipython",
    "version": 2
   },
   "file_extension": ".py",
   "mimetype": "text/x-python",
   "name": "python",
   "nbconvert_exporter": "python",
   "pygments_lexer": "ipython2",
   "version": "2.7.12"
  }
 },
 "nbformat": 4,
 "nbformat_minor": 2
}
