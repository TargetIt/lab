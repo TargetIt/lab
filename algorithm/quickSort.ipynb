{
 "cells": [
  {
   "cell_type": "code",
   "execution_count": null,
   "metadata": {
    "collapsed": false,
    "deletable": true,
    "editable": true
   },
   "outputs": [],
   "source": [
    "def partition(seq):\n",
    "    #pick the pivot\n",
    "    pi, seq = seq[0], seq[1:]\n",
    "    #\n",
    "    lo = [x for x in seq if x <= pi]\n",
    "    hi = [x for x in seq if x > pi]\n",
    "    #\n",
    "    return lo, pi, hi\n",
    "\n",
    "def quicksort_recr(seq):\n",
    "    \"\"\"\n",
    "    >>> quicksort_recr([1])\n",
    "    [1]\n",
    "    >>> quicksort_recr([3,4,2,8,9])\n",
    "    [2, 3, 4, 8, 9]\n",
    "    >>> quicksort_recr([2,8,-1,-6,0,9])\n",
    "    [-6, -1, 0, 2, 8, 9]\n",
    "    \"\"\"\n",
    "    #check input\n",
    "    if len(seq) <= 1: return seq\n",
    "    #\n",
    "    lo, pi, hi = partition(seq)\n",
    "    ## Notice: 1 <==> concatenate list; 2 [pi] is a list, pi is int \n",
    "    return quicksort_recr(lo) + [pi] + quicksort_recr(hi) \n",
    "\n",
    "\n",
    "if __name__ == '__main__':\n",
    "    import doctest\n",
    "    doctest.testmod()"
   ]
  },
  {
   "cell_type": "code",
   "execution_count": null,
   "metadata": {
    "collapsed": false
   },
   "outputs": [],
   "source": [
    "def qsort(seq):\n",
    "    if seq == []:\n",
    "        return []\n",
    "    else:\n",
    "        pivot = seq[0]\n",
    "        lesser = qsort([x for x in seq[1:] if x<pivot])\n",
    "        greater = qsort([x for x in seq[1:] if x>=pivot])\n",
    "        return lesser + [pivot] + greater\n",
    "if __name__ == '__main__':\n",
    "    seq = [5,6,3,-9,0,5,34,98]\n",
    "    print (qsort(seq))"
   ]
  }
 ],
 "metadata": {
  "kernelspec": {
   "display_name": "Python 3",
   "language": "python",
   "name": "python3"
  },
  "language_info": {
   "codemirror_mode": {
    "name": "ipython",
    "version": 3
   },
   "file_extension": ".py",
   "mimetype": "text/x-python",
   "name": "python",
   "nbconvert_exporter": "python",
   "pygments_lexer": "ipython3",
   "version": "3.6.0"
  }
 },
 "nbformat": 4,
 "nbformat_minor": 2
}
