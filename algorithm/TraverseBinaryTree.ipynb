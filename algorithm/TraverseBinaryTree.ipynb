{
 "cells": [
  {
   "cell_type": "code",
   "execution_count": null,
   "metadata": {
    "collapsed": true
   },
   "outputs": [],
   "source": []
  },
  {
   "cell_type": "code",
   "execution_count": 12,
   "metadata": {
    "collapsed": false,
    "deletable": true,
    "editable": true,
    "scrolled": true
   },
   "outputs": [
    {
     "name": "stdout",
     "output_type": "stream",
     "text": [
      "1\n",
      "3\n",
      "2\n",
      "7\n",
      "6\n",
      "5\n",
      "4\n",
      "0\n",
      "1\n",
      "3\n",
      "7\n",
      "0\n",
      "6\n",
      "2\n",
      "5\n",
      "4\n"
     ]
    }
   ],
   "source": [
    "## 二叉树节点\n",
    "class Node(object):\n",
    "    def __init__(self, data, left=None, right=None):\n",
    "        self.data = data\n",
    "        self.left = left\n",
    "        self.right = right\n",
    "\n",
    "tree = Node(1, Node(3, Node(7, Node(0)), Node(6)), Node(2, Node(5), Node(4)))\n",
    "\n",
    "##1\t3\n",
    "##\t\t7\n",
    "##\t\t\t0\n",
    "##\t\t6\n",
    "##\t2\n",
    "##\t\t5\n",
    "##\t\t4\n",
    "\n",
    "## 层次遍历\n",
    "def lookup(root):\n",
    "    stack = [root]\n",
    "    while stack:\n",
    "        current = stack.pop(0)\n",
    "        print current.data\n",
    "        if current.left:\n",
    "            stack.append(current.left)\n",
    "        if current.right:\n",
    "            stack.append(current.right)\n",
    "\n",
    "## 深度遍历\n",
    "\n",
    "def deep(root):\n",
    "    if not root:\n",
    "        return\n",
    "    print root.data\n",
    "    deep(root.left)\n",
    "    deep(root.right)\n",
    "\n",
    "#preOrder: mid -> left -> right\n",
    "def deep_iter(root):\n",
    "    if root == None:\n",
    "        return\n",
    "    stack = []\n",
    "    node = root\n",
    "    while node or stack:\n",
    "        while node:\n",
    "            print (node.data)\n",
    "            stack.append(node)\n",
    "            node = node.left\n",
    "        node = stack.pop()\n",
    "        node = node.right\n",
    "\n",
    "        \n",
    "if __name__ == \"__main__\":\n",
    "    lookup(tree)\n",
    "    deep_iter(tree)\n",
    "\n",
    "\n",
    "\n",
    "\n",
    "\n",
    "\n",
    "\n",
    "\n",
    "\n",
    "\n"
   ]
  },
  {
   "cell_type": "code",
   "execution_count": 13,
   "metadata": {
    "collapsed": false
   },
   "outputs": [
    {
     "data": {
      "text/plain": [
       "1"
      ]
     },
     "execution_count": 13,
     "metadata": {},
     "output_type": "execute_result"
    }
   ],
   "source": [
    "stack = [tree]\n",
    "stack.pop(0).data"
   ]
  }
 ],
 "metadata": {
  "anaconda-cloud": {},
  "kernelspec": {
   "display_name": "Python [Root]",
   "language": "python",
   "name": "Python [Root]"
  },
  "language_info": {
   "codemirror_mode": {
    "name": "ipython",
    "version": 2
   },
   "file_extension": ".py",
   "mimetype": "text/x-python",
   "name": "python",
   "nbconvert_exporter": "python",
   "pygments_lexer": "ipython2",
   "version": "2.7.12"
  }
 },
 "nbformat": 4,
 "nbformat_minor": 2
}
