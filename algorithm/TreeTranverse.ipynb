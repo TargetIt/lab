{
 "cells": [
  {
   "cell_type": "code",
   "execution_count": null,
   "metadata": {
    "collapsed": true
   },
   "outputs": [],
   "source": [
    "class Node(object):\n",
    "    def __init__(self, data, left=None, right=None):\n",
    "        self.data = data\n",
    "        self.left = left\n",
    "        self.right = right\n",
    "tree = Node(1, Node(3, Node(7, Node(0)), Node(6)), Node(2, Node(5), Node(4)))"
   ]
  },
  {
   "cell_type": "code",
   "execution_count": null,
   "metadata": {
    "collapsed": true
   },
   "outputs": [],
   "source": [
    "def preOrder_recr(self, root):\n",
    "    if root == None:\n",
    "        return\n",
    "    print root.data\n",
    "    self.preOrder_recr(root.left)\n",
    "    self.preOrder_recr(root.right)"
   ]
  },
  {
   "cell_type": "code",
   "execution_count": null,
   "metadata": {
    "collapsed": true
   },
   "outputs": [],
   "source": [
    "def inOrder_recr(self, root):\n",
    "    if root == None:\n",
    "        return\n",
    "    self.inOrder_recr(root.left)\n",
    "    print root.data\n",
    "    self.inOrder_recr(root.right)"
   ]
  },
  {
   "cell_type": "code",
   "execution_count": null,
   "metadata": {
    "collapsed": true
   },
   "outputs": [],
   "source": [
    "def postOrder_recr(self.root):\n",
    "    if root == None:\n",
    "        return\n",
    "    self.postOrder_recr(root.left)\n",
    "    self.postOrder_recr(root.right)\n",
    "    print root.data"
   ]
  },
  {
   "cell_type": "code",
   "execution_count": null,
   "metadata": {
    "collapsed": true
   },
   "outputs": [],
   "source": [
    "# preOrder\n",
    "def preOrder_iter(self, root):\n",
    "    if root == None:\n",
    "        return \n",
    "    myStack = []\n",
    "    node = root\n",
    "    while node or myStack:\n",
    "        while node:\n",
    "            print node.data\n",
    "            myStack.append(node)\n",
    "            node = node.left\n",
    "        node = myStack.pop()\n",
    "        node = node.right"
   ]
  }
 ],
 "metadata": {
  "kernelspec": {
   "display_name": "Python 3",
   "language": "python",
   "name": "python3"
  },
  "language_info": {
   "codemirror_mode": {
    "name": "ipython",
    "version": 3
   },
   "file_extension": ".py",
   "mimetype": "text/x-python",
   "name": "python",
   "nbconvert_exporter": "python",
   "pygments_lexer": "ipython3",
   "version": "3.6.0"
  }
 },
 "nbformat": 4,
 "nbformat_minor": 2
}
