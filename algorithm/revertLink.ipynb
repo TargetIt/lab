{
 "cells": [
  {
   "cell_type": "code",
   "execution_count": null,
   "metadata": {
    "collapsed": false
   },
   "outputs": [],
   "source": [
    "class Node(object):\n",
    "    def __init__(self, data=None, nnext=None):\n",
    "        self.data = data\n",
    "        self.next = nnext\n",
    "link = Node(1, Node(2, Node(3, Node(4, Node(5, Node(6, Node(7,Node(8, Node(9))))))))) \n",
    "\n",
    "def rev(link):\n",
    "    pre = link\n",
    "    cur = link.next\n",
    "    pre.next = None\n",
    "    while cur:\n",
    "        tmp = cur.next\n",
    "        cur.next = pre\n",
    "        pre = cur\n",
    "        cur = tmp\n",
    "    return pre\n",
    "\n",
    "root = rev(link)\n",
    "# traverse and print \n",
    "while root:\n",
    "    print (root.data)\n",
    "    root = root.next"
   ]
  },
  {
   "cell_type": "code",
   "execution_count": null,
   "metadata": {
    "collapsed": true
   },
   "outputs": [],
   "source": [
    "#convert 1->2->3->4 to 2->1->4->3\n",
    "\n"
   ]
  }
 ],
 "metadata": {
  "kernelspec": {
   "display_name": "Python 3",
   "language": "python",
   "name": "python3"
  },
  "language_info": {
   "codemirror_mode": {
    "name": "ipython",
    "version": 3
   },
   "file_extension": ".py",
   "mimetype": "text/x-python",
   "name": "python",
   "nbconvert_exporter": "python",
   "pygments_lexer": "ipython3",
   "version": "3.6.0"
  }
 },
 "nbformat": 4,
 "nbformat_minor": 2
}
