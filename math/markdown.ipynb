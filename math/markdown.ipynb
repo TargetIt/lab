{
 "cells": [
  {
   "cell_type": "markdown",
   "metadata": {},
   "source": [
    "# line breaks"
   ]
  },
  {
   "cell_type": "markdown",
   "metadata": {},
   "source": [
    "Line breaks:  \n",
    "A new line  \n",
    "A new line   This is not a new line\n",
    "    "
   ]
  },
  {
   "cell_type": "markdown",
   "metadata": {},
   "source": [
    "# nested quotes"
   ]
  },
  {
   "cell_type": "markdown",
   "metadata": {},
   "source": [
    ">1\n",
    ">>1.1\n",
    ">>>1.1.1"
   ]
  },
  {
   "cell_type": "markdown",
   "metadata": {},
   "source": [
    "# Ordered Lists\n",
    "In Markdown, you can list items using numbers, a +, a -, or a *. However, if the first item in a list or sublist is numbered, Markdown will interpret the entire list as ordered and will automatically number the items linearly, no matter what character you use to denote any given separate item."
   ]
  },
  {
   "cell_type": "markdown",
   "metadata": {},
   "source": [
    "#### Groceries: \n",
    "0. Fruit: \n",
    "    6. Pears \n",
    "    0. Peaches \n",
    "    0. Plums \n",
    "    4. Apples \n",
    "        2. Granny Smith \n",
    "        7. Gala \n",
    "    * Oranges \n",
    "    - Berries \n",
    "        8. Strawberries \n",
    "        + Blueberries \n",
    "        * Raspberries \n",
    "     - Bananas \n",
    "9. Bread: \n",
    "    9. Whole Wheat \n",
    "        0. With oats on crust \n",
    "        0. Without oats on crust \n",
    "     0. Rye \n",
    "     0. White \n",
    "0. Dairy: \n",
    "    0. Milk \n",
    "        0. Whole \n",
    "        0. Skim \n",
    "    0. Cheese \n",
    "        0. Wisconsin Cheddar \n",
    "        0. Pepper Jack"
   ]
  },
  {
   "cell_type": "markdown",
   "metadata": {},
   "source": [
    "# Bulleted Lists \n",
    "If you begin your list or sublist with a +, a -, or a *, then Markdown will interpret the whole list as unordered and will use bullets regardless of the characters you type before any individual list item."
   ]
  },
  {
   "cell_type": "markdown",
   "metadata": {},
   "source": [
    "#### Groceries: \n",
    "* Fruit: \n",
    "    * Pears \n",
    "    0. Peaches \n",
    "    3. Plums \n",
    "    4. Apples \n",
    "        - Granny Smith \n",
    "        7. Gala \n",
    "    * Oranges \n",
    "    - Berries \n",
    "        - Strawberries \n",
    "        + Blueberries \n",
    "        * Raspberries \n",
    "    - Bananas \n",
    "9. Bread: \n",
    "    * Whole Wheat \n",
    "        * With oats on crust \n",
    "        0. Without oats on crust \n",
    "    + Rye \n",
    "    0. White \n",
    "0. Dairy: \n",
    "    * Milk \n",
    "        + Whole \n",
    "        0. Skim \n",
    "    - Cheese \n",
    "        - Wisconsin Cheddar \n",
    "        0. Pepper Jack"
   ]
  },
  {
   "cell_type": "markdown",
   "metadata": {},
   "source": [
    "# Selection Breaks"
   ]
  },
  {
   "cell_type": "markdown",
   "metadata": {},
   "source": [
    "* * *  "
   ]
  },
  {
   "cell_type": "markdown",
   "metadata": {},
   "source": [
    "___"
   ]
  },
  {
   "cell_type": "markdown",
   "metadata": {},
   "source": [
    "- - -"
   ]
  },
  {
   "cell_type": "markdown",
   "metadata": {},
   "source": [
    "# Hyperlinks"
   ]
  },
  {
   "cell_type": "markdown",
   "metadata": {},
   "source": [
    "Automatic Links  \n",
    "http://en.wikipedia.org "
   ]
  },
  {
   "cell_type": "markdown",
   "metadata": {},
   "source": [
    "Standard Links  \n",
    "[click this link](http://en.wikipedia.org)"
   ]
  },
  {
   "cell_type": "markdown",
   "metadata": {},
   "source": [
    "Standard Links With Mouse-Over Titles  \n",
    "[click this link](http://en.wikipedia.org \"Wikipedia\")"
   ]
  },
  {
   "cell_type": "markdown",
   "metadata": {},
   "source": [
    "Reference Links  \n",
    "This is [a reference] [identification tag for link]   \n",
    "[identification tag for link]: http://en.wikipedia.org/wiki/Chile \"Wikipedia Article About Chile\""
   ]
  },
  {
   "cell_type": "markdown",
   "metadata": {},
   "source": [
    "# Tables "
   ]
  },
  {
   "cell_type": "markdown",
   "metadata": {},
   "source": [
    "|Header|Header|Header|Header|  \n",
    "|------|------|------|------| \n",
    "|Cell |Cell |Cell | Cell |  \n",
    "|Cell |Cell |Cell | Cell |  \n",
    "|Cell |Cell |Cell | Cell |  \n",
    "|Cell |Cell |Cell | Cell |"
   ]
  },
  {
   "cell_type": "markdown",
   "metadata": {},
   "source": [
    "# Style and Emphasis "
   ]
  },
  {
   "cell_type": "markdown",
   "metadata": {},
   "source": [
    "*Italics*  \n",
    "_Italics_  \n",
    "**Bold**  \n",
    "__Bold__"
   ]
  },
  {
   "cell_type": "markdown",
   "metadata": {},
   "source": [
    "# Including code"
   ]
  },
  {
   "cell_type": "markdown",
   "metadata": {},
   "source": [
    "```python \n",
    "def function(n): \n",
    "    return n + 1\n",
    "```"
   ]
  },
  {
   "cell_type": "markdown",
   "metadata": {},
   "source": [
    "# Images"
   ]
  },
  {
   "cell_type": "markdown",
   "metadata": {},
   "source": [
    "Images from the internet  \n",
    "![It doesn't matter what you write here](http://upload.wikimedia.org/wikipedia/commons/thumb/b/b7/South_African_Giraffe,_head.jpg/877px-South_African_Giraffe,_head.jpg \"Picture of a Giraffe)"
   ]
  },
  {
   "cell_type": "markdown",
   "metadata": {},
   "source": [
    "Reference-Style Images from the Internet  \n",
    "![][giraffe] \n",
    "[giraffe]:http://upload.wikimedia.org/wikipedia/commons/thumb/b/b7/South_African_Giraffe,_head.jpg/877px-South_African_Giraffe,_head.jpg \"Picture of a Giraffe\""
   ]
  },
  {
   "cell_type": "markdown",
   "metadata": {},
   "source": [
    "# References "
   ]
  },
  {
   "cell_type": "markdown",
   "metadata": {},
   "source": [
    "[^](#ref-1) [^](#ref-2) Kepps, Milo . 2002. Rebuilding Calico After Japanese Occupation."
   ]
  },
  {
   "cell_type": "markdown",
   "metadata": {},
   "source": [
    "> https://athena.brynmawr.edu/jupyter/hub/dblank/public/Jupyter%20Notebook%20Users%20Manual.ipynb#4.1-Block-Elements"
   ]
  },
  {
   "cell_type": "markdown",
   "metadata": {},
   "source": [
    "\n",
    "* \\ backslash\n",
    "* ` backtick\n",
    "* * asterisk\n",
    "* _ underscore\n",
    "* {} curly braces\n",
    "* [] square brackets\n",
    "* () parentheses\n",
    "* \\# hashtag\n",
    "* + plus sign|\n",
    "* - minus sign (hyphen)\n",
    "* . dot\n",
    "* ! exclamation mark\n",
    "\n"
   ]
  }
 ],
 "metadata": {
  "kernelspec": {
   "display_name": "Python 3",
   "language": "python",
   "name": "python3"
  },
  "language_info": {
   "codemirror_mode": {
    "name": "ipython",
    "version": 3
   },
   "file_extension": ".py",
   "mimetype": "text/x-python",
   "name": "python",
   "nbconvert_exporter": "python",
   "pygments_lexer": "ipython3",
   "version": "3.6.0"
  }
 },
 "nbformat": 4,
 "nbformat_minor": 2
}
