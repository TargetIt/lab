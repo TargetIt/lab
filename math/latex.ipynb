{
 "cells": [
  {
   "cell_type": "markdown",
   "metadata": {
    "deletable": true,
    "editable": true
   },
   "source": [
    "1、数学公式的前后要加上 $ 或 \\( 和 \\)，比如：$f(x) = 3x + 7$ 和 \\(f(x) = 3x + 7\\) 效果是一样的；\n",
    "如果用 \\[ 和 \\]，或者使用 $$ 和 $$，则该公式独占一行；\n",
    "如果用 \\begin{equation} 和 \\end{equation}，则公式除了独占一行还会自动被添加序号， 如何公式不想编号则使用 \\begin{equation*} 和 \\end{equation*}."
   ]
  },
  {
   "cell_type": "raw",
   "metadata": {
    "deletable": true,
    "editable": true
   },
   "source": [
    "2、字符\n",
    "普通字符在数学公式中含义一样，除了\n",
    "# $ % & ~ _ ^ \\ { }\n",
    "若要在数学环境中表示这些符号# $ % & _ { }，需要分别表示为\\# \\$ \\% \\& \\_ \\{ \\}，即在个字符前加上\\。"
   ]
  },
  {
   "cell_type": "markdown",
   "metadata": {
    "collapsed": true,
    "deletable": true,
    "editable": true
   },
   "source": [
    "\n"
   ]
  },
  {
   "cell_type": "markdown",
   "metadata": {
    "deletable": true,
    "editable": true
   },
   "source": [
    "$$\\sum_{i=1}^n a_i=0$$\n",
    "$$f(x)=x^{x^x}$$"
   ]
  },
  {
   "cell_type": "markdown",
   "metadata": {
    "deletable": true,
    "editable": true
   },
   "source": [
    "$\\sum_{i=0}^{n} i^2$    %第一种\n",
    "$$\\sum_{i=0}^{n} i^2$$    %第二种"
   ]
  },
  {
   "cell_type": "markdown",
   "metadata": {},
   "source": [
    "# subscripts and superscripts"
   ]
  },
  {
   "cell_type": "markdown",
   "metadata": {
    "deletable": true,
    "editable": true
   },
   "source": [
    "$$x_1$$\n",
    "$$x_1^2$$\n",
    "$$x^2_1$$\n",
    "$$x_{22}^{(n)}$$\n",
    "$${}^*\\!x^*$$    %（“\\!” 表示其前后字符之间无间隙）"
   ]
  },
  {
   "cell_type": "markdown",
   "metadata": {},
   "source": [
    "# fractions"
   ]
  },
  {
   "cell_type": "markdown",
   "metadata": {
    "deletable": true,
    "editable": true
   },
   "source": [
    "$$\\frac{x+y}{2}$$\n",
    "$$\\frac{1}{1+\\frac{1}{2}}$$"
   ]
  },
  {
   "cell_type": "markdown",
   "metadata": {
    "deletable": true,
    "editable": true
   },
   "source": [
    "$$\\sqrt{2}<\\sqrt[3]{3}$$\n",
    "$$\\sqrt{1+\\sqrt[p]{1+a^2}}$$\n",
    "$$\\sqrt{1+\\sqrt[^p\\!]{1+a^2}}$$"
   ]
  },
  {
   "cell_type": "markdown",
   "metadata": {},
   "source": [
    "$$  \\binom{n}{k} = \\frac{n!}{k!(n-k)!}  $$"
   ]
  },
  {
   "cell_type": "markdown",
   "metadata": {},
   "source": [
    "# sum and integrals"
   ]
  },
  {
   "cell_type": "markdown",
   "metadata": {
    "deletable": true,
    "editable": true
   },
   "source": [
    "$$\\sum_{k=1}^{n}\\frac{1}{k}$$\n",
    "$\\sum_{k=1}^n\\frac{1}{k}$\n",
    "$$\\int_a^b f(x)dx$$\n",
    "$\\int_a^b f(x)dx$\n",
    "微分符直体：$$\\int_a^b f(x)\\mathrm{d}x$$"
   ]
  },
  {
   "cell_type": "markdown",
   "metadata": {
    "deletable": true,
    "editable": true
   },
   "source": [
    "紧贴 $a\\!b$\n",
    "没有空格 $ab$\n",
    "小空格 a\\,b\n",
    "中等空格 a\\;b\n",
    "大空格 a\\ b\n",
    "quad空格 $a\\quad b$\n",
    "两个quad空格 $a\\qquad b$"
   ]
  },
  {
   "cell_type": "markdown",
   "metadata": {
    "deletable": true,
    "editable": true
   },
   "source": [
    "$$\\int_a^b f(x)\\mathrm{d}x$$\n",
    "插入小空格：$$\\int_a^b f(x)\\,\\mathrm{d}x$$"
   ]
  },
  {
   "cell_type": "markdown",
   "metadata": {},
   "source": [
    "# Brackets and Parentheses"
   ]
  },
  {
   "cell_type": "markdown",
   "metadata": {
    "deletable": true,
    "editable": true
   },
   "source": [
    "$($    %(\n",
    "$)$    %)\n",
    "$[$    %[\n",
    "$]$    %]\n",
    "$\\{$    %{\n",
    "$\\}$    %}\n",
    "$|$    %|\n",
    "$\\|$    %||"
   ]
  },
  {
   "cell_type": "markdown",
   "metadata": {},
   "source": [
    "# Matrix"
   ]
  },
  {
   "cell_type": "markdown",
   "metadata": {
    "deletable": true,
    "editable": true
   },
   "source": [
    "$$\\left(\\sum_{k=\\frac{1}{2}}^{N^2}\\frac{1}{k}\\right)$$"
   ]
  },
  {
   "cell_type": "markdown",
   "metadata": {
    "deletable": true,
    "editable": true
   },
   "source": [
    "$$\\begin{matrix}1 & 2\\\\3 &4\\end{matrix}$$\n",
    "$$\\begin{pmatrix}1 & 2\\\\3 &4\\end{pmatrix}$$\n",
    "$$\\begin{bmatrix}1 & 2\\\\3 &4\\end{bmatrix}$$\n",
    "$$\\begin{Bmatrix}1 & 2\\\\3 &4\\end{Bmatrix}$$\n",
    "$$\\begin{vmatrix}1 & 2\\\\3 &4\\end{vmatrix}$$\n",
    "$$\\begin{Vmatrix}1 & 2\\\\3 &4\\end{Vmatrix}$$"
   ]
  },
  {
   "cell_type": "markdown",
   "metadata": {
    "deletable": true,
    "editable": true
   },
   "source": [
    "$$\n",
    "\\mathbf{X} =\n",
    "\\left( \\begin{array}{ccc}\n",
    "x_{11} & x_{12} & \\ldots \\\\\n",
    "x_{21} & x_{22} & \\ldots \\\\\n",
    "\\vdots & \\vdots & \\ddots\n",
    "\\end{array} \\right)\n",
    "$$"
   ]
  },
  {
   "cell_type": "markdown",
   "metadata": {
    "deletable": true,
    "editable": true
   },
   "source": [
    "$$\n",
    "y = \\left\\{ \\begin{array}{ll}\n",
    "a & \\textrm{if $d>c$}\\\\\n",
    "b+x & \\textrm{in the morning}\\\\\n",
    "l & \\textrm{all day long}\n",
    "\\end{array} \\right.\n",
    "$$"
   ]
  },
  {
   "cell_type": "markdown",
   "metadata": {
    "deletable": true,
    "editable": true
   },
   "source": [
    "$$\n",
    "\\left(\\begin{array}{c|c}\n",
    "1 & 2 \\\\\n",
    "\\hline\n",
    "3 & 4\n",
    "\\end{array}\\right)\n",
    "$$"
   ]
  }
 ],
 "metadata": {
  "kernelspec": {
   "display_name": "Python 3",
   "language": "python",
   "name": "python3"
  },
  "language_info": {
   "codemirror_mode": {
    "name": "ipython",
    "version": 3
   },
   "file_extension": ".py",
   "mimetype": "text/x-python",
   "name": "python",
   "nbconvert_exporter": "python",
   "pygments_lexer": "ipython3",
   "version": "3.6.0"
  }
 },
 "nbformat": 4,
 "nbformat_minor": 2
}
