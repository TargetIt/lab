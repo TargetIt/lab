{
 "cells": [
  {
   "cell_type": "markdown",
   "metadata": {},
   "source": [
    "## base64"
   ]
  },
  {
   "cell_type": "code",
   "execution_count": null,
   "metadata": {
    "collapsed": false
   },
   "outputs": [],
   "source": [
    "import base64\n",
    "s = 'hello,word'\n"
   ]
  },
  {
   "cell_type": "markdown",
   "metadata": {},
   "source": [
    "# md5"
   ]
  },
  {
   "cell_type": "code",
   "execution_count": null,
   "metadata": {
    "collapsed": false
   },
   "outputs": [],
   "source": [
    "import hashlib\n",
    "m = hashlib.md5()\n",
    "m.update(b'hello,word')\n",
    "m.hexdigest()"
   ]
  },
  {
   "cell_type": "markdown",
   "metadata": {},
   "source": [
    "# crc32 "
   ]
  },
  {
   "cell_type": "code",
   "execution_count": null,
   "metadata": {
    "collapsed": false
   },
   "outputs": [],
   "source": [
    "import zlib\n",
    "import binascii\n",
    "s = b'hello,word!'\n",
    "zlib.crc32(s)"
   ]
  },
  {
   "cell_type": "code",
   "execution_count": null,
   "metadata": {
    "collapsed": false
   },
   "outputs": [],
   "source": [
    "binascii.crc32(s)"
   ]
  },
  {
   "cell_type": "markdown",
   "metadata": {},
   "source": [
    "# crypt "
   ]
  },
  {
   "cell_type": "code",
   "execution_count": null,
   "metadata": {
    "collapsed": false
   },
   "outputs": [],
   "source": [
    "import crypt\n",
    "import random\n",
    "import string\n",
    "chars = string.digits + string.letters\n",
    "\n",
    "def getsalt(chars):\n",
    "    return random.choice(chars) + random.choice(chars)\n",
    "\n",
    "salt = getsalt(chars)\n",
    "\n",
    "msg = crypt.crypt('hello,world', salt)"
   ]
  },
  {
   "cell_type": "markdown",
   "metadata": {},
   "source": [
    "# AES"
   ]
  },
  {
   "cell_type": "code",
   "execution_count": 30,
   "metadata": {
    "collapsed": false
   },
   "outputs": [
    {
     "name": "stdout",
     "output_type": "stream",
     "text": [
      "加密后的值为： 80ebc69b5357ee5184539f3b21c23a210df1181a4b5b797c81bfc384\n",
      "解密后的值为： 我是明文\n"
     ]
    }
   ],
   "source": [
    "from Crypto.Cipher import AES\n",
    "from Crypto import Random\n",
    "import binascii\n",
    "\n",
    "key = '1234567890!@#$%^'  #秘钥，必须是16、24或32字节长度\n",
    "iv = Random.new().read(16) #随机向量，必须是16字节长度\n",
    "\n",
    "cipher1 = AES.new(key, AES.MODE_CFB, iv)\n",
    "\n",
    "\n",
    "encrypt_msg = iv + cipher1.encrypt('我是明文') #附加上iv值是为了在解密时找到在加密时用到的随机iv\n",
    "print '加密后的值为：',binascii.b2a_hex(encrypt_msg) #将二进制密文转换为16机制显示\n",
    "\n",
    "cipher2 = AES.new(key,AES.MODE_CFB,encrypt_msg[:16]) #解密时必须重新创建新的密文生成器\n",
    "decrypt_msg = cipher2.decrypt(encrypt_msg[16:]) #后十六位是真正的密文\n",
    "print '解密后的值为：',decrypt_msg.decode('utf-8')"
   ]
  },
  {
   "cell_type": "markdown",
   "metadata": {},
   "source": [
    "# DES3"
   ]
  },
  {
   "cell_type": "code",
   "execution_count": 34,
   "metadata": {
    "collapsed": false
   },
   "outputs": [
    {
     "name": "stdout",
     "output_type": "stream",
     "text": [
      "加密后的值为： 380bcf0f0c527be4c7e4ac80bd4955fd0922774414491918c550c077ebedbfe7\n",
      "解密后的值为： 我是明文必须是八\n"
     ]
    }
   ],
   "source": [
    "\n",
    "from Crypto.Cipher import DES3\n",
    "from Crypto import Random\n",
    "import binascii\n",
    "\n",
    "key = '1234567890!@#$%^'\n",
    "iv = Random.new().read(8)  #iv值必须是8位\n",
    "cipher1 = DES3.new(key,DES3.MODE_OFB,iv)  #密文生成器，采用MODE_OFB加密模式\n",
    "encrypt_msg =  iv + cipher1.encrypt('我是明文必须是八')\n",
    "#附加上iv值是为了在解密时找到在加密时用到的随机iv,加密的密文必须是八字节的整数倍，最后部分\n",
    "#不足八字节的，需要补位\n",
    "print '加密后的值为：',binascii.b2a_hex(encrypt_msg)   #将二进制密文转换为16进制显示\n",
    "\n",
    "\n",
    "cipher2 = DES3.new(key,DES3.MODE_OFB,encrypt_msg[:8]) #解密时必须重新创建新的密文生成器\n",
    "decrypt_msg = cipher2.decrypt(encrypt_msg[8:]) #后八位是真正的密文\n",
    "print '解密后的值为：',decrypt_msg"
   ]
  },
  {
   "cell_type": "markdown",
   "metadata": {},
   "source": [
    "# summary: how to investigate a module "
   ]
  },
  {
   "cell_type": "code",
   "execution_count": 37,
   "metadata": {
    "collapsed": true
   },
   "outputs": [],
   "source": [
    "from Crypto.Cipher import AES\n",
    "from Crypto import Random\n",
    "import binascii"
   ]
  },
  {
   "cell_type": "code",
   "execution_count": 38,
   "metadata": {
    "collapsed": true
   },
   "outputs": [],
   "source": [
    "from Crypto.Cipher import DES3\n",
    "from Crypto import Random\n",
    "import binascii"
   ]
  },
  {
   "cell_type": "code",
   "execution_count": 39,
   "metadata": {
    "collapsed": false
   },
   "outputs": [],
   "source": [
    "import Crypto\n",
    "import Crypto.Cipher"
   ]
  },
  {
   "cell_type": "code",
   "execution_count": 40,
   "metadata": {
    "collapsed": false
   },
   "outputs": [
    {
     "name": "stdout",
     "output_type": "stream",
     "text": [
      "Python Cryptography Toolkit\n",
      "\n",
      "A collection of cryptographic modules implementing various algorithms\n",
      "and protocols.\n",
      "\n",
      "Subpackages:\n",
      "\n",
      "Crypto.Cipher\n",
      " Secret-key (AES, DES, ARC4) and public-key encryption (RSA PKCS#1) algorithms\n",
      "Crypto.Hash\n",
      " Hashing algorithms (MD5, SHA, HMAC)\n",
      "Crypto.Protocol\n",
      " Cryptographic protocols (Chaffing, all-or-nothing transform, key derivation\n",
      " functions). This package does not contain any network protocols.\n",
      "Crypto.PublicKey\n",
      " Public-key encryption and signature algorithms (RSA, DSA)\n",
      "Crypto.Signature\n",
      " Public-key signature algorithms (RSA PKCS#1) \n",
      "Crypto.Util\n",
      " Various useful modules and functions (long-to-string conversion, random number\n",
      " generation, number theoretic functions)\n",
      "\n"
     ]
    }
   ],
   "source": [
    "print Crypto.__doc__"
   ]
  },
  {
   "cell_type": "code",
   "execution_count": 41,
   "metadata": {
    "collapsed": false
   },
   "outputs": [
    {
     "name": "stdout",
     "output_type": "stream",
     "text": [
      "Symmetric- and asymmetric-key encryption algorithms.\n",
      "\n",
      "Encryption algorithms transform plaintext in some way that\n",
      "is dependent on a key or key pair, producing ciphertext.\n",
      "\n",
      "Symmetric algorithms\n",
      "--------------------\n",
      "\n",
      "Encryption can easily be reversed, if (and, hopefully, only if)\n",
      "one knows the same key.\n",
      "In other words, sender and receiver share the same key.\n",
      "\n",
      "The symmetric encryption modules here all support the interface described in PEP\n",
      "272, \"API for Block Encryption Algorithms\".\n",
      "\n",
      "If you don't know which algorithm to choose, use AES because it's\n",
      "standard and has undergone a fair bit of examination.\n",
      "\n",
      "========================    =======   ========================\n",
      "Module name                 Type      Description\n",
      "========================    =======   ========================\n",
      "`Crypto.Cipher.AES`         Block     Advanced Encryption Standard\n",
      "`Crypto.Cipher.ARC2`        Block     Alleged RC2\n",
      "`Crypto.Cipher.ARC4`        Stream    Alleged RC4\n",
      "`Crypto.Cipher.Blowfish`    Block     Blowfish\n",
      "`Crypto.Cipher.CAST`        Block     CAST\n",
      "`Crypto.Cipher.DES`         Block     The Data Encryption Standard.\n",
      "                                      Very commonly used in the past,\n",
      "                                      but today its 56-bit keys are too small.\n",
      "`Crypto.Cipher.DES3`        Block     Triple DES.\n",
      "`Crypto.Cipher.XOR`         Stream    The simple XOR cipher.\n",
      "========================    =======   ========================\n",
      "\n",
      "\n",
      "Asymmetric algorithms\n",
      "---------------------\n",
      "\n",
      "For asymmetric algorithms, the key to be used for decryption is totally\n",
      "different and cannot be derived in a feasible way from the key used\n",
      "for encryption. Put differently, sender and receiver each own one half\n",
      "of a key pair. The encryption key is often called ``public`` whereas\n",
      "the decryption key is called ``private``.\n",
      "\n",
      "==========================    =======================\n",
      "Module name                   Description\n",
      "==========================    =======================\n",
      "`Crypto.Cipher.PKCS1_v1_5`    PKCS#1 v1.5 encryption, based on RSA key pairs\n",
      "`Crypto.Cipher.PKCS1_OAEP`    PKCS#1 OAEP encryption, based on RSA key pairs\n",
      "==========================    =======================\n",
      "\n",
      ":undocumented: __revision__, __package__, _AES, _ARC2, _ARC4, _Blowfish\n",
      "               _CAST, _DES, _DES3, _XOR\n",
      "\n"
     ]
    }
   ],
   "source": [
    "print Crypto.Cipher.__doc__"
   ]
  }
 ],
 "metadata": {
  "anaconda-cloud": {},
  "kernelspec": {
   "display_name": "Python [Root]",
   "language": "python",
   "name": "Python [Root]"
  },
  "language_info": {
   "codemirror_mode": {
    "name": "ipython",
    "version": 2
   },
   "file_extension": ".py",
   "mimetype": "text/x-python",
   "name": "python",
   "nbconvert_exporter": "python",
   "pygments_lexer": "ipython2",
   "version": "2.7.12"
  }
 },
 "nbformat": 4,
 "nbformat_minor": 0
}
