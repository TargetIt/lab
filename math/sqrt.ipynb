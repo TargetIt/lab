{
 "cells": [
  {
   "cell_type": "code",
   "execution_count": 2,
   "metadata": {
    "collapsed": true
   },
   "outputs": [],
   "source": [
    "import numpy as np\n",
    "import matplotlib as mpl\n",
    "import matplotlib.pyplot as plt\n",
    "import math"
   ]
  },
  {
   "cell_type": "code",
   "execution_count": 56,
   "metadata": {
    "collapsed": false
   },
   "outputs": [],
   "source": [
    "# random \n",
    "def sqrt_rand(a):\n",
    "    if a < 1e-6:\n",
    "        return 0\n",
    "    if a >= 1:\n",
    "        left, right = 1.0,a\n",
    "    else:\n",
    "        left, right = 0,1.0\n",
    "    \n",
    "    bestVal = 0.0\n",
    "    minDiff = float('inf')\n",
    "    for i in range(1000):\n",
    "        tryVal = (right-left)*abs(np.random.randn(1)) + left\n",
    "        if abs(tryVal**2 - a)  < minDiff:\n",
    "            bestVal = tryVal\n",
    "            minDiff = abs(tryVal**2 - a)\n",
    "    return bestVal"
   ]
  },
  {
   "cell_type": "code",
   "execution_count": 4,
   "metadata": {
    "collapsed": true
   },
   "outputs": [],
   "source": [
    "# binary scan\n",
    "def sqrt_bs(a):\n",
    "    if a < 1e-6:\n",
    "        return 0\n",
    "    lo,hi = 0, a\n",
    "    mid = (lo + hi)/2\n",
    "    while hi - lo > 1e-6:\n",
    "        if mid**2 > a:\n",
    "            hi = mid\n",
    "        else:\n",
    "            lo = mid\n",
    "        mid = (lo + hi)/2\n",
    "    return mid"
   ]
  },
  {
   "cell_type": "code",
   "execution_count": 11,
   "metadata": {
    "collapsed": false
   },
   "outputs": [
    {
     "data": {
      "text/plain": [
       "5.000000074505806"
      ]
     },
     "execution_count": 11,
     "metadata": {},
     "output_type": "execute_result"
    }
   ],
   "source": [
    "# gradient "
   ]
  },
  {
   "cell_type": "code",
   "execution_count": 59,
   "metadata": {
    "collapsed": false
   },
   "outputs": [],
   "source": [
    "# Newton\n",
    "def func(a):\n",
    "    if a < 1e-6:\n",
    "        return 0\n",
    "    last = a\n",
    "    c = a / 2\n",
    "    while math.fabs(c - last) > 1e-6:\n",
    "        last = c\n",
    "        c = (c + a/c) / 2\n",
    "    return c\n"
   ]
  },
  {
   "cell_type": "code",
   "execution_count": 58,
   "metadata": {
    "collapsed": false
   },
   "outputs": [
    {
     "data": {
      "text/plain": [
       "array([ 2.99800689])"
      ]
     },
     "execution_count": 58,
     "metadata": {},
     "output_type": "execute_result"
    }
   ],
   "source": [
    "# Gradient"
   ]
  },
  {
   "cell_type": "code",
   "execution_count": null,
   "metadata": {
    "collapsed": true
   },
   "outputs": [],
   "source": [
    "# Monta calo"
   ]
  }
 ],
 "metadata": {
  "kernelspec": {
   "display_name": "Python 3",
   "language": "python",
   "name": "python3"
  },
  "language_info": {
   "codemirror_mode": {
    "name": "ipython",
    "version": 3
   },
   "file_extension": ".py",
   "mimetype": "text/x-python",
   "name": "python",
   "nbconvert_exporter": "python",
   "pygments_lexer": "ipython3",
   "version": "3.6.0"
  }
 },
 "nbformat": 4,
 "nbformat_minor": 2
}
