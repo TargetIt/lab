{
 "cells": [
  {
   "cell_type": "code",
   "execution_count": 2,
   "metadata": {
    "collapsed": true
   },
   "outputs": [],
   "source": [
    "import numpy as np\n",
    "import matplotlib as mpl\n",
    "import matplotlib.pyplot as plt\n",
    "import math"
   ]
  },
  {
   "cell_type": "code",
   "execution_count": 56,
   "metadata": {
    "collapsed": false
   },
   "outputs": [],
   "source": [
    "# random \n",
    "def sqrt_rand(a):\n",
    "    if a < 1e-6:\n",
    "        return 0\n",
    "    if a >= 1:\n",
    "        left, right = 1.0,a\n",
    "    else:\n",
    "        left, right = 0,1.0\n",
    "    \n",
    "    bestVal = 0.0\n",
    "    minDiff = float('inf')\n",
    "    for i in range(1000):\n",
    "        tryVal = (right-left)*abs(np.random.randn(1)) + left\n",
    "        if abs(tryVal**2 - a)  < minDiff:\n",
    "            bestVal = tryVal\n",
    "            minDiff = abs(tryVal**2 - a)\n",
    "    return bestVal"
   ]
  },
  {
   "cell_type": "code",
   "execution_count": 4,
   "metadata": {
    "collapsed": true
   },
   "outputs": [],
   "source": [
    "# binary scan\n",
    "def sqrt_bs(a):\n",
    "    if a < 1e-6:\n",
    "        return 0\n",
    "    lo,hi = 0, a\n",
    "    mid = (lo + hi)/2\n",
    "    while hi - lo > 1e-6:\n",
    "        if mid**2 > a:\n",
    "            hi = mid\n",
    "        else:\n",
    "            lo = mid\n",
    "        mid = (lo + hi)/2\n",
    "    return mid"
   ]
  },
  {
   "cell_type": "code",
   "execution_count": 59,
   "metadata": {
    "collapsed": false
   },
   "outputs": [],
   "source": [
    "# Newton\n",
    "# f(x) = x**2 -a, solve x when f(x)=0\n",
    "# x(n+1) = (x(n))\n",
    "def sqrt_newton(a):\n",
    "    if a < 1e-6:\n",
    "        return 0\n",
    "    last = a\n",
    "    c = a / 2\n",
    "    while math.fabs(c - last) > 1e-6:\n",
    "        last = c\n",
    "        c = (c + a/c) / 2\n",
    "    return c\n"
   ]
  },
  {
   "cell_type": "code",
   "execution_count": 24,
   "metadata": {
    "collapsed": false
   },
   "outputs": [],
   "source": [
    "# Gradient\n",
    "# the derivative of f(x)=x**2-a is 2x\n",
    "def sqrt_grad(a):\n",
    "    if a < 1e-6:\n",
    "        return 0\n",
    "    alpha = 0.1\n",
    "    xcur = a\n",
    "    grad = 2*xcur  \n",
    "    for i in range(1000):\n",
    "        error = xcur**2 - a\n",
    "        alpha = 0.1/(i+1) + 1e-6\n",
    "        if error > 0:\n",
    "            xcur -= alpha * grad\n",
    "        else:\n",
    "            xcur += alpha * grad \n",
    "        grad = 2*xcur\n",
    "        #print (error, alpha, grad, xcur)\n",
    "    return xcur\n",
    " "
   ]
  },
  {
   "cell_type": "code",
   "execution_count": 28,
   "metadata": {
    "collapsed": false
   },
   "outputs": [
    {
     "data": {
      "text/plain": [
       "215.30624318459047"
      ]
     },
     "execution_count": 28,
     "metadata": {},
     "output_type": "execute_result"
    }
   ],
   "source": [
    "sqrt_grad(1000)"
   ]
  }
 ],
 "metadata": {
  "kernelspec": {
   "display_name": "Python 3",
   "language": "python",
   "name": "python3"
  },
  "language_info": {
   "codemirror_mode": {
    "name": "ipython",
    "version": 3
   },
   "file_extension": ".py",
   "mimetype": "text/x-python",
   "name": "python",
   "nbconvert_exporter": "python",
   "pygments_lexer": "ipython3",
   "version": "3.6.0"
  }
 },
 "nbformat": 4,
 "nbformat_minor": 2
}
