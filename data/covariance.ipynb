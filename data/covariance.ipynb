{
 "cells": [
  {
   "cell_type": "code",
   "execution_count": 13,
   "metadata": {
    "collapsed": false,
    "deletable": true,
    "editable": true
   },
   "outputs": [],
   "source": [
    "import numpy as np\n",
    "import pandas as pd\n",
    "import seaborn\n",
    "import statsmodels\n",
    "import matplotlib.pyplot as plt\n",
    "from statsmodels.tsa.stattools import coint\n",
    "import logging"
   ]
  },
  {
   "cell_type": "code",
   "execution_count": 46,
   "metadata": {
    "collapsed": false,
    "deletable": true,
    "editable": true
   },
   "outputs": [],
   "source": [
    "logging.basicConfig(level=logging.DEBUG,\n",
    "                   format='%(asctime)s %(filename)s[line:%(lineno)d] %(levelname)s %(message)s',\n",
    "                   datefmt='%a, %d %b %Y %H:%M:%S',\n",
    "                   filename='myapp.log',\n",
    "                   filemode='w')\n",
    "logging.debug('This is debug message')\n",
    "logging.info('This is info message')\n",
    "logging.warning('This is warning message')\n",
    "\n",
    "a = 3\n",
    "b = 4\n",
    "logging.info(\"a=%d, b =%d\", a, b)"
   ]
  },
  {
   "cell_type": "code",
   "execution_count": 55,
   "metadata": {
    "collapsed": false,
    "deletable": true,
    "editable": true
   },
   "outputs": [],
   "source": [
    "np.random.seed(100)\n",
    "mu,sigma = 0, 1 # mean and standard deviation\n",
    "x = np.random.normal(mu, sigma, 500)\n",
    "y = np.random.normal(mu, sigma, 500)\n",
    "X = pd.Series(np.cumsum(x)) + 100\n",
    "Y = X + y + 30\n",
    "# add trend item for X and Y\n",
    "for i in range(500):\n",
    "    X[i] = X[i] #- i/10\n",
    "    Y[i] = Y[i] #- i/10\n",
    "plt.plot(X); \n",
    "plt.plot(Y);\n",
    "plt.xlabel(\"Time\"); plt.ylabel(\"Price\");\n",
    "plt.legend([\"X\", \"Y\"]);\n"
   ]
  },
  {
   "cell_type": "code",
   "execution_count": 56,
   "metadata": {
    "collapsed": false,
    "deletable": true,
    "editable": true,
    "scrolled": true
   },
   "outputs": [
    {
     "data": {
      "text/plain": [
       "500"
      ]
     },
     "execution_count": 56,
     "metadata": {},
     "output_type": "execute_result"
    }
   ],
   "source": [
    "plt.plot(Y-X);\n",
    "plt.axhline((Y-X).mean(), color=\"red\", linestyle=\"--\");\n",
    "plt.xlabel(\"Time\"); plt.ylabel(\"Price\");\n",
    "plt.legend([\"Y-X\", \"Mean\"]);\n",
    "\n",
    "X.shape[0]"
   ]
  },
  {
   "cell_type": "code",
   "execution_count": 57,
   "metadata": {
    "collapsed": false,
    "deletable": true,
    "editable": true
   },
   "outputs": [
    {
     "name": "stdout",
     "output_type": "stream",
     "text": [
      "29.9718738591\n"
     ]
    }
   ],
   "source": [
    "# calculate z-score\n",
    "# account for transaction fee\n",
    "def zscore(series):\n",
    "    return (series - series.mean()) / np.std(series)\n",
    "\n",
    "#print mean(Y-X)\n",
    "print (Y-X).mean()\n",
    "\n",
    "def bit_score(series1, series2, fee1=0.003, fee2=0.003, min_profit=0.1):\n",
    "    series = series1 - series2\n",
    "    mu = series.mean()\n",
    "    sigma = np.std(series)\n",
    "    z_score = (series.loc[series.shape[0]-1]-mu) / sigma\n",
    "    margin1 = mu - series1.loc[series1.shape[0]-1]*(1+fee1) - min_profit\n",
    "    margin2 = mu - series2.loc[series2.shape[0]-1]*(1+fee2) - min_profit\n",
    "    dbg_templet = \"p1:%f, p2:%f, mu:%f, sigma:%f, z_score:%f, margin1:%f, margin2:%f\"\n",
    "    dbg_tuple = (series1.loc[series1.shape[0]-1],series2.loc[series2.shape[0]-1], mu, sigma, z_score, margin1, margin2)\n",
    "    logging.debug((\"bit_score: \" + dbg_templet)%dbg_tuple)\n",
    "    #log\n",
    "    if z_score > 1 and margin2 > 0:\n",
    "        #log\n",
    "        return \"buy2\"\n",
    "    if z_score < -1 and margin1 > 0:\n",
    "        #log\n",
    "        return \"buy1\"\n",
    "        \n",
    "bit_score(X,Y)\n",
    "    \n",
    "#print (Y-X)[-1]"
   ]
  },
  {
   "cell_type": "code",
   "execution_count": 50,
   "metadata": {
    "collapsed": false,
    "deletable": true,
    "editable": true
   },
   "outputs": [
    {
     "name": "stdout",
     "output_type": "stream",
     "text": [
      "3\n",
      "3\n"
     ]
    }
   ],
   "source": [
    "s=pd.Series([1,2,3])\n",
    "print s.shape[0]\n",
    "print s.loc[s.shape[0]-1]\n",
    "#print dir(s.tail(1))"
   ]
  },
  {
   "cell_type": "code",
   "execution_count": 41,
   "metadata": {
    "collapsed": true,
    "deletable": true,
    "editable": true
   },
   "outputs": [],
   "source": [
    "class my_account(object):\n",
    "    \"\"\"This is my_account\"\"\"\n",
    "    def __init__(self, RMB, BitCoin, Fee):\n",
    "        self.RMB = RMB\n",
    "        self.BitCoin = BitCoin\n",
    "        self.Fee = Fee\n",
    "        self.state = \"even\"\n",
    "        self.BuyPrice = 8000\n",
    "    def order_taget(RMB, BitCoin):\n",
    "        self.RMB += RMB\n",
    "        self.BitCoin += BitCoin"
   ]
  },
  {
   "cell_type": "code",
   "execution_count": 40,
   "metadata": {
    "collapsed": false,
    "deletable": true,
    "editable": true
   },
   "outputs": [],
   "source": [
    "## -------------------------------------\n",
    "## output states: \n",
    "##     buy1,buy2,side1,side2\n",
    "##     sell1,sell2\n",
    "##     price1, price2\n",
    "##     abort\n",
    "## -------------------------------------\n",
    "def get_signal():\n",
    "    z_score = z_test()\n",
    "    if z_score > 1:\n",
    "        return('buy1')\n",
    "    if z_score < -1:\n",
    "        return('buy2')\n",
    "    if -1 <= z_score <= 1:\n",
    "        if z_score >= 0:\n",
    "            return('side1')\n",
    "        else:\n",
    "            return('side2')\n",
    "        \n",
    "def change_positions(new_state):\n",
    "    if new_state == 'buy1':\n",
    "        pass\n",
    "        # send command to buy 1\n",
    "        # detect feedback\n",
    "        # if everything is OK, update my_account\n",
    "        # else, raise EXCEPTION\n",
    "    if new_state == 'buy2':\n",
    "        pass\n",
    "        # send command to buy 2\n",
    "        # detect feedback\n",
    "        # if everything is OK, update my_account\n",
    "        # else, raise EXCEPTION"
   ]
  }
 ],
 "metadata": {
  "kernelspec": {
   "display_name": "Python 2",
   "language": "python",
   "name": "python2"
  },
  "language_info": {
   "codemirror_mode": {
    "name": "ipython",
    "version": 2
   },
   "file_extension": ".py",
   "mimetype": "text/x-python",
   "name": "python",
   "nbconvert_exporter": "python",
   "pygments_lexer": "ipython2",
   "version": "2.7.10"
  }
 },
 "nbformat": 4,
 "nbformat_minor": 0
}
