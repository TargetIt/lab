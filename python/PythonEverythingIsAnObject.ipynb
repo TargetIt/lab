{
 "cells": [
  {
   "cell_type": "markdown",
   "metadata": {},
   "source": [
    "# Everything is an object. "
   ]
  },
  {
   "cell_type": "markdown",
   "metadata": {},
   "source": [
    "### data is an object"
   ]
  },
  {
   "cell_type": "code",
   "execution_count": null,
   "metadata": {
    "collapsed": true
   },
   "outputs": [],
   "source": [
    "dir(10)\n",
    "dir(str)\n",
    "dir(list)\n",
    "dir(dict)"
   ]
  },
  {
   "cell_type": "markdown",
   "metadata": {},
   "source": [
    "### Function is an object. "
   ]
  },
  {
   "cell_type": "code",
   "execution_count": null,
   "metadata": {
    "collapsed": false
   },
   "outputs": [],
   "source": [
    "# define a function via lamda\n",
    "func = lambda x,y: x + y\n",
    "print (func(3,4))"
   ]
  },
  {
   "cell_type": "code",
   "execution_count": null,
   "metadata": {
    "collapsed": false
   },
   "outputs": [],
   "source": [
    "# pass a function as a parameter\n",
    "def test(f,a,b):\n",
    "    print ('test')\n",
    "    print (f(a,b))\n",
    "test(func,3,5)"
   ]
  },
  {
   "cell_type": "code",
   "execution_count": null,
   "metadata": {
    "collapsed": false
   },
   "outputs": [],
   "source": [
    "# map, filter and reduce are built-in function of python, the 1st parameter must be a function object.\n",
    "\n",
    "#map\n",
    "\n",
    "map(int, ['1','0','-1'])\n",
    "\n",
    "#filter\n",
    "\n",
    "def func(a):\n",
    "    if a > 100: \n",
    "        return True\n",
    "    else:\n",
    "        return False\n",
    "filter(func,[10,56,101,500])\n",
    "\n",
    "#reduce\n",
    "# below is (((1+2)+5)+7)+9\n",
    "reduce((lambda x,y: x+y),[1,2,5,7,9])"
   ]
  },
  {
   "cell_type": "code",
   "execution_count": null,
   "metadata": {
    "collapsed": true
   },
   "outputs": [],
   "source": []
  }
 ],
 "metadata": {
  "kernelspec": {
   "display_name": "Python 3",
   "language": "python",
   "name": "python3"
  },
  "language_info": {
   "codemirror_mode": {
    "name": "ipython",
    "version": 3
   },
   "file_extension": ".py",
   "mimetype": "text/x-python",
   "name": "python",
   "nbconvert_exporter": "python",
   "pygments_lexer": "ipython3",
   "version": "3.6.0"
  }
 },
 "nbformat": 4,
 "nbformat_minor": 2
}
