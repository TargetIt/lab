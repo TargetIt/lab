{
 "cells": [
  {
   "cell_type": "markdown",
   "metadata": {},
   "source": [
    "### Closure is an import syntax of Functional Programming"
   ]
  },
  {
   "cell_type": "code",
   "execution_count": null,
   "metadata": {
    "collapsed": false
   },
   "outputs": [],
   "source": [
    "# the scope of a function \n",
    "def line_conf():\n",
    "    def line(x):\n",
    "        return 2*x + 1\n",
    "    print (line(5)) # within the scope\n",
    "\n",
    "line_conf()\n",
    "print(line(5)) # out of the scope\n",
    "\n",
    "# NameError: name 'line' is not defined"
   ]
  },
  {
   "cell_type": "code",
   "execution_count": null,
   "metadata": {
    "collapsed": false
   },
   "outputs": [],
   "source": [
    "# Closure\n",
    "def line_conf():\n",
    "    def line(x):\n",
    "        return 2*x + 1\n",
    "    return line\n",
    "\n",
    "my_line = line_conf()\n",
    "print(my_line(5))\n",
    "#print(line_conf()(7)) "
   ]
  },
  {
   "cell_type": "code",
   "execution_count": null,
   "metadata": {
    "collapsed": false
   },
   "outputs": [],
   "source": [
    "#Closure: comprises of a subroutine and its environment var  \n",
    "\n",
    "def line_conf():\n",
    "    b = 15   # b is the environment variable of line, but not contained by line.\n",
    "    def line(x):\n",
    "        return 2*x + b\n",
    "    return line\n",
    "\n",
    "b = 5\n",
    "my_line = line_conf()\n",
    "print(my_line(5))   # x = 5, b =15; \n",
    "#print(line_conf()(5)) "
   ]
  },
  {
   "cell_type": "code",
   "execution_count": null,
   "metadata": {
    "collapsed": false
   },
   "outputs": [],
   "source": [
    "def line_conf():\n",
    "    b = 15\n",
    "    def line(x):\n",
    "        return 2*x+b\n",
    "    return line       # return a function object\n",
    "\n",
    "b = 5\n",
    "my_line = line_conf()\n",
    "print(my_line.__closure__)\n",
    "#print(my_line.__closure__[0].cell_contents)"
   ]
  },
  {
   "cell_type": "code",
   "execution_count": null,
   "metadata": {
    "collapsed": false
   },
   "outputs": [],
   "source": [
    "# env VAR a,b and function line constitue Closure\n",
    "def line_conf(a,b):\n",
    "    def line(x):\n",
    "        return a*x + b\n",
    "    return line\n",
    "\n",
    "line1 = line_conf(1,1)\n",
    "line2 = line_conf(4,5)\n",
    "\n",
    "print(line1(5), line2(5))"
   ]
  }
 ],
 "metadata": {
  "kernelspec": {
   "display_name": "Python 3",
   "language": "python",
   "name": "python3"
  },
  "language_info": {
   "codemirror_mode": {
    "name": "ipython",
    "version": 3
   },
   "file_extension": ".py",
   "mimetype": "text/x-python",
   "name": "python",
   "nbconvert_exporter": "python",
   "pygments_lexer": "ipython3",
   "version": "3.6.0"
  }
 },
 "nbformat": 4,
 "nbformat_minor": 2
}
