{
 "cells": [
  {
   "cell_type": "markdown",
   "metadata": {},
   "source": [
    "# Exception Handle"
   ]
  },
  {
   "cell_type": "code",
   "execution_count": null,
   "metadata": {
    "collapsed": false
   },
   "outputs": [],
   "source": [
    "# \n",
    "re = iter(range(5))\n",
    "\n",
    "for i in range(100):\n",
    "    print re.next()\n",
    "\n",
    "print \"HaHaHaHa\""
   ]
  },
  {
   "cell_type": "code",
   "execution_count": null,
   "metadata": {
    "collapsed": false
   },
   "outputs": [],
   "source": [
    "# \n",
    "re = iter(range(5))\n",
    "try:\n",
    "    for i in range(100):\n",
    "        print re.next()\n",
    "except StopIteration:\n",
    "    print 'here is end ', i"
   ]
  },
  {
   "cell_type": "code",
   "execution_count": null,
   "metadata": {
    "collapsed": true
   },
   "outputs": [],
   "source": [
    "# A standard exception handle structure\n",
    "try:\n",
    "    ...\n",
    "except exception1:\n",
    "    ...\n",
    "except exception2:\n",
    "    ...\n",
    "except:\n",
    "    ...\n",
    "else:\n",
    "    ...\n",
    "finally:\n",
    "    ..."
   ]
  },
  {
   "cell_type": "code",
   "execution_count": null,
   "metadata": {
    "collapsed": false
   },
   "outputs": [],
   "source": [
    "# If there's no parameter after except, it equals all exceptions\n",
    "try:\n",
    "    print (a**2)\n",
    "except TypeError:\n",
    "    print (\"TypeError\")\n",
    "except:\n",
    "    print(\"Not Type Error & Error noted\")"
   ]
  },
  {
   "cell_type": "code",
   "execution_count": null,
   "metadata": {
    "collapsed": false
   },
   "outputs": [],
   "source": [
    "# The exception will be threw to higher level if cannot be dealed with in this level\n",
    "def test_func():\n",
    "    try:\n",
    "        m = 1/0\n",
    "    except NameError:\n",
    "        print (\"Catch NameError in the sub-function\")\n",
    "\n",
    "try:\n",
    "    test_func()\n",
    "except ZeroDivisionError:\n",
    "    print(\"Catch error in the main program\")"
   ]
  }
 ],
 "metadata": {
  "kernelspec": {
   "display_name": "Python 2",
   "language": "python",
   "name": "python2"
  },
  "language_info": {
   "codemirror_mode": {
    "name": "ipython",
    "version": 2
   },
   "file_extension": ".py",
   "mimetype": "text/x-python",
   "name": "python",
   "nbconvert_exporter": "python",
   "pygments_lexer": "ipython2",
   "version": "2.7.10"
  }
 },
 "nbformat": 4,
 "nbformat_minor": 2
}
