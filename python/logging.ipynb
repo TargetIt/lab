{
 "cells": [
  {
   "cell_type": "markdown",
   "metadata": {
    "collapsed": true,
    "deletable": true,
    "editable": true
   },
   "source": [
    "## Loging levels:\n",
    " DEBUG, INFO, WARNING, EROR, CRITICAL\n",
    "## Basic concepts\n",
    " Logger, Handler, Formatter, Filter"
   ]
  },
  {
   "cell_type": "code",
   "execution_count": 1,
   "metadata": {
    "collapsed": false,
    "deletable": true,
    "editable": true
   },
   "outputs": [
    {
     "name": "stderr",
     "output_type": "stream",
     "text": [
      "WARNING:root:warn message\n",
      "ERROR:root:error message\n",
      "CRITICAL:root:critical message\n"
     ]
    }
   ],
   "source": [
    "import logging\n",
    "\n",
    "logging.debug('debug message')\n",
    "logging.info('info message')\n",
    "logging.warning('warn message')\n",
    "logging.error('error message')\n",
    "logging.critical('critical message')"
   ]
  },
  {
   "cell_type": "code",
   "execution_count": 2,
   "metadata": {
    "collapsed": false,
    "deletable": true,
    "editable": true
   },
   "outputs": [
    {
     "name": "stderr",
     "output_type": "stream",
     "text": [
      "WARNING:root:warn message\n",
      "ERROR:root:error message\n",
      "CRITICAL:root:critical message\n"
     ]
    }
   ],
   "source": [
    "#!/usr/local/bin/python\n",
    "# -*- coding:utf-8 -*-\n",
    "import logging\n",
    "\n",
    "# 通过下面的方式进行简单配置输出方式与日志级别\n",
    "logging.basicConfig(filename='logger.log', level=logging.INFO)\n",
    "\n",
    "logging.debug('debug message')\n",
    "logging.info('info message')\n",
    "logging.warning('warn message')\n",
    "logging.error('error message')\n",
    "logging.critical('critical message')"
   ]
  },
  {
   "cell_type": "code",
   "execution_count": 3,
   "metadata": {
    "collapsed": false
   },
   "outputs": [
    {
     "name": "stderr",
     "output_type": "stream",
     "text": [
      "WARNING:root:This is warning message\n"
     ]
    }
   ],
   "source": [
    "logging.basicConfig(level=logging.DEBUG,\n",
    "                   format='%(asctime)s %(filename)s[line:%(lineno)d] %(levelname)s %(message)s',\n",
    "                   datefmt='%a, %d %b %Y %H:%M:%S',\n",
    "                   filename='myapp.log',\n",
    "                   filemode='w')\n",
    "logging.debug('This is debug message')\n",
    "logging.info('This is info message')\n",
    "logging.warning('This is warning message')\n",
    "\n",
    "a = 3\n",
    "b = 4\n",
    "logging.info(\"a=%d, b =%d\", a, b)"
   ]
  },
  {
   "cell_type": "code",
   "execution_count": null,
   "metadata": {
    "collapsed": false,
    "deletable": true,
    "editable": true
   },
   "outputs": [],
   "source": [
    "# -*- encoding:utf-8 -*-\n",
    "import logging\n",
    "\n",
    "# create logger\n",
    "logger_name = \"example\"\n",
    "logger = logging.getLogger(logger_name)\n",
    "logger.setLevel(logging.DEBUG)\n",
    "\n",
    "# create file handler\n",
    "log_path = \"./log.log\"\n",
    "fh = logging.FileHandler(log_path)\n",
    "fh.setLevel(logging.WARN)\n",
    "\n",
    "# create formatter\n",
    "fmt = \"%(asctime)-15s %(levelname)s %(filename)s %(lineno)d %(process)d %(message)s\"\n",
    "datefmt = \"%a %d %b %Y %H:%M:%S\"\n",
    "formatter = logging.Formatter(fmt, datefmt)\n",
    "\n",
    "# add handler and formatter to logger\n",
    "fh.setFormatter(formatter)\n",
    "logger.addHandler(fh)\n",
    "\n",
    "# print log info\n",
    "logger.debug('debug message')\n",
    "logger.info('info message')\n",
    "logger.warning('warn message')\n",
    "logger.error('error message')\n",
    "logger.critical('critical message')"
   ]
  },
  {
   "cell_type": "code",
   "execution_count": null,
   "metadata": {
    "collapsed": false,
    "deletable": true,
    "editable": true
   },
   "outputs": [],
   "source": [
    "keys=root,example01\n",
    "\n",
    "[logger_root]\n",
    "level=DEBUG\n",
    "handlers=hand01,hand02\n",
    "\n",
    "[logger_example01]\n",
    "handlers=hand01,hand02\n",
    "qualname=example01\n",
    "propagate=0\n",
    "\n",
    "[handlers]\n",
    "keys=hand01,hand02\n",
    "\n",
    "[handler_hand01]\n",
    "class=StreamHandler\n",
    "level=INFO\n",
    "formatter=form02\n",
    "args=(sys.stderr,)\n",
    "\n",
    "[handler_hand02]\n",
    "class=FileHandler\n",
    "level=DEBUG\n",
    "formatter=form01\n",
    "args=('log.log', 'a')\n",
    "\n",
    "[formatters]\n",
    "keys=form01,form02\n",
    "\n",
    "[formatter_form01]\n",
    "format=%(asctime)s %(filename)s[line:%(lineno)d] %(levelname)s %(message)s"
   ]
  },
  {
   "cell_type": "code",
   "execution_count": null,
   "metadata": {
    "collapsed": false,
    "deletable": true,
    "editable": true
   },
   "outputs": [],
   "source": [
    "# -*- encoding:utf-8 -*-\n",
    "import logging\n",
    "import logging.config\n",
    "\n",
    "logging.config.fileConfig(\"./logging.conf\")\n",
    "\n",
    "# create logger\n",
    "logger_name = \"example\"\n",
    "logger = logging.getLogger(logger_name)\n",
    "\n",
    "logger.debug('debug message')\n",
    "logger.info('info message')\n",
    "logger.warn('warn message')\n",
    "logger.error('error message')\n",
    "logger.critical('critical message')"
   ]
  },
  {
   "cell_type": "code",
   "execution_count": null,
   "metadata": {
    "collapsed": false,
    "deletable": true,
    "editable": true
   },
   "outputs": [],
   "source": [
    "\n",
    "print a"
   ]
  }
 ],
 "metadata": {
  "kernelspec": {
   "display_name": "Python 3",
   "language": "python",
   "name": "python3"
  },
  "language_info": {
   "codemirror_mode": {
    "name": "ipython",
    "version": 3
   },
   "file_extension": ".py",
   "mimetype": "text/x-python",
   "name": "python",
   "nbconvert_exporter": "python",
   "pygments_lexer": "ipython3",
   "version": "3.6.0"
  }
 },
 "nbformat": 4,
 "nbformat_minor": 2
}
