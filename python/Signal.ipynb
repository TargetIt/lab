{
 "cells": [
  {
   "cell_type": "markdown",
   "metadata": {
    "deletable": true,
    "editable": true
   },
   "source": [
    "# Signal"
   ]
  },
  {
   "cell_type": "markdown",
   "metadata": {},
   "source": [
    "### Define Signal name"
   ]
  },
  {
   "cell_type": "code",
   "execution_count": null,
   "metadata": {
    "collapsed": false,
    "deletable": true,
    "editable": true
   },
   "outputs": [],
   "source": [
    "import signal\n",
    "print signal.SIGALRM\n",
    "print signal.SIGCONT\n",
    "\n",
    "# The signal name of Python is the same as Linux\n",
    "# $man 7 signal\n",
    "#"
   ]
  },
  {
   "cell_type": "markdown",
   "metadata": {},
   "source": [
    "### Pre-define signal handler "
   ]
  },
  {
   "cell_type": "code",
   "execution_count": null,
   "metadata": {
    "collapsed": false,
    "deletable": true,
    "editable": true
   },
   "outputs": [],
   "source": [
    "\n",
    "import signal\n",
    "# Define signal handler function\n",
    "def myHandler(signum, frame):\n",
    "    print('I received: ',signum)\n",
    "\n",
    "# register signal.SIGTSTP's handler\n",
    "signal.signal(signal.SIGTSTP, myHandler)\n",
    "signal.pause()\n",
    "print('End of Signal Demo')"
   ]
  },
  {
   "cell_type": "markdown",
   "metadata": {},
   "source": [
    "### TX SIGALRM "
   ]
  },
  {
   "cell_type": "code",
   "execution_count": null,
   "metadata": {
    "collapsed": false,
    "deletable": true,
    "editable": true
   },
   "outputs": [],
   "source": [
    "\n",
    "import signal\n",
    "# Define signal handler function\n",
    "def myHandler(signum, frame):\n",
    "    print(\"Now, it's the time \")\n",
    "    exit()\n",
    "\n",
    "# register signal.SIGALRM's handler\n",
    "signal.signal(signal.SIGALRM, myHandler)\n",
    "signal.alarm(5)\n",
    "while True:\n",
    "    print('not yet')"
   ]
  },
  {
   "cell_type": "markdown",
   "metadata": {},
   "source": [
    "### TX signals"
   ]
  },
  {
   "cell_type": "code",
   "execution_count": null,
   "metadata": {
    "collapsed": false,
    "deletable": true,
    "editable": true
   },
   "outputs": [],
   "source": [
    "$os.kill(pid, sid)\n",
    "$os.killpg(pgid, sid)"
   ]
  }
 ],
 "metadata": {
  "kernelspec": {
   "display_name": "Python 3",
   "language": "python",
   "name": "python3"
  },
  "language_info": {
   "codemirror_mode": {
    "name": "ipython",
    "version": 3
   },
   "file_extension": ".py",
   "mimetype": "text/x-python",
   "name": "python",
   "nbconvert_exporter": "python",
   "pygments_lexer": "ipython3",
   "version": "3.6.0"
  }
 },
 "nbformat": 4,
 "nbformat_minor": 2
}
