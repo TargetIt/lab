{
 "cells": [
  {
   "cell_type": "code",
   "execution_count": 110,
   "metadata": {
    "collapsed": true
   },
   "outputs": [],
   "source": [
    "from PIL import Image, ImageDraw\n",
    "import random\n",
    "import pandas as pd\n",
    "import numpy as np"
   ]
  },
  {
   "cell_type": "code",
   "execution_count": 138,
   "metadata": {},
   "outputs": [],
   "source": [
    "Vsize, Hsize = 1792, 896\n",
    "boxLen = 7\n",
    "if Vsize%boxLen != 0 or Hsize%boxLen != 0:\n",
    "    raise Exception (\"ERROR: Hsize is %d, Vsize is %d, boxLen is %d\", (Hsize, Vsize, boxLen))\n",
    "VboxSize, HboxSize = Vsize/boxLen, Hsize/boxLen\n",
    "VborderSize, HborderSize = 5,5  # 5 strips\n",
    "VpayloadSize, HpayloadSize = VboxSize - 2*VborderSize, HboxSize - 2*HborderSize"
   ]
  },
  {
   "cell_type": "code",
   "execution_count": null,
   "metadata": {
    "collapsed": true
   },
   "outputs": [],
   "source": []
  },
  {
   "cell_type": "code",
   "execution_count": 139,
   "metadata": {
    "collapsed": true
   },
   "outputs": [],
   "source": [
    "im = Image.new(\"RGB\", (Vsize,Hsize), \"white\")"
   ]
  },
  {
   "cell_type": "code",
   "execution_count": 140,
   "metadata": {
    "collapsed": true
   },
   "outputs": [],
   "source": [
    "draw = ImageDraw.Draw(im)"
   ]
  },
  {
   "cell_type": "code",
   "execution_count": 141,
   "metadata": {
    "collapsed": true
   },
   "outputs": [],
   "source": [
    "#draw.line((0,0)+im.size, fill=128)\n",
    "#draw.line((0, im.size[1], im.size[0], 0), fill=128)"
   ]
  },
  {
   "cell_type": "code",
   "execution_count": 142,
   "metadata": {
    "collapsed": true
   },
   "outputs": [],
   "source": [
    "#draw.rectangle(box, options)\n",
    "#box = [(0,0), (3,3)]\n",
    "#color = (0,255,0)\n",
    "#draw.rectangle(box, color)\n",
    "#draw.rectangle([(0,128),(5, 132)], (0,0,128))"
   ]
  },
  {
   "cell_type": "code",
   "execution_count": 143,
   "metadata": {
    "collapsed": true
   },
   "outputs": [],
   "source": [
    "#im_r, im_g, im_b = im.split()"
   ]
  },
  {
   "cell_type": "code",
   "execution_count": 144,
   "metadata": {
    "collapsed": true
   },
   "outputs": [],
   "source": [
    "#im.show()"
   ]
  },
  {
   "cell_type": "code",
   "execution_count": 145,
   "metadata": {
    "collapsed": true
   },
   "outputs": [],
   "source": [
    "\n",
    "def drawBox(im, box, color):\n",
    "    draw = ImageDraw.Draw(im)\n",
    "    draw.rectangle(box,color)\n",
    "\n",
    "# boxNum = (column Num , row Num)\n",
    "def drawBoxNum(im, boxNum, color=(0,0,255), boxLen=4):\n",
    "    Csize, Rsize = im.size\n",
    "    if Rsize%boxLen != 0 or Csize%boxLen != 0:\n",
    "        print (\"ERROR: Rsize is %d, Csize is %d, boxLen is %d\", (Rsize, Csize, boxLen))\n",
    "        return 0\n",
    "    elif boxNum[0]*boxLen >= Csize or boxNum[1]*boxLen >= Rsize:\n",
    "        print (\"ERROR: boxNum is out side the picture !\")\n",
    "        return 0\n",
    "    draw = ImageDraw.Draw(im)\n",
    "    draw.rectangle([(boxNum[0]*boxLen, boxNum[1]*boxLen), ((boxNum[0]+1)*boxLen-1, (boxNum[1]+1)*boxLen-1)], color)\n",
    "\n",
    "def drawBoxLine(im, boxLine, row=1, color=(0,0,0), boxLen=4):\n",
    "    Csize, Rsize = im.size\n",
    "    if row == 1:\n",
    "        for i in range(Csize/boxLen):\n",
    "            drawBoxNum(im, (i, boxLine), color, boxLen=boxLen)\n",
    "    else:\n",
    "        for i in range(Rsize/boxLen):\n",
    "            drawBoxNum(im, (boxLine, i), color, boxLen=boxLen)\n",
    "    \n",
    "def drawBoxTiming(im, boxLine, row=1, color = (0,0,0),  boxLen=4):\n",
    "    Csize, Rsize = im.size\n",
    "    if row == 1:\n",
    "        for i in range(Csize/boxLen):\n",
    "            if i%2 == 0:\n",
    "                drawBoxNum(im, (i, boxLine), color=(0,0,0), boxLen=boxLen)\n",
    "            else:\n",
    "                drawBoxNum(im, (i, boxLine), color=(255,255,255), boxLen=boxLen)\n",
    "    else:\n",
    "        for i in range(Rsize/boxLen):\n",
    "            if i%2 == 0:\n",
    "                drawBoxNum(im, (boxLine, i), color = 'black', boxLen=boxLen)\n",
    "            else:\n",
    "                drawBoxNum(im, (boxLine, i), color = 'white', boxLen=boxLen)"
   ]
  },
  {
   "cell_type": "code",
   "execution_count": 146,
   "metadata": {
    "collapsed": true
   },
   "outputs": [],
   "source": [
    "#drawBoxNum(im, (0,0), color=(255,0,0))\n",
    "#drawBoxNum(im, (1,1), color=(255,0,0))\n",
    "#drawBoxNum(im, (1,2))\n",
    "#drawBoxNum(im, (2,2), color=(255,0,0))\n",
    "#drawBoxNum(im, (3,3), color=(255,0,0))\n",
    "#drawBoxNum(im, (4,4), color=(255,0,0))\n",
    "#drawBoxNum(im, (127,127), color=(255,0,0))\n",
    "#drawBoxNum(im, (126,126), color=(255,0,0))\n",
    "#drawBoxNum(im, (125,125), color=(255,0,0))\n",
    "#drawBoxNum(im, (124,124), color=\"black\")"
   ]
  },
  {
   "cell_type": "code",
   "execution_count": 147,
   "metadata": {
    "collapsed": true
   },
   "outputs": [],
   "source": [
    "for i in range(VboxSize):\n",
    "    for j in range(HboxSize):\n",
    "        if (i+j)%2 == 0:\n",
    "            color = 'black'\n",
    "        else:\n",
    "            color = 'white'\n",
    "        drawBoxNum(im, (i,j), color)\n"
   ]
  },
  {
   "cell_type": "code",
   "execution_count": 148,
   "metadata": {
    "collapsed": true
   },
   "outputs": [],
   "source": [
    "for i in range(VboxSize):\n",
    "    for j in range(HboxSize):\n",
    "        r = random.choice([1,2,3,4])\n",
    "        g = random.choice([1,2,3,4])\n",
    "        b = random.choice([1,2,3,4])\n",
    "        r, g, b = 255/r, 255/g, 255/b\n",
    "        drawBoxNum(im, (i,j), (r,g,b))"
   ]
  },
  {
   "cell_type": "code",
   "execution_count": 149,
   "metadata": {},
   "outputs": [
    {
     "data": {
      "text/plain": [
       "7"
      ]
     },
     "execution_count": 149,
     "metadata": {},
     "output_type": "execute_result"
    }
   ],
   "source": [
    "boxLen"
   ]
  },
  {
   "cell_type": "code",
   "execution_count": 150,
   "metadata": {
    "collapsed": true
   },
   "outputs": [],
   "source": [
    "# Sync and Timing\n",
    "drawBoxLine(im, 0, color = 'black', boxLen=boxLen)\n",
    "drawBoxLine(im, 1, color = 'white', boxLen=boxLen)\n",
    "drawBoxTiming(im, 2, boxLen=boxLen)\n",
    "drawBoxLine(im, 3, color = 'white', boxLen=boxLen)\n",
    "drawBoxLine(im, 4, color = 'black', boxLen=boxLen)\n",
    "\n",
    "drawBoxLine(im, HboxSize-1, color = 'black', boxLen=boxLen)\n",
    "drawBoxLine(im, HboxSize-2, color = 'white', boxLen=boxLen)\n",
    "drawBoxTiming(im, HboxSize-3, boxLen=boxLen)\n",
    "drawBoxLine(im, HboxSize-4, color = 'white', boxLen=boxLen)\n",
    "drawBoxLine(im, HboxSize-5, color = 'black', boxLen=boxLen)\n",
    "\n",
    "\n",
    "drawBoxLine(im, 0, color = 'black', row=0, boxLen=boxLen)\n",
    "drawBoxLine(im, 1, color = 'white', row=0, boxLen=boxLen)\n",
    "drawBoxTiming(im, 2, row=0, boxLen=boxLen)\n",
    "drawBoxLine(im, 3, color = 'white', row=0, boxLen=boxLen)\n",
    "drawBoxLine(im, 4, color = 'black', row=0, boxLen=boxLen)\n",
    "\n",
    "drawBoxLine(im, VboxSize-1, color = 'black', row=0, boxLen=boxLen)\n",
    "drawBoxLine(im, VboxSize-2, color = 'white', row=0, boxLen=boxLen)\n",
    "drawBoxTiming(im, VboxSize-3, row=0, boxLen=boxLen)\n",
    "drawBoxLine(im, VboxSize-4, color = 'white', row=0, boxLen=boxLen)\n",
    "drawBoxLine(im, VboxSize-5, color = 'black', row=0, boxLen=boxLen)\n",
    "\n",
    "for i in range(5):\n",
    "    for j in range(5):\n",
    "        drawBoxNum(im, (i,j), color=(255,0,0), boxLen=boxLen)\n",
    "        drawBoxNum(im, (VboxSize-1-i,j), color=(0,255,0), boxLen=boxLen)\n",
    "        drawBoxNum(im, (i,HboxSize-1-j), color=(0,0,255), boxLen=boxLen)\n",
    "        drawBoxNum(im, (VboxSize-1-i,HboxSize-1-j), color=(255,255,0), boxLen=boxLen)"
   ]
  },
  {
   "cell_type": "code",
   "execution_count": 151,
   "metadata": {
    "collapsed": true
   },
   "outputs": [],
   "source": [
    "def addPayload(im, pos=(0,0), data=(0,0,0)):\n",
    "    if pos[0] > VpayloadSize-1 or pos[1] > HpayloadSize-1:\n",
    "        print \"Error: input position is out of Container\"\n",
    "    else:\n",
    "        drawBoxNum(im, (pos[0]+5, pos[1]+5), data, boxLen=boxLen)"
   ]
  },
  {
   "cell_type": "code",
   "execution_count": 152,
   "metadata": {},
   "outputs": [],
   "source": [
    "for i in range(VpayloadSize):\n",
    "    for j in range(HpayloadSize):\n",
    "        r = random.choice([0,1,2,3])\n",
    "        g = random.choice([0,1,2,3])\n",
    "        b = random.choice([0,1,2,3])\n",
    "        r, g, b = 85*r, 85*g, 85*b\n",
    "        addPayload(im, (i,j), (r,g,b))"
   ]
  },
  {
   "cell_type": "code",
   "execution_count": 155,
   "metadata": {
    "collapsed": true
   },
   "outputs": [],
   "source": [
    "im.show()"
   ]
  },
  {
   "cell_type": "code",
   "execution_count": 154,
   "metadata": {
    "collapsed": true
   },
   "outputs": [],
   "source": [
    "im.save('test.jpg')"
   ]
  }
 ],
 "metadata": {
  "kernelspec": {
   "display_name": "Python 2",
   "language": "python",
   "name": "python2"
  },
  "language_info": {
   "codemirror_mode": {
    "name": "ipython",
    "version": 2
   },
   "file_extension": ".py",
   "mimetype": "text/x-python",
   "name": "python",
   "nbconvert_exporter": "python",
   "pygments_lexer": "ipython2",
   "version": "2.7.13"
  }
 },
 "nbformat": 4,
 "nbformat_minor": 2
}
