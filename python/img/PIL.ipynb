{
 "cells": [
  {
   "cell_type": "code",
   "execution_count": null,
   "metadata": {
    "collapsed": true
   },
   "outputs": [],
   "source": [
    "from PIL import Image, ImageDraw\n",
    "import random"
   ]
  },
  {
   "cell_type": "code",
   "execution_count": 161,
   "metadata": {
    "collapsed": true
   },
   "outputs": [],
   "source": [
    "Vsize, Hsize = 1024, 512\n",
    "boxLen = 4\n",
    "if Vsize%boxLen != 0 or Hsize%boxLen != 0:\n",
    "    print (\"ERROR: Hsize is %d, Vsize is %d, boxLen is %d\", (Hsize, Vsize, boxLen))\n",
    "VboxSize, HboxSize = Vsize/4, Hsize/4\n",
    "VborderSize, HborderSize = 5,5\n",
    "VpayloadSize, HpayloadSize = VboxSize - 2*VborderSize, HboxSize - 2*HborderSize"
   ]
  },
  {
   "cell_type": "code",
   "execution_count": null,
   "metadata": {
    "collapsed": true
   },
   "outputs": [],
   "source": []
  },
  {
   "cell_type": "code",
   "execution_count": null,
   "metadata": {
    "collapsed": true
   },
   "outputs": [],
   "source": [
    "im = Image.new(\"RGB\", (Vsize,Hsize), \"white\")"
   ]
  },
  {
   "cell_type": "code",
   "execution_count": null,
   "metadata": {
    "collapsed": true
   },
   "outputs": [],
   "source": [
    "draw = ImageDraw.Draw(im)"
   ]
  },
  {
   "cell_type": "code",
   "execution_count": null,
   "metadata": {
    "collapsed": true
   },
   "outputs": [],
   "source": [
    "#draw.line((0,0)+im.size, fill=128)\n",
    "#draw.line((0, im.size[1], im.size[0], 0), fill=128)"
   ]
  },
  {
   "cell_type": "code",
   "execution_count": null,
   "metadata": {
    "collapsed": true
   },
   "outputs": [],
   "source": [
    "#draw.rectangle(box, options)\n",
    "#box = [(0,0), (3,3)]\n",
    "#color = (0,255,0)\n",
    "#draw.rectangle(box, color)\n",
    "#draw.rectangle([(0,128),(5, 132)], (0,0,128))"
   ]
  },
  {
   "cell_type": "code",
   "execution_count": null,
   "metadata": {
    "collapsed": true
   },
   "outputs": [],
   "source": [
    "#im_r, im_g, im_b = im.split()"
   ]
  },
  {
   "cell_type": "code",
   "execution_count": null,
   "metadata": {
    "collapsed": true
   },
   "outputs": [],
   "source": [
    "#im.show()"
   ]
  },
  {
   "cell_type": "code",
   "execution_count": null,
   "metadata": {
    "collapsed": true
   },
   "outputs": [],
   "source": [
    "\n",
    "def drawBox(im, box, color):\n",
    "    draw = ImageDraw.Draw(im)\n",
    "    draw.rectangle(box,color)\n",
    "\n",
    "# boxNum = (column Num , row Num)\n",
    "def drawBoxNum(im, boxNum, color=(0,0,255), boxLen=4):\n",
    "    Csize, Rsize = im.size\n",
    "    if Rsize%boxLen != 0 or Csize%boxLen != 0:\n",
    "        print (\"ERROR: Rsize is %d, Csize is %d, boxLen is %d\", (Rsize, Csize, boxLen))\n",
    "        return 0\n",
    "    elif boxNum[0]*boxLen >= Csize or boxNum[1]*boxLen >= Rsize:\n",
    "        print (\"ERROR: boxNum is out side the picture !\")\n",
    "        return 0\n",
    "    draw = ImageDraw.Draw(im)\n",
    "    draw.rectangle([(boxNum[0]*boxLen, boxNum[1]*boxLen), ((boxNum[0]+1)*boxLen-1, (boxNum[1]+1)*boxLen-1)], color)\n",
    "\n",
    "def drawBoxLine(im, boxLine, row=1, color=(0,0,0), boxLen=4):\n",
    "    Csize, Rsize = im.size\n",
    "    if row == 1:\n",
    "        for i in range(Csize/boxLen):\n",
    "            drawBoxNum(im, (i, boxLine), color)\n",
    "    else:\n",
    "        for i in range(Rsize/boxLen):\n",
    "            drawBoxNum(im, (boxLine, i), color)\n",
    "    \n",
    "def drawBoxTiming(im, boxLine, row=1, color = (0,0,0),  boxLen=4):\n",
    "    Csize, Rsize = im.size\n",
    "    if row == 1:\n",
    "        for i in range(Csize/boxLen):\n",
    "            if i%2 == 0:\n",
    "                drawBoxNum(im, (i, boxLine), color=(0,0,0))\n",
    "            else:\n",
    "                drawBoxNum(im, (i, boxLine), color=(255,255,255))\n",
    "    else:\n",
    "        for i in range(Rsize/boxLen):\n",
    "            if i%2 == 0:\n",
    "                drawBoxNum(im, (boxLine, i), color = 'black')\n",
    "            else:\n",
    "                drawBoxNum(im, (boxLine, i), color = 'white')"
   ]
  },
  {
   "cell_type": "code",
   "execution_count": null,
   "metadata": {
    "collapsed": true
   },
   "outputs": [],
   "source": [
    "#drawBoxNum(im, (0,0), color=(255,0,0))\n",
    "#drawBoxNum(im, (1,1), color=(255,0,0))\n",
    "#drawBoxNum(im, (1,2))\n",
    "#drawBoxNum(im, (2,2), color=(255,0,0))\n",
    "#drawBoxNum(im, (3,3), color=(255,0,0))\n",
    "#drawBoxNum(im, (4,4), color=(255,0,0))\n",
    "#drawBoxNum(im, (127,127), color=(255,0,0))\n",
    "#drawBoxNum(im, (126,126), color=(255,0,0))\n",
    "#drawBoxNum(im, (125,125), color=(255,0,0))\n",
    "#drawBoxNum(im, (124,124), color=\"black\")"
   ]
  },
  {
   "cell_type": "code",
   "execution_count": 147,
   "metadata": {
    "collapsed": true
   },
   "outputs": [],
   "source": [
    "for i in range(VboxSize):\n",
    "    for j in range(HboxSize):\n",
    "        if (i+j)%2 == 0:\n",
    "            color = 'black'\n",
    "        else:\n",
    "            color = 'white'\n",
    "        drawBoxNum(im, (i,j), color)\n"
   ]
  },
  {
   "cell_type": "code",
   "execution_count": null,
   "metadata": {
    "collapsed": true
   },
   "outputs": [],
   "source": [
    "for i in range(VboxSize):\n",
    "    for j in range(HboxSize):\n",
    "        r = random.choice([1,2,3,4])\n",
    "        g = random.choice([1,2,3,4])\n",
    "        b = random.choice([1,2,3,4])\n",
    "        r, g, b = 255/r, 255/g, 255/b\n",
    "        drawBoxNum(im, (i,j), (r,g,b))"
   ]
  },
  {
   "cell_type": "code",
   "execution_count": 149,
   "metadata": {},
   "outputs": [],
   "source": [
    "# Sync and Timing\n",
    "drawBoxLine(im, 0, color = 'black')\n",
    "drawBoxLine(im, 1, color = 'white')\n",
    "drawBoxTiming(im, 2)\n",
    "drawBoxLine(im, 3, color = 'white')\n",
    "drawBoxLine(im, 4, color = 'black')\n",
    "\n",
    "drawBoxLine(im, HboxSize-1, color = 'black')\n",
    "drawBoxLine(im, HboxSize-2, color = 'white')\n",
    "drawBoxTiming(im, HboxSize-3)\n",
    "drawBoxLine(im, HboxSize-4, color = 'white')\n",
    "drawBoxLine(im, HboxSize-5, color = 'black')\n",
    "\n",
    "\n",
    "drawBoxLine(im, 0, color = 'black', row=0)\n",
    "drawBoxLine(im, 1, color = 'white', row=0)\n",
    "drawBoxTiming(im, 2, row=0)\n",
    "drawBoxLine(im, 3, color = 'white', row=0)\n",
    "drawBoxLine(im, 4, color = 'black', row=0)\n",
    "\n",
    "drawBoxLine(im, VboxSize-1, color = 'black', row=0)\n",
    "drawBoxLine(im, VboxSize-2, color = 'white', row=0)\n",
    "drawBoxTiming(im, VboxSize-3, row=0)\n",
    "drawBoxLine(im, VboxSize-4, color = 'white', row=0)\n",
    "drawBoxLine(im, VboxSize-5, color = 'black', row=0)\n",
    "\n",
    "for i in range(5):\n",
    "    for j in range(5):\n",
    "        drawBoxNum(im, (i,j), color=(255,0,0))\n",
    "        drawBoxNum(im, (VboxSize-1-i,j), color=(0,255,0))\n",
    "        drawBoxNum(im, (i,HboxSize-1-j), color=(0,0,255))\n",
    "        drawBoxNum(im, (VboxSize-1-i,HboxSize-1-j), color=(255,255,0))"
   ]
  },
  {
   "cell_type": "code",
   "execution_count": 157,
   "metadata": {
    "collapsed": true
   },
   "outputs": [],
   "source": [
    "def addPayload(im, pos=(0,0), data=(0,0,0)):\n",
    "    if pos[0] > VpayloadSize-1 or pos[1] > HpayloadSize-1:\n",
    "        print \"Error: input position is out of Container\"\n",
    "    else:\n",
    "        drawBoxNum(im, (pos[0]+5, pos[1]+5), data)"
   ]
  },
  {
   "cell_type": "code",
   "execution_count": 158,
   "metadata": {},
   "outputs": [],
   "source": [
    "for i in range(VpayloadSize):\n",
    "    for j in range(HpayloadSize):\n",
    "        r = random.choice([1,2,3,4])\n",
    "        g = random.choice([1,2,3,4])\n",
    "        b = random.choice([1,2,3,4])\n",
    "        r, g, b = 255/r, 255/g, 255/b\n",
    "        addPayload(im, (i,j), (r,g,b))"
   ]
  },
  {
   "cell_type": "code",
   "execution_count": 164,
   "metadata": {
    "collapsed": true
   },
   "outputs": [],
   "source": [
    "im.show()"
   ]
  },
  {
   "cell_type": "code",
   "execution_count": null,
   "metadata": {
    "collapsed": true
   },
   "outputs": [],
   "source": [
    "im.save('test.jpg')"
   ]
  },
  {
   "cell_type": "code",
   "execution_count": null,
   "metadata": {},
   "outputs": [],
   "source": [
    "(1+2,3+5)"
   ]
  },
  {
   "cell_type": "code",
   "execution_count": null,
   "metadata": {
    "collapsed": true
   },
   "outputs": [],
   "source": []
  },
  {
   "cell_type": "code",
   "execution_count": null,
   "metadata": {
    "collapsed": true
   },
   "outputs": [],
   "source": [
    "def isBlackLine():\n",
    "    pass\n",
    "def isWhiteLine():\n",
    "    pass\n",
    "def isTimingLine():\n",
    "    pass\n",
    "def isRtUpCorn():\n",
    "    pass\n",
    "def isRtDnCorn():\n",
    "    pass\n",
    "def isLtUpCorn():\n",
    "    pass\n",
    "def isLtDnCorn():\n",
    "    pass\n",
    "def getBoxLen():\n",
    "    pass\n",
    "def getPayloadRtUpPoint():\n",
    "    pass\n",
    "def getPayloadRtDnPoint():\n",
    "    pass\n",
    "def getPayloadLtUpPoint():\n",
    "    pass\n",
    "def getPayloadLtDnPoint():\n",
    "    pass\n",
    "def getBoxValue():\n",
    "    pass"
   ]
  }
 ],
 "metadata": {
  "kernelspec": {
   "display_name": "Python 2",
   "language": "python",
   "name": "python2"
  },
  "language_info": {
   "codemirror_mode": {
    "name": "ipython",
    "version": 2
   },
   "file_extension": ".py",
   "mimetype": "text/x-python",
   "name": "python",
   "nbconvert_exporter": "python",
   "pygments_lexer": "ipython2",
   "version": "2.7.13"
  }
 },
 "nbformat": 4,
 "nbformat_minor": 2
}
