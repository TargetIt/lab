{
 "cells": [
  {
   "cell_type": "code",
   "execution_count": 434,
   "metadata": {},
   "outputs": [],
   "source": [
    "from PIL import Image, ImageDraw\n",
    "import random\n",
    "import numpy as np"
   ]
  },
  {
   "cell_type": "code",
   "execution_count": 466,
   "metadata": {},
   "outputs": [
    {
     "name": "stdout",
     "output_type": "stream",
     "text": [
      "1920 960\n"
     ]
    }
   ],
   "source": [
    "# read image\n",
    "im = Image.open('test_cap.png')\n",
    "Vsize, Hsize = im.size\n",
    "VnumArray = np.arange(Vsize)\n",
    "HnumArray = np.arange(Hsize)\n",
    "boxLen = 0\n",
    "boxWid = 0\n",
    "print Vsize, Hsize\n",
    "im.show()"
   ]
  },
  {
   "cell_type": "code",
   "execution_count": 468,
   "metadata": {},
   "outputs": [],
   "source": [
    "# convert image data to numpy format\n",
    "imPIX = im.load()\n",
    "imDATA = np.zeros((3, Hsize, Vsize))\n",
    "\n",
    "for x in range(Hsize):\n",
    "    for y in range(Vsize):\n",
    "        imDATA[0][x,y] = imPIX[y,x][0]\n",
    "        imDATA[1][x,y] = imPIX[y,x][1]\n",
    "        imDATA[2][x,y] = imPIX[y,x][2]"
   ]
  },
  {
   "cell_type": "code",
   "execution_count": 469,
   "metadata": {},
   "outputs": [],
   "source": [
    "# quantization\n",
    "def quantization(data, stat=np.array([0,85,170,255])):\n",
    "    delta = data - stat\n",
    "    delta = abs(delta)\n",
    "    mindelta = delta.min()\n",
    "    return stat[delta == mindelta]\n",
    "\n",
    "for x in range(Hsize):\n",
    "    for y in range(Vsize):\n",
    "        imDATA[0][x,y] = quantization(imDATA[0][x,y])\n",
    "        imDATA[1][x,y] = quantization(imDATA[1][x,y])\n",
    "        imDATA[2][x,y] = quantization(imDATA[2][x,y])\n",
    "## test\n",
    "#data = np.array([78])\n",
    "#stat=np.array([0,85,170,255])\n",
    "#delta = data - stat\n",
    "#delta = abs(delta)\n",
    "#mindelta = delta.min()\n",
    "#stat[delta == mindelta]"
   ]
  },
  {
   "cell_type": "code",
   "execution_count": 470,
   "metadata": {},
   "outputs": [],
   "source": [
    "# correct"
   ]
  },
  {
   "cell_type": "code",
   "execution_count": 471,
   "metadata": {},
   "outputs": [
    {
     "data": {
      "text/plain": [
       "array([ 10.00520833,  10.00520833,  10.09375   , ...,  10.00520833,\n",
       "        10.00520833,  10.00520833])"
      ]
     },
     "execution_count": 471,
     "metadata": {},
     "output_type": "execute_result"
    }
   ],
   "source": [
    "\n",
    "\n",
    "imDATA[0].mean(axis=0)"
   ]
  },
  {
   "cell_type": "code",
   "execution_count": 472,
   "metadata": {},
   "outputs": [],
   "source": [
    "a = imDATA[1].mean(axis=1)\n"
   ]
  },
  {
   "cell_type": "code",
   "execution_count": 475,
   "metadata": {},
   "outputs": [
    {
     "ename": "Exception",
     "evalue": "(X1-X0) mod boxLen = 4, (Y1-Y0) mod boxLen=5",
     "output_type": "error",
     "traceback": [
      "\u001b[1;31m---------------------------------------------------------------------------\u001b[0m",
      "\u001b[1;31mException\u001b[0m                                 Traceback (most recent call last)",
      "\u001b[1;32m<ipython-input-475-41deb6736b75>\u001b[0m in \u001b[0;36m<module>\u001b[1;34m()\u001b[0m\n\u001b[0;32m     26\u001b[0m \u001b[1;33m\u001b[0m\u001b[0m\n\u001b[0;32m     27\u001b[0m \u001b[1;32mif\u001b[0m \u001b[1;33m(\u001b[0m\u001b[0mX1\u001b[0m\u001b[1;33m-\u001b[0m\u001b[0mX0\u001b[0m\u001b[1;33m)\u001b[0m\u001b[1;33m%\u001b[0m\u001b[0mboxLen\u001b[0m \u001b[1;33m!=\u001b[0m\u001b[1;36m0\u001b[0m \u001b[1;32mor\u001b[0m \u001b[1;33m(\u001b[0m\u001b[0mY1\u001b[0m\u001b[1;33m-\u001b[0m\u001b[0mY0\u001b[0m\u001b[1;33m)\u001b[0m\u001b[1;33m%\u001b[0m\u001b[0mboxLen\u001b[0m \u001b[1;33m!=\u001b[0m\u001b[1;36m0\u001b[0m \u001b[1;33m:\u001b[0m\u001b[1;33m\u001b[0m\u001b[0m\n\u001b[1;32m---> 28\u001b[1;33m     \u001b[1;32mraise\u001b[0m \u001b[0mException\u001b[0m\u001b[1;33m(\u001b[0m\u001b[1;34m\"(X1-X0) mod boxLen = %d, (Y1-Y0) mod boxLen=%d\"\u001b[0m \u001b[1;33m%\u001b[0m \u001b[1;33m(\u001b[0m\u001b[1;33m(\u001b[0m\u001b[0mX1\u001b[0m\u001b[1;33m-\u001b[0m\u001b[0mX0\u001b[0m\u001b[1;33m)\u001b[0m\u001b[1;33m%\u001b[0m\u001b[0mboxLen\u001b[0m\u001b[1;33m,\u001b[0m \u001b[1;33m(\u001b[0m\u001b[0mY1\u001b[0m\u001b[1;33m-\u001b[0m\u001b[0mY0\u001b[0m\u001b[1;33m)\u001b[0m\u001b[1;33m%\u001b[0m\u001b[0mboxLen\u001b[0m\u001b[1;33m)\u001b[0m\u001b[1;33m)\u001b[0m\u001b[1;33m\u001b[0m\u001b[0m\n\u001b[0m",
      "\u001b[1;31mException\u001b[0m: (X1-X0) mod boxLen = 4, (Y1-Y0) mod boxLen=5"
     ]
    }
   ],
   "source": [
    "# cal, LtUpPt,LtDnPt,LtDnPt,RtDnPt,X0,Y0,X1,Y1\n",
    "#boxLen\n",
    "#boxWid\n",
    "\n",
    "# white row/col is belivable\n",
    "whiteRow = HnumArray[imDATA[0].mean(axis=1) > 225]\n",
    "whiteCol = VnumArray[imDATA[0].mean(axis=0) > 225]\n",
    "# black is uncertainty because of the captured boarder\n",
    "blackRow = HnumArray[imDATA[0].mean(axis=1) < 25]\n",
    "blackCol = VnumArray[imDATA[0].mean(axis=0) < 25]\n",
    "\n",
    "if whiteRow.shape == whiteCol.shape:\n",
    "    boxLen = whiteRow.shape[0]/4\n",
    "else:\n",
    "    raise Exception (\"ERROR: whiteRow is not equal to whiteCol\")\n",
    "\n",
    "print whiteRow, whiteCol, blackRow\n",
    "Y0 = whiteCol[2*boxLen-1] + boxLen + 1\n",
    "Y1 = whiteCol[2*boxLen]   - boxLen\n",
    "X0 = whiteRow[2*boxLen-1] + boxLen + 1\n",
    "X1 = whiteRow[2*boxLen]   - boxLen\n",
    "\n",
    "LtUpPt = (X0, Y0)\n",
    "LtDnPt = (X1, Y0)\n",
    "RtUpPt = (X0, Y1)\n",
    "RtDnPt = (X1, Y1)\n",
    "\n",
    "if (X1-X0)%boxLen !=0 or (Y1-Y0)%boxLen !=0 :\n",
    "    raise Exception(\"(X1-X0) mod boxLen = %d, (Y1-Y0) mod boxLen=%d\" % ((X1-X0)%boxLen, (Y1-Y0)%boxLen))\n"
   ]
  },
  {
   "cell_type": "code",
   "execution_count": null,
   "metadata": {},
   "outputs": [],
   "source": [
    "# check and correct each box\n",
    "whiteRow"
   ]
  },
  {
   "cell_type": "code",
   "execution_count": null,
   "metadata": {},
   "outputs": [],
   "source": [
    "# get pixel of each box\n",
    "def getBoxPIX(imPayload, boxNum=(0,0), boxLen=4):\n",
    "    boxData = np.zeros([3,boxLen, boxLen])\n",
    "    i0 = boxNum[0]*boxLen\n",
    "    i1 = (boxNum[0]+1)*boxLen\n",
    "    j0 = boxNum[1]*boxLen\n",
    "    j1 = (boxNum[1]+1)*boxLen\n",
    "    boxData[0] = imPayload[0][i0:i1,j0:j1]\n",
    "    boxData[1] = imPayload[1][i0:i1,j0:j1]\n",
    "    boxData[2] = imPayload[2][i0:i1,j0:j1]\n",
    "    print boxData\n",
    "    return boxData[0].mean(), boxData[1].mean(), boxData[2].mean()\n"
   ]
  },
  {
   "cell_type": "code",
   "execution_count": 474,
   "metadata": {},
   "outputs": [
    {
     "name": "stdout",
     "output_type": "stream",
     "text": [
      "(3L, 886L, 1846L)\n",
      "[[[ 170.  170.  170.   85.   85.   85.   85.]\n",
      "  [ 170.  170.  170.   85.   85.   85.   85.]\n",
      "  [ 170.  170.  170.   85.   85.   85.   85.]\n",
      "  [  85.   85.   85.  170.  170.  170.  170.]\n",
      "  [  85.   85.   85.  170.  170.  170.  170.]\n",
      "  [  85.   85.   85.  170.  170.  170.  170.]\n",
      "  [  85.   85.   85.  170.  170.  170.  170.]]\n",
      "\n",
      " [[ 170.  170.  170.   85.   85.   85.   85.]\n",
      "  [ 170.  170.  170.   85.   85.   85.   85.]\n",
      "  [ 170.  170.  170.   85.   85.   85.   85.]\n",
      "  [ 170.  170.  170.  255.  255.  255.  255.]\n",
      "  [ 170.  170.  170.  255.  255.  255.  255.]\n",
      "  [ 170.  170.  170.  255.  255.  255.  255.]\n",
      "  [ 170.  170.  170.  255.  255.  255.  255.]]\n",
      "\n",
      " [[ 255.  255.  255.  255.  255.  255.  255.]\n",
      "  [ 255.  255.  255.  255.  255.  255.  255.]\n",
      "  [ 170.  170.  170.  170.  170.  170.  170.]\n",
      "  [  85.   85.   85.   85.   85.   85.   85.]\n",
      "  [   0.    0.    0.    0.    0.    0.    0.]\n",
      "  [   0.    0.    0.    0.    0.    0.    0.]\n",
      "  [   0.    0.    0.    0.    0.    0.    0.]]]\n"
     ]
    },
    {
     "data": {
      "text/plain": [
       "(128.36734693877551, 176.9387755102041, 109.28571428571429)"
      ]
     },
     "execution_count": 474,
     "metadata": {},
     "output_type": "execute_result"
    }
   ],
   "source": [
    "imPayload = np.zeros([3, X1-X0, Y1-Y0])\n",
    "imPayload[0] = imDATA[0][X0:X1, Y0:Y1]\n",
    "imPayload[1] = imDATA[1][X0:X1, Y0:Y1]\n",
    "imPayload[2] = imDATA[2][X0:X1, Y0:Y1]\n",
    "print imPayload.shape\n",
    "getBoxPIX(imPayload, boxNum=(20,5), boxLen=boxLen)"
   ]
  },
  {
   "cell_type": "code",
   "execution_count": 444,
   "metadata": {},
   "outputs": [
    {
     "data": {
      "text/plain": [
       "7L"
      ]
     },
     "execution_count": 444,
     "metadata": {},
     "output_type": "execute_result"
    }
   ],
   "source": [
    "boxLen"
   ]
  },
  {
   "cell_type": "code",
   "execution_count": 445,
   "metadata": {},
   "outputs": [
    {
     "data": {
      "text/plain": [
       "(254, 0, 0)"
      ]
     },
     "execution_count": 445,
     "metadata": {},
     "output_type": "execute_result"
    }
   ],
   "source": [
    "imPIX[19,19]"
   ]
  },
  {
   "cell_type": "code",
   "execution_count": 446,
   "metadata": {},
   "outputs": [
    {
     "data": {
      "text/plain": [
       "(254, 0, 0)"
      ]
     },
     "execution_count": 446,
     "metadata": {},
     "output_type": "execute_result"
    }
   ],
   "source": [
    "imPIX[21,21]"
   ]
  },
  {
   "cell_type": "code",
   "execution_count": 447,
   "metadata": {},
   "outputs": [
    {
     "data": {
      "text/plain": [
       "(254, 0, 0)"
      ]
     },
     "execution_count": 447,
     "metadata": {},
     "output_type": "execute_result"
    }
   ],
   "source": [
    "imPIX[22,22]"
   ]
  },
  {
   "cell_type": "code",
   "execution_count": 448,
   "metadata": {},
   "outputs": [
    {
     "data": {
      "text/plain": [
       "(254, 0, 0)"
      ]
     },
     "execution_count": 448,
     "metadata": {},
     "output_type": "execute_result"
    }
   ],
   "source": [
    "imPIX[23,23]"
   ]
  },
  {
   "cell_type": "code",
   "execution_count": 346,
   "metadata": {},
   "outputs": [
    {
     "data": {
      "text/plain": [
       "(161, 61, 173)"
      ]
     },
     "execution_count": 346,
     "metadata": {},
     "output_type": "execute_result"
    }
   ],
   "source": [
    "imPIX[24,24]"
   ]
  },
  {
   "cell_type": "code",
   "execution_count": 347,
   "metadata": {},
   "outputs": [
    {
     "data": {
      "text/plain": [
       "(255, 0, 255)"
      ]
     },
     "execution_count": 347,
     "metadata": {},
     "output_type": "execute_result"
    }
   ],
   "source": [
    "imPIX[25,25]"
   ]
  },
  {
   "cell_type": "code",
   "execution_count": null,
   "metadata": {},
   "outputs": [],
   "source": [
    "def isBlackLine():\n",
    "    pass\n",
    "def isWhiteLine():\n",
    "    pass\n",
    "def isTimingLine():\n",
    "    pass\n",
    "def isRtUpCorn():\n",
    "    pass\n",
    "def isRtDnCorn():\n",
    "    pass\n",
    "def isLtUpCorn():\n",
    "    pass\n",
    "def isLtDnCorn():\n",
    "    pass\n",
    "def getBoxLen():\n",
    "    pass\n",
    "def getPayloadRtUpPoint():\n",
    "    pass\n",
    "def getPayloadRtDnPoint():\n",
    "    pass\n",
    "def getPayloadLtUpPoint():\n",
    "    pass\n",
    "def getPayloadLtDnPoint():\n",
    "    pass\n",
    "def getBoxValue():\n",
    "    pass"
   ]
  },
  {
   "cell_type": "code",
   "execution_count": 261,
   "metadata": {},
   "outputs": [
    {
     "name": "stdout",
     "output_type": "stream",
     "text": [
      "[[[ 0.  0.]\n",
      "  [ 0.  0.]\n",
      "  [ 0.  0.]\n",
      "  [ 0.  0.]]\n",
      "\n",
      " [[ 0.  0.]\n",
      "  [ 0.  0.]\n",
      "  [ 0.  0.]\n",
      "  [ 0.  0.]]\n",
      "\n",
      " [[ 0.  0.]\n",
      "  [ 0.  0.]\n",
      "  [ 0.  0.]\n",
      "  [ 0.  0.]]]\n",
      "[[[  63.  255.]\n",
      "  [  85.   85.]\n",
      "  [ 127.  255.]\n",
      "  [  85.  255.]]\n",
      "\n",
      " [[  63.  127.]\n",
      "  [ 255.  255.]\n",
      "  [  63.   63.]\n",
      "  [ 255.   63.]]\n",
      "\n",
      " [[ 127.  255.]\n",
      "  [ 255.  255.]\n",
      "  [ 255.   63.]\n",
      "  [ 255.  255.]]]\n"
     ]
    }
   ],
   "source": [
    "# depth=3, row=4, column=2\n",
    "data = np.zeros((3,4,2))\n",
    "print data\n",
    "for i in range(4):\n",
    "    for j in range(2):\n",
    "        r = random.choice([1,2,3,4])\n",
    "        g = random.choice([1,2,3,4])\n",
    "        b = random.choice([1,2,3,4])\n",
    "        r, g, b = 255/r, 255/g, 255/b\n",
    "        data[0][i][j] = r\n",
    "        data[1][i][j] = g\n",
    "        data[2][i][j] = b\n",
    "print data"
   ]
  },
  {
   "cell_type": "code",
   "execution_count": 300,
   "metadata": {},
   "outputs": [],
   "source": [
    "data[1]=data[1][0,1]\n"
   ]
  },
  {
   "cell_type": "code",
   "execution_count": 308,
   "metadata": {},
   "outputs": [
    {
     "data": {
      "text/plain": [
       "array([[ 127.]])"
      ]
     },
     "execution_count": 308,
     "metadata": {},
     "output_type": "execute_result"
    }
   ],
   "source": [
    "data[2][0:1,0:1]"
   ]
  }
 ],
 "metadata": {
  "kernelspec": {
   "display_name": "Python 2",
   "language": "python",
   "name": "python2"
  },
  "language_info": {
   "codemirror_mode": {
    "name": "ipython",
    "version": 2
   },
   "file_extension": ".py",
   "mimetype": "text/x-python",
   "name": "python",
   "nbconvert_exporter": "python",
   "pygments_lexer": "ipython2",
   "version": "2.7.13"
  }
 },
 "nbformat": 4,
 "nbformat_minor": 2
}
