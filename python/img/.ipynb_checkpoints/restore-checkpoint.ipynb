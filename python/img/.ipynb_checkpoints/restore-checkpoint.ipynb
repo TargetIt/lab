{
 "cells": [
  {
   "cell_type": "code",
   "execution_count": null,
   "metadata": {
    "collapsed": true
   },
   "outputs": [],
   "source": [
    "from PIL import Image, ImageDraw\n",
    "import random\n",
    "import numpy as np"
   ]
  },
  {
   "cell_type": "code",
   "execution_count": 46,
   "metadata": {},
   "outputs": [
    {
     "name": "stdout",
     "output_type": "stream",
     "text": [
      "1920 962\n"
     ]
    }
   ],
   "source": [
    "# read image\n",
    "im = Image.open('cap1.png')\n",
    "#im = Image.open('test.jpg')\n",
    "Vsize, Hsize = im.size\n",
    "VnumArray = np.arange(Vsize)\n",
    "HnumArray = np.arange(Hsize)\n",
    "boxLen = 0\n",
    "boxWid = 0\n",
    "print Vsize, Hsize\n",
    "im.show()"
   ]
  },
  {
   "cell_type": "code",
   "execution_count": 47,
   "metadata": {
    "collapsed": true
   },
   "outputs": [],
   "source": [
    "# convert image data to numpy format\n",
    "imPIX = im.load()\n",
    "imDATA = np.zeros((3, Hsize, Vsize))\n",
    "\n",
    "for x in range(Hsize):\n",
    "    for y in range(Vsize):\n",
    "        imDATA[0][x,y] = imPIX[y,x][0]\n",
    "        imDATA[1][x,y] = imPIX[y,x][1]\n",
    "        imDATA[2][x,y] = imPIX[y,x][2]"
   ]
  },
  {
   "cell_type": "code",
   "execution_count": 48,
   "metadata": {},
   "outputs": [],
   "source": [
    "# quantization\n",
    "def quantization(data, stat=np.array([0,85,170,255])):\n",
    "    delta = data - stat\n",
    "    delta = abs(delta)\n",
    "    mindelta = delta.min()\n",
    "    return stat[delta == mindelta]\n",
    "\n",
    "for x in range(Hsize):\n",
    "    for y in range(Vsize):\n",
    "        imDATA[0][x,y] = quantization(imDATA[0][x,y])\n",
    "        imDATA[1][x,y] = quantization(imDATA[1][x,y])\n",
    "        imDATA[2][x,y] = quantization(imDATA[2][x,y])\n"
   ]
  },
  {
   "cell_type": "code",
   "execution_count": 49,
   "metadata": {},
   "outputs": [],
   "source": [
    "### test\n",
    "#data = np.array([78])\n",
    "#stat=np.array([0,85,170,255])\n",
    "#delta = data - stat\n",
    "#delta = abs(delta)\n",
    "#mindelta = delta.min()\n",
    "#delta == mindelta\n",
    "##stat[delta == mindelta]"
   ]
  },
  {
   "cell_type": "code",
   "execution_count": 50,
   "metadata": {
    "collapsed": true
   },
   "outputs": [],
   "source": [
    "# correct"
   ]
  },
  {
   "cell_type": "code",
   "execution_count": 51,
   "metadata": {},
   "outputs": [
    {
     "data": {
      "text/plain": [
       "array([ 9.98440748,  9.98440748,  9.98440748, ...,  9.98440748,\n",
       "        9.98440748,  9.98440748])"
      ]
     },
     "execution_count": 51,
     "metadata": {},
     "output_type": "execute_result"
    }
   ],
   "source": [
    "\n",
    "\n",
    "imDATA[0].mean(axis=0)"
   ]
  },
  {
   "cell_type": "code",
   "execution_count": 52,
   "metadata": {
    "collapsed": true
   },
   "outputs": [],
   "source": [
    "a = imDATA[1].mean(axis=1)\n"
   ]
  },
  {
   "cell_type": "code",
   "execution_count": 63,
   "metadata": {
    "scrolled": true
   },
   "outputs": [
    {
     "name": "stdout",
     "output_type": "stream",
     "text": [
      "7\n",
      "[  9  10  11  12  13  14  15  24  25  26  27  28  29  30 931 932 933 934\n",
      " 935 936 937 946 947 948 949 950 951 952] [   8    9   10   11   12   13   14   23   24   25   26   27   28   29 1890\n",
      " 1891 1892 1893 1894 1895 1896 1905 1906 1907 1908 1909 1910 1911]\n",
      "38 924 37 1883\n",
      "(38, 37) (924, 1883)\n"
     ]
    },
    {
     "ename": "Exception",
     "evalue": "(X1-X0) mod boxLen = 4, (Y1-Y0) mod boxLen=5",
     "output_type": "error",
     "traceback": [
      "\u001b[1;31m---------------------------------------------------------------------------\u001b[0m",
      "\u001b[1;31mException\u001b[0m                                 Traceback (most recent call last)",
      "\u001b[1;32m<ipython-input-63-f483e36547b8>\u001b[0m in \u001b[0;36m<module>\u001b[1;34m()\u001b[0m\n\u001b[0;32m     28\u001b[0m \u001b[1;32mprint\u001b[0m \u001b[0mLtUpPt\u001b[0m\u001b[1;33m,\u001b[0m \u001b[0mRtDnPt\u001b[0m\u001b[1;33m\u001b[0m\u001b[0m\n\u001b[0;32m     29\u001b[0m \u001b[1;32mif\u001b[0m \u001b[1;33m(\u001b[0m\u001b[0mX1\u001b[0m\u001b[1;33m-\u001b[0m\u001b[0mX0\u001b[0m\u001b[1;33m)\u001b[0m\u001b[1;33m%\u001b[0m\u001b[0mboxLen\u001b[0m \u001b[1;33m!=\u001b[0m\u001b[1;36m0\u001b[0m \u001b[1;32mor\u001b[0m \u001b[1;33m(\u001b[0m\u001b[0mY1\u001b[0m\u001b[1;33m-\u001b[0m\u001b[0mY0\u001b[0m\u001b[1;33m)\u001b[0m\u001b[1;33m%\u001b[0m\u001b[0mboxLen\u001b[0m \u001b[1;33m!=\u001b[0m\u001b[1;36m0\u001b[0m \u001b[1;33m:\u001b[0m\u001b[1;33m\u001b[0m\u001b[0m\n\u001b[1;32m---> 30\u001b[1;33m     \u001b[1;32mraise\u001b[0m \u001b[0mException\u001b[0m\u001b[1;33m(\u001b[0m\u001b[1;34m\"(X1-X0) mod boxLen = %d, (Y1-Y0) mod boxLen=%d\"\u001b[0m \u001b[1;33m%\u001b[0m \u001b[1;33m(\u001b[0m\u001b[1;33m(\u001b[0m\u001b[0mX1\u001b[0m\u001b[1;33m-\u001b[0m\u001b[0mX0\u001b[0m\u001b[1;33m)\u001b[0m\u001b[1;33m%\u001b[0m\u001b[0mboxLen\u001b[0m\u001b[1;33m,\u001b[0m \u001b[1;33m(\u001b[0m\u001b[0mY1\u001b[0m\u001b[1;33m-\u001b[0m\u001b[0mY0\u001b[0m\u001b[1;33m)\u001b[0m\u001b[1;33m%\u001b[0m\u001b[0mboxLen\u001b[0m\u001b[1;33m)\u001b[0m\u001b[1;33m)\u001b[0m\u001b[1;33m\u001b[0m\u001b[0m\n\u001b[0m",
      "\u001b[1;31mException\u001b[0m: (X1-X0) mod boxLen = 4, (Y1-Y0) mod boxLen=5"
     ]
    }
   ],
   "source": [
    "# cal, LtUpPt,LtDnPt,LtDnPt,RtDnPt,X0,Y0,X1,Y1\n",
    "#boxLen\n",
    "#boxWid\n",
    "\n",
    "# white row/col is belivable\n",
    "whiteRow = HnumArray[imDATA[0].mean(axis=1) > 225]\n",
    "whiteCol = VnumArray[imDATA[0].mean(axis=0) > 225]\n",
    "# black is uncertainty because of the captured boarder\n",
    "blackRow = HnumArray[imDATA[0].mean(axis=1) < 25]\n",
    "blackCol = VnumArray[imDATA[0].mean(axis=0) < 25]\n",
    "\n",
    "if whiteRow.shape == whiteCol.shape:\n",
    "    boxLen = whiteRow.shape[0]/4\n",
    "    print boxLen\n",
    "else:\n",
    "    raise Exception (\"ERROR: whiteRow is not equal to whiteCol\")\n",
    "\n",
    "print whiteRow, whiteCol\n",
    "Y0 = whiteCol[2*boxLen-1] + boxLen + 1\n",
    "Y1 = whiteCol[2*boxLen]   - boxLen\n",
    "X0 = whiteRow[2*boxLen-1] + boxLen + 1\n",
    "X1 = whiteRow[2*boxLen]   - boxLen\n",
    "print X0, X1, Y0,Y1\n",
    "LtUpPt = (X0, Y0)\n",
    "LtDnPt = (X1, Y0)\n",
    "RtUpPt = (X0, Y1)\n",
    "RtDnPt = (X1, Y1)\n",
    "print LtUpPt, RtDnPt\n",
    "if (X1-X0)%boxLen !=0 or (Y1-Y0)%boxLen !=0 :\n",
    "    raise Exception(\"(X1-X0) mod boxLen = %d, (Y1-Y0) mod boxLen=%d\" % ((X1-X0)%boxLen, (Y1-Y0)%boxLen))\n"
   ]
  },
  {
   "cell_type": "code",
   "execution_count": 101,
   "metadata": {
    "scrolled": true
   },
   "outputs": [],
   "source": [
    "tmp = imDATA.sum(axis=0)\n",
    "#tmp.mean(axis=1) > 225*3\n",
    "timingRow = HnumArray[whiteRow[boxLen-1]+1:whiteRow[boxLen]-1]\n",
    "timingCol = HnumArray[whiteCol[boxLen-1]+1:whiteCol[boxLen]-1]\n",
    "#timingRowPos = X0:X1, whiteRow[boxLen-1]+1:whiteRow[boxLen]\n",
    "tmp1 = tmp[X0:X1,whiteRow[boxLen-1]+1:whiteRow[boxLen]-1]"
   ]
  },
  {
   "cell_type": "code",
   "execution_count": 102,
   "metadata": {},
   "outputs": [
    {
     "data": {
      "text/plain": [
       "(886L, 7L)"
      ]
     },
     "execution_count": 102,
     "metadata": {},
     "output_type": "execute_result"
    }
   ],
   "source": [
    "tmp1.shape"
   ]
  },
  {
   "cell_type": "code",
   "execution_count": 97,
   "metadata": {},
   "outputs": [
    {
     "data": {
      "text/plain": [
       "(962L, 1920L)"
      ]
     },
     "execution_count": 97,
     "metadata": {},
     "output_type": "execute_result"
    }
   ],
   "source": [
    "tmp.shape"
   ]
  },
  {
   "cell_type": "code",
   "execution_count": 104,
   "metadata": {},
   "outputs": [
    {
     "data": {
      "text/plain": [
       "array([ 4165.,  5355.,  5355.,  5355.,  5355.,  5355.,  5355.,  5355.,\n",
       "         510.,   510.,   510.,   510.,   510.,   510.,   510.,  3570.,\n",
       "        5355.,  5355.,  5355.,  5355.,  5355.,  5355.,  5355.,   510.,\n",
       "         510.,   510.,   510.,   510.,   510.,   510.,  3570.,  5355.,\n",
       "        5355.,  5355.,  5355.,  5355.,  5355.,  5355.,   510.,   510.,\n",
       "         510.,   510.,   510.,   510.,   510.,  3570.,  5355.,  5355.,\n",
       "        5355.,  5355.,  5355.,  5355.,  5355.,   510.,   510.,   510.,\n",
       "         510.,   510.,   510.,   510.,  3570.,  5355.,  5355.,  5355.,\n",
       "        5355.,  5355.,  5355.,  5355.,   510.,   510.,   510.,   510.,\n",
       "         510.,   510.,   510.,  3570.,  5355.,  5355.,  5355.,  5355.,\n",
       "        5355.,  5355.,  5355.,   510.,   510.,   510.,   510.,   510.,\n",
       "         510.,   510.,  3570.,  5355.,  5355.,  5355.,  5355.,  5355.,\n",
       "        5355.,  5355.,   510.,   510.,   510.,   510.,   510.,   510.,\n",
       "         510.,  3570.,  5355.,  5355.,  5355.,  5355.,  5355.,  5355.,\n",
       "        5355.,   510.,   510.,   510.,   510.,   510.,   510.,   510.,\n",
       "        3570.,  5355.,  5355.,  5355.,  5355.,  5355.,  5355.,  5355.,\n",
       "         510.,   510.,   510.,   510.,   510.,   510.,   510.,  3570.,\n",
       "        5355.,  5355.,  5355.,  5355.,  5355.,  5355.,  5355.,   510.,\n",
       "         510.,   510.,   510.,   510.,   510.,   510.,  3570.,  5355.,\n",
       "        5355.,  5355.,  5355.,  5355.,  5355.,  5355.,   510.,   510.,\n",
       "         510.,   510.,   510.,   510.,   510.,  3570.,  5355.,  5355.,\n",
       "        5355.,  5355.,  5355.,  5355.,  5355.,   510.,   510.,   510.,\n",
       "         510.,   510.,   510.,   510.,  3570.,  5355.,  5355.,  5355.,\n",
       "        5355.,  5355.,  5355.,  5355.,   510.,   510.,   510.,   510.,\n",
       "         510.,   510.,   510.,  3570.,  5355.,  5355.,  5355.,  5355.,\n",
       "        5355.,  5355.,  5355.,   510.,   510.,   510.,   510.,   510.,\n",
       "         510.,   510.,  3570.,  5355.,  5355.,  5355.,  5355.,  5355.,\n",
       "        5355.,  5355.,   510.,   510.,   510.,   510.,   510.,   510.,\n",
       "         510.,  3570.,  5355.,  5355.,  5355.,  5355.,  5355.,  5355.,\n",
       "        5355.,   510.,   510.,   510.,   510.,   510.,   510.,   510.,\n",
       "        3570.,  5355.,  5355.,  5355.,  5355.,  5355.,  5355.,  5355.,\n",
       "         510.,   510.,   510.,   510.,   510.,   510.,   510.,  3570.,\n",
       "        5355.,  5355.,  5355.,  5355.,  5355.,  5355.,  5355.,   510.,\n",
       "         510.,   510.,   510.,   510.,   510.,   510.,  3570.,  5355.,\n",
       "        5355.,  5355.,  5355.,  5355.,  5355.,  5355.,   510.,   510.,\n",
       "         510.,   510.,   510.,   510.,   510.,  3570.,  5355.,  5355.,\n",
       "        5355.,  5355.,  5355.,  5355.,  5355.,   510.,   510.,   510.,\n",
       "         510.,   510.,   510.,   510.,  3570.,  5355.,  5355.,  5355.,\n",
       "        5355.,  5355.,  5355.,  5355.,   510.,   510.,   510.,   510.,\n",
       "         510.,   510.,   510.,  3570.,  5355.,  5355.,  5355.,  5355.,\n",
       "        5355.,  5355.,  5355.,   510.,   510.,   510.,   510.,   510.,\n",
       "         510.,   510.,  3570.,  5355.,  5355.,  5355.,  5355.,  5355.,\n",
       "        5355.,  5355.,   510.,   510.,   510.,   510.,   510.,   510.,\n",
       "         510.,  3570.,  5355.,  5355.,  5355.,  5355.,  5355.,  5355.,\n",
       "        5355.,   510.,   510.,   510.,   510.,   510.,   510.,   510.,\n",
       "        3570.,  5355.,  5355.,  5355.,  5355.,  5355.,  5355.,  5355.,\n",
       "         510.,   510.,   510.,   510.,   510.,   510.,   510.,  3570.,\n",
       "        5355.,  5355.,  5355.,  5355.,  5355.,  5355.,  5355.,   510.,\n",
       "         510.,   510.,   510.,   510.,   510.,   510.,  3570.,  5355.,\n",
       "        5355.,  5355.,  5355.,  5355.,  5355.,  5355.,   510.,   510.,\n",
       "         510.,   510.,   510.,   510.,   510.,  3570.,  5355.,  5355.,\n",
       "        5355.,  5355.,  5355.,  5355.,  5355.,   510.,   510.,   510.,\n",
       "         510.,   510.,   510.,   510.,  3570.,  5355.,  5355.,  5355.,\n",
       "        5355.,  5355.,  5355.,  5355.,   510.,   510.,   510.,   510.,\n",
       "         510.,   510.,   510.,  3570.,  5355.,  5355.,  5355.,  5355.,\n",
       "        5355.,  5355.,  5355.,   510.,   510.,   510.,   510.,   510.,\n",
       "         510.,   510.,  3570.,  5355.,  5355.,  5355.,  5355.,  5355.,\n",
       "        5355.,  5355.,   510.,   510.,   510.,   510.,   510.,   510.,\n",
       "         510.,  3570.,  5355.,  5355.,  5355.,  5355.,  5355.,  5355.,\n",
       "        5355.,   510.,   510.,   510.,   510.,   510.,   510.,   510.,\n",
       "        3570.,  5355.,  5355.,  5355.,  5355.,  5355.,  5355.,  5355.,\n",
       "         510.,   510.,   510.,   510.,   510.,   510.,   510.,  3570.,\n",
       "        5355.,  5355.,  5355.,  5355.,  5355.,  5355.,  5355.,   510.,\n",
       "         510.,   510.,   510.,   510.,   510.,   510.,  3570.,  5355.,\n",
       "        5355.,  5355.,  5355.,  5355.,  5355.,  5355.,   510.,   510.,\n",
       "         510.,   510.,   510.,   510.,   510.,  3570.,  5355.,  5355.,\n",
       "        5355.,  5355.,  5355.,  5355.,  5355.,   510.,   510.,   510.,\n",
       "         510.,   510.,   510.,   510.,  3570.,  5355.,  5355.,  5355.,\n",
       "        5355.,  5355.,  5355.,  5355.,   510.,   510.,   510.,   510.,\n",
       "         510.,   510.,   510.,  3570.,  5355.,  5355.,  5355.,  5355.,\n",
       "        5355.,  5355.,  5355.,   510.,   510.,   510.,   510.,   510.,\n",
       "         510.,   510.,  3570.,  5355.,  5355.,  5355.,  5355.,  5355.,\n",
       "        5355.,  5355.,   510.,   510.,   510.,   510.,   510.,   510.,\n",
       "         510.,  3570.,  5355.,  5355.,  5355.,  5355.,  5355.,  5355.,\n",
       "        5355.,   510.,   510.,   510.,   510.,   510.,   510.,   510.,\n",
       "        3570.,  5355.,  5355.,  5355.,  5355.,  5355.,  5355.,  5355.,\n",
       "         510.,   510.,   510.,   510.,   510.,   510.,   510.,  3570.,\n",
       "        5355.,  5355.,  5355.,  5355.,  5355.,  5355.,  5355.,   510.,\n",
       "         510.,   510.,   510.,   510.,   510.,   510.,  3570.,  5355.,\n",
       "        5355.,  5355.,  5355.,  5355.,  5355.,  5355.,   510.,   510.,\n",
       "         510.,   510.,   510.,   510.,   510.,  3570.,  5355.,  5355.,\n",
       "        5355.,  5355.,  5355.,  5355.,  5355.,   510.,   510.,   510.,\n",
       "         510.,   510.,   510.,   510.,  3570.,  5355.,  5355.,  5355.,\n",
       "        5355.,  5355.,  5355.,  5355.,   510.,   510.,   510.,   510.,\n",
       "         510.,   510.,   510.,  3570.,  5355.,  5355.,  5355.,  5355.,\n",
       "        5355.,  5355.,  5355.,   510.,   510.,   510.,   510.,   510.,\n",
       "         510.,   510.,  3570.,  5355.,  5355.,  5355.,  5355.,  5355.,\n",
       "        5355.,  5355.,   510.,   510.,   510.,   510.,   510.,   510.,\n",
       "         510.,  3570.,  5355.,  5355.,  5355.,  5355.,  5355.,  5355.,\n",
       "        5355.,   510.,   510.,   510.,   510.,   510.,   510.,   510.,\n",
       "        3570.,  5355.,  5355.,  5355.,  5355.,  5355.,  5355.,  5355.,\n",
       "         510.,   510.,   510.,   510.,   510.,   510.,   510.,  3570.,\n",
       "        5355.,  5355.,  5355.,  5355.,  5355.,  5355.,  5355.,   510.,\n",
       "         510.,   510.,   510.,   510.,   510.,   510.,  3570.,  5355.,\n",
       "        5355.,  5355.,  5355.,  5355.,  5355.,  5355.,   510.,   510.,\n",
       "         510.,   510.,   510.,   510.,   510.,  3570.,  5355.,  5355.,\n",
       "        5355.,  5355.,  5355.,  5355.,  5355.,   510.,   510.,   510.,\n",
       "         510.,   510.,   510.,   510.,  3570.,  5355.,  5355.,  5355.,\n",
       "        5355.,  5355.,  5355.,  5355.,   510.,   510.,   510.,   510.,\n",
       "         510.,   510.,   510.,  3570.,  5355.,  5355.,  5355.,  5355.,\n",
       "        5355.,  5355.,  5355.,   510.,   510.,   510.,   510.,   510.,\n",
       "         510.,   510.,  3570.,  5355.,  5355.,  5355.,  5355.,  5355.,\n",
       "        5355.,  5355.,   510.,   510.,   510.,   510.,   510.,   510.,\n",
       "         510.,  3570.,  5355.,  5355.,  5355.,  5355.,  5355.,  5355.,\n",
       "        5355.,   510.,   510.,   510.,   510.,   510.,   510.,   510.,\n",
       "        3570.,  5355.,  5355.,  5355.,  5355.,  5355.,  5355.,  5355.,\n",
       "         510.,   510.,   510.,   510.,   510.,   510.,   510.,  3570.,\n",
       "        5355.,  5355.,  5355.,  5355.,  5355.,  5355.,  5355.,   510.,\n",
       "         510.,   510.,   510.,   510.,   510.,   510.,  3570.,  5355.,\n",
       "        5355.,  5355.,  5355.,  5355.,  5355.,  5355.,   510.,   510.,\n",
       "         510.,   510.,   510.,   510.,   510.,  1360.])"
      ]
     },
     "execution_count": 104,
     "metadata": {},
     "output_type": "execute_result"
    }
   ],
   "source": [
    "tmp1.sum(axis=1)"
   ]
  },
  {
   "cell_type": "code",
   "execution_count": null,
   "metadata": {},
   "outputs": [],
   "source": [
    "# check and correct each box\n",
    "whiteRow"
   ]
  },
  {
   "cell_type": "code",
   "execution_count": null,
   "metadata": {},
   "outputs": [],
   "source": [
    "print (X1-X0)%boxLen, (Y1-Y0)%boxLen"
   ]
  },
  {
   "cell_type": "code",
   "execution_count": null,
   "metadata": {},
   "outputs": [],
   "source": [
    "whiteRow.shape[0]"
   ]
  },
  {
   "cell_type": "code",
   "execution_count": null,
   "metadata": {},
   "outputs": [],
   "source": [
    "im.show()"
   ]
  },
  {
   "cell_type": "code",
   "execution_count": 42,
   "metadata": {
    "collapsed": true
   },
   "outputs": [],
   "source": [
    "# get pixel of each box\n",
    "def getBoxPIX(imPayload, boxNum=(0,0), boxLen=4):\n",
    "    boxData = np.zeros([3,boxLen, boxLen])\n",
    "    i0 = boxNum[0]*boxLen\n",
    "    i1 = (boxNum[0]+1)*boxLen\n",
    "    j0 = boxNum[1]*boxLen\n",
    "    j1 = (boxNum[1]+1)*boxLen\n",
    "    boxData[0] = imPayload[0][i0:i1,j0:j1]\n",
    "    boxData[1] = imPayload[1][i0:i1,j0:j1]\n",
    "    boxData[2] = imPayload[2][i0:i1,j0:j1]\n",
    "    print boxData\n",
    "    return boxData[0].mean(), boxData[1].mean(), boxData[2].mean()\n"
   ]
  },
  {
   "cell_type": "code",
   "execution_count": 45,
   "metadata": {},
   "outputs": [
    {
     "name": "stdout",
     "output_type": "stream",
     "text": [
      "(3L, 826L, 1722L)\n",
      "[[[  85.   85.   85.   85.   85.   85.   85.]\n",
      "  [  85.   85.   85.   85.   85.   85.    0.]\n",
      "  [  85.   85.   85.   85.   85.   85.   85.]\n",
      "  [  85.   85.   85.   85.   85.   85.   85.]\n",
      "  [  85.   85.   85.   85.   85.   85.    0.]\n",
      "  [  85.   85.   85.   85.   85.   85.   85.]\n",
      "  [  85.  170.  170.   85.  170.   85.   85.]]\n",
      "\n",
      " [[  85.   85.   85.   85.   85.   85.   85.]\n",
      "  [  85.   85.   85.   85.   85.   85.   85.]\n",
      "  [  85.   85.   85.   85.   85.   85.   85.]\n",
      "  [  85.   85.   85.   85.   85.   85.   85.]\n",
      "  [  85.   85.   85.   85.   85.   85.   85.]\n",
      "  [  85.   85.   85.   85.   85.   85.   85.]\n",
      "  [  85.   85.   85.   85.   85.   85.   85.]]\n",
      "\n",
      " [[ 170.  255.  255.  255.  255.  255.  170.]\n",
      "  [ 255.  255.  255.  255.  255.  255.  170.]\n",
      "  [ 170.  255.  255.  255.  255.  255.  170.]\n",
      "  [ 255.  255.  255.  255.  255.  255.  170.]\n",
      "  [ 255.  255.  255.  255.  255.  255.  255.]\n",
      "  [ 170.  255.  255.  255.  255.  255.  170.]\n",
      "  [ 170.  170.  170.  170.  170.  170.   85.]]]\n"
     ]
    },
    {
     "data": {
      "text/plain": [
       "(86.734693877551024, 85.0, 227.24489795918367)"
      ]
     },
     "execution_count": 45,
     "metadata": {},
     "output_type": "execute_result"
    }
   ],
   "source": [
    "imPayload = np.zeros([3, X1-X0, Y1-Y0])\n",
    "imPayload[0] = imDATA[0][X0:X1, Y0:Y1]\n",
    "imPayload[1] = imDATA[1][X0:X1, Y0:Y1]\n",
    "imPayload[2] = imDATA[2][X0:X1, Y0:Y1]\n",
    "print imPayload.shape\n",
    "getBoxPIX(imPayload, boxNum=(45,5), boxLen=boxLen)"
   ]
  },
  {
   "cell_type": "code",
   "execution_count": null,
   "metadata": {},
   "outputs": [],
   "source": [
    "boxLen"
   ]
  },
  {
   "cell_type": "code",
   "execution_count": null,
   "metadata": {},
   "outputs": [],
   "source": [
    "imPIX[19,19]"
   ]
  },
  {
   "cell_type": "code",
   "execution_count": null,
   "metadata": {},
   "outputs": [],
   "source": [
    "imPIX[21,21]"
   ]
  },
  {
   "cell_type": "code",
   "execution_count": null,
   "metadata": {},
   "outputs": [],
   "source": [
    "imPIX[22,22]"
   ]
  },
  {
   "cell_type": "code",
   "execution_count": null,
   "metadata": {},
   "outputs": [],
   "source": [
    "imPIX[23,23]"
   ]
  },
  {
   "cell_type": "code",
   "execution_count": null,
   "metadata": {},
   "outputs": [],
   "source": [
    "imPIX[24,24]"
   ]
  },
  {
   "cell_type": "code",
   "execution_count": null,
   "metadata": {},
   "outputs": [],
   "source": [
    "imPIX[25,25]"
   ]
  },
  {
   "cell_type": "code",
   "execution_count": null,
   "metadata": {
    "collapsed": true
   },
   "outputs": [],
   "source": [
    "def isBlackLine():\n",
    "    pass\n",
    "def isWhiteLine():\n",
    "    pass\n",
    "def isTimingLine():\n",
    "    pass\n",
    "def isRtUpCorn():\n",
    "    pass\n",
    "def isRtDnCorn():\n",
    "    pass\n",
    "def isLtUpCorn():\n",
    "    pass\n",
    "def isLtDnCorn():\n",
    "    pass\n",
    "def getBoxLen():\n",
    "    pass\n",
    "def getPayloadRtUpPoint():\n",
    "    pass\n",
    "def getPayloadRtDnPoint():\n",
    "    pass\n",
    "def getPayloadLtUpPoint():\n",
    "    pass\n",
    "def getPayloadLtDnPoint():\n",
    "    pass\n",
    "def getBoxValue():\n",
    "    pass"
   ]
  },
  {
   "cell_type": "code",
   "execution_count": null,
   "metadata": {},
   "outputs": [],
   "source": [
    "# depth=3, row=4, column=2\n",
    "data = np.zeros((3,4,2))\n",
    "print data\n",
    "for i in range(4):\n",
    "    for j in range(2):\n",
    "        r = random.choice([1,2,3,4])\n",
    "        g = random.choice([1,2,3,4])\n",
    "        b = random.choice([1,2,3,4])\n",
    "        r, g, b = 255/r, 255/g, 255/b\n",
    "        data[0][i][j] = r\n",
    "        data[1][i][j] = g\n",
    "        data[2][i][j] = b\n",
    "print data"
   ]
  },
  {
   "cell_type": "code",
   "execution_count": null,
   "metadata": {
    "collapsed": true
   },
   "outputs": [],
   "source": [
    "data[1]=data[1][0,1]\n"
   ]
  },
  {
   "cell_type": "code",
   "execution_count": null,
   "metadata": {},
   "outputs": [],
   "source": [
    "data[2][0:1,0:1]"
   ]
  }
 ],
 "metadata": {
  "kernelspec": {
   "display_name": "Python 2",
   "language": "python",
   "name": "python2"
  },
  "language_info": {
   "codemirror_mode": {
    "name": "ipython",
    "version": 2
   },
   "file_extension": ".py",
   "mimetype": "text/x-python",
   "name": "python",
   "nbconvert_exporter": "python",
   "pygments_lexer": "ipython2",
   "version": "2.7.13"
  }
 },
 "nbformat": 4,
 "nbformat_minor": 2
}
