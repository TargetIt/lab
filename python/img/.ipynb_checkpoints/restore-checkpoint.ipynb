{
 "cells": [
  {
   "cell_type": "code",
   "execution_count": 3,
   "metadata": {},
   "outputs": [],
   "source": [
    "from PIL import Image, ImageDraw\n",
    "import random\n",
    "import numpy as np"
   ]
  },
  {
   "cell_type": "code",
   "execution_count": 173,
   "metadata": {},
   "outputs": [
    {
     "name": "stdout",
     "output_type": "stream",
     "text": [
      "1024 512\n"
     ]
    }
   ],
   "source": [
    "# read image\n",
    "im = Image.open('test.jpg')\n",
    "Vsize, Hsize = im.size\n",
    "VnumArray = np.arange(Vsize)\n",
    "HnumArray = np.arange(Hsize)\n",
    "boxLen = 0\n",
    "boxWid = 0\n",
    "print Vsize, Hsize\n",
    "im.show()"
   ]
  },
  {
   "cell_type": "code",
   "execution_count": 88,
   "metadata": {},
   "outputs": [],
   "source": [
    "# convert image data to numpy format\n",
    "imPIX = im.load()\n",
    "imDATA = np.zeros((3, Hsize, Vsize))\n",
    "\n",
    "for x in range(Hsize):\n",
    "    for y in range(Vsize):\n",
    "        imDATA[0][x,y] = imPIX[y,x][0]\n",
    "        imDATA[1][x,y] = imPIX[y,x][1]\n",
    "        imDATA[2][x,y] = imPIX[y,x][2]"
   ]
  },
  {
   "cell_type": "code",
   "execution_count": 150,
   "metadata": {},
   "outputs": [],
   "source": [
    "# quantization\n",
    "def quantization(data, stat=np.array([0,85,170,255])):\n",
    "    delta = data - stat\n",
    "    delta = abs(delta)\n",
    "    mindelta = delta.min()\n",
    "    return stat[delta == mindelta]\n",
    "\n",
    "for x in range(Hsize):\n",
    "    for y in range(Vsize):\n",
    "        imDATA[0][x,y] = quantization(imDATA[0][x,y])\n",
    "        imDATA[1][x,y] = quantization(imDATA[1][x,y])\n",
    "        imDATA[2][x,y] = quantization(imDATA[2][x,y])\n",
    "## test\n",
    "#data = np.array([78])\n",
    "#stat=np.array([0,85,170,255])\n",
    "#delta = data - stat\n",
    "#delta = abs(delta)\n",
    "#mindelta = delta.min()\n",
    "#stat[delta == mindelta]"
   ]
  },
  {
   "cell_type": "code",
   "execution_count": 152,
   "metadata": {},
   "outputs": [],
   "source": [
    "# correct"
   ]
  },
  {
   "cell_type": "code",
   "execution_count": 146,
   "metadata": {},
   "outputs": [
    {
     "data": {
      "text/plain": [
       "array([  9.79492188,   9.79492188,   9.9609375 , ...,  10.12695312,\n",
       "        10.12695312,   9.9609375 ])"
      ]
     },
     "execution_count": 146,
     "metadata": {},
     "output_type": "execute_result"
    }
   ],
   "source": [
    "# cal mean and var of each row and column\n",
    "#boxLen\n",
    "#boxWid\n",
    "\n",
    "imDATA[0].mean(axis=0)"
   ]
  },
  {
   "cell_type": "code",
   "execution_count": 154,
   "metadata": {},
   "outputs": [],
   "source": [
    "a = imDATA[1].mean(axis=1)\n"
   ]
  },
  {
   "cell_type": "code",
   "execution_count": 225,
   "metadata": {},
   "outputs": [
    {
     "name": "stdout",
     "output_type": "stream",
     "text": [
      "(19, 19) (492, 19) (19, 1004) (492, 1004)\n"
     ]
    }
   ],
   "source": [
    "# white row/col is belivable\n",
    "whiteRow = HnumArray[imDATA[0].mean(axis=1) > 225]\n",
    "whiteCol = VnumArray[imDATA[0].mean(axis=0) > 225]\n",
    "# black is uncertainty because of the captured boarder\n",
    "blackRow = HnumArray[imDATA[0].mean(axis=1) < 25]\n",
    "blackCol = VnumArray[imDATA[0].mean(axis=0) < 25]\n",
    "\n",
    "if whiteRow.shape == whiteCol.shape:\n",
    "    boxLen = whiteRow.shape[0]/4\n",
    "else:\n",
    "    print \"ERROR: whiteRow is not equal to whiteCol\"\n",
    "\n",
    "X0 = whiteCol[2*boxLen-1] + boxLen\n",
    "X1 = whiteCol[2*boxLen]   - boxLen\n",
    "Y0 = whiteRow[2*boxLen-1] + boxLen\n",
    "Y1 = whiteRow[2*boxLen]   - boxLen\n",
    "\n",
    "LtUpPt = (Y0, X0)\n",
    "LtDnPt = (Y1, X0)\n",
    "RtUpPt = (Y0, X1)\n",
    "RtDnPt = (Y1, X1)\n",
    "\n",
    "print LtUpPt, LtDnPt, RtUpPt, RtDnPt"
   ]
  },
  {
   "cell_type": "code",
   "execution_count": 202,
   "metadata": {},
   "outputs": [
    {
     "data": {
      "text/plain": [
       "array([  4,   5,   6,   7,  12,  13,  14,  15, 496, 497, 498, 499, 504,\n",
       "       505, 506, 507])"
      ]
     },
     "execution_count": 202,
     "metadata": {},
     "output_type": "execute_result"
    }
   ],
   "source": [
    "whiteRow"
   ]
  },
  {
   "cell_type": "code",
   "execution_count": 203,
   "metadata": {},
   "outputs": [
    {
     "data": {
      "text/plain": [
       "array([   4,    5,    6,    7,   12,   13,   14,   15, 1008, 1009, 1010,\n",
       "       1011, 1016, 1017, 1018, 1019])"
      ]
     },
     "execution_count": 203,
     "metadata": {},
     "output_type": "execute_result"
    }
   ],
   "source": [
    "whiteCol"
   ]
  },
  {
   "cell_type": "code",
   "execution_count": 149,
   "metadata": {},
   "outputs": [
    {
     "data": {
      "text/plain": [
       "array([ 4.98046875,  4.98046875,  4.98046875,  4.98046875,  4.98046875,\n",
       "        4.98046875,  4.98046875,  4.81445312,  4.98046875,  4.98046875,\n",
       "        4.98046875,  4.98046875,  4.98046875,  4.98046875,  4.98046875,\n",
       "        4.98046875])"
      ]
     },
     "execution_count": 149,
     "metadata": {},
     "output_type": "execute_result"
    }
   ],
   "source": [
    "a[a < 50]"
   ]
  },
  {
   "cell_type": "code",
   "execution_count": null,
   "metadata": {},
   "outputs": [],
   "source": [
    "def isBlackLine():\n",
    "    pass\n",
    "def isWhiteLine():\n",
    "    pass\n",
    "def isTimingLine():\n",
    "    pass\n",
    "def isRtUpCorn():\n",
    "    pass\n",
    "def isRtDnCorn():\n",
    "    pass\n",
    "def isLtUpCorn():\n",
    "    pass\n",
    "def isLtDnCorn():\n",
    "    pass\n",
    "def getBoxLen():\n",
    "    pass\n",
    "def getPayloadRtUpPoint():\n",
    "    pass\n",
    "def getPayloadRtDnPoint():\n",
    "    pass\n",
    "def getPayloadLtUpPoint():\n",
    "    pass\n",
    "def getPayloadLtDnPoint():\n",
    "    pass\n",
    "def getBoxValue():\n",
    "    pass"
   ]
  },
  {
   "cell_type": "code",
   "execution_count": 15,
   "metadata": {},
   "outputs": [
    {
     "name": "stdout",
     "output_type": "stream",
     "text": [
      "[[[ 0.  0.]\n",
      "  [ 0.  0.]\n",
      "  [ 0.  0.]\n",
      "  [ 0.  0.]]\n",
      "\n",
      " [[ 0.  0.]\n",
      "  [ 0.  0.]\n",
      "  [ 0.  0.]\n",
      "  [ 0.  0.]]\n",
      "\n",
      " [[ 0.  0.]\n",
      "  [ 0.  0.]\n",
      "  [ 0.  0.]\n",
      "  [ 0.  0.]]]\n",
      "[[[ 255.   63.]\n",
      "  [  85.   63.]\n",
      "  [ 255.   63.]\n",
      "  [  63.  127.]]\n",
      "\n",
      " [[  85.  127.]\n",
      "  [  63.   63.]\n",
      "  [  85.   85.]\n",
      "  [  85.   63.]]\n",
      "\n",
      " [[  63.   85.]\n",
      "  [  63.  255.]\n",
      "  [  63.  127.]\n",
      "  [ 255.  127.]]]\n"
     ]
    }
   ],
   "source": [
    "# depth=3, row=4, column=2\n",
    "data = np.zeros((3,4,2))\n",
    "print data\n",
    "for i in range(4):\n",
    "    for j in range(2):\n",
    "        r = random.choice([1,2,3,4])\n",
    "        g = random.choice([1,2,3,4])\n",
    "        b = random.choice([1,2,3,4])\n",
    "        r, g, b = 255/r, 255/g, 255/b\n",
    "        data[0][i][j] = r\n",
    "        data[1][i][j] = g\n",
    "        data[2][i][j] = b\n",
    "print data"
   ]
  },
  {
   "cell_type": "code",
   "execution_count": 35,
   "metadata": {},
   "outputs": [
    {
     "data": {
      "text/plain": [
       "array([ 164.5,   79. ])"
      ]
     },
     "execution_count": 35,
     "metadata": {},
     "output_type": "execute_result"
    }
   ],
   "source": [
    "data[0].mean(axis=0)"
   ]
  }
 ],
 "metadata": {
  "kernelspec": {
   "display_name": "Python 2",
   "language": "python",
   "name": "python2"
  },
  "language_info": {
   "codemirror_mode": {
    "name": "ipython",
    "version": 2
   },
   "file_extension": ".py",
   "mimetype": "text/x-python",
   "name": "python",
   "nbconvert_exporter": "python",
   "pygments_lexer": "ipython2",
   "version": "2.7.13"
  }
 },
 "nbformat": 4,
 "nbformat_minor": 2
}
