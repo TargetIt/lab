{
 "cells": [
  {
   "cell_type": "code",
   "execution_count": 1,
   "metadata": {},
   "outputs": [],
   "source": [
    "from PIL import Image, ImageDraw"
   ]
  },
  {
   "cell_type": "code",
   "execution_count": 2,
   "metadata": {
    "collapsed": true
   },
   "outputs": [],
   "source": [
    "im = Image.new(\"RGB\", (512,512), \"white\")"
   ]
  },
  {
   "cell_type": "code",
   "execution_count": 3,
   "metadata": {
    "collapsed": true
   },
   "outputs": [],
   "source": [
    "draw = ImageDraw.Draw(im)"
   ]
  },
  {
   "cell_type": "code",
   "execution_count": 4,
   "metadata": {
    "collapsed": true
   },
   "outputs": [],
   "source": [
    "draw.line((0,0)+im.size, fill=128)\n",
    "draw.line((0, im.size[1], im.size[0], 0), fill=128)"
   ]
  },
  {
   "cell_type": "code",
   "execution_count": 5,
   "metadata": {
    "collapsed": true
   },
   "outputs": [],
   "source": [
    "#draw.rectangle(box, options)\n",
    "box = [(0,0), (3,3)]\n",
    "color = (0,255,0)\n",
    "draw.rectangle(box, color)\n",
    "draw.rectangle([(0,128),(5, 132)], (0,0,128))"
   ]
  },
  {
   "cell_type": "code",
   "execution_count": null,
   "metadata": {},
   "outputs": [],
   "source": [
    "im_r, im_g, im_b = im.split()"
   ]
  },
  {
   "cell_type": "code",
   "execution_count": 88,
   "metadata": {
    "collapsed": true
   },
   "outputs": [],
   "source": [
    "im.show()"
   ]
  },
  {
   "cell_type": "code",
   "execution_count": 6,
   "metadata": {},
   "outputs": [],
   "source": [
    "\n",
    "def drawBox(im, box, color):\n",
    "    draw = ImageDraw.Draw(im)\n",
    "    draw.rectangle(box,color)\n",
    "\n",
    "# boxNum = (column Num , row Num)\n",
    "def drawBoxNum(im, boxNum, color=(0,0,255), boxLen=4):\n",
    "    Csize, Rsize = im.size\n",
    "    if Rsize%boxLen != 0 or Csize%boxLen != 0:\n",
    "        print (\"ERROR: Rsize is %d, Csize is %d, boxLen is %d\", (Rsize, Csize, boxLen))\n",
    "        return 0\n",
    "    elif boxNum[0]*boxLen >= Csize or boxNum[1]*boxLen >= Rsize:\n",
    "        print (\"ERROR: boxNum is out side the picture !\")\n",
    "        return 0\n",
    "    draw = ImageDraw.Draw(im)\n",
    "    draw.rectangle([(boxNum[0]*boxLen, boxNum[1]*boxLen), ((boxNum[0]+1)*boxLen-1, (boxNum[1]+1)*boxLen-1)], color)\n",
    "    "
   ]
  },
  {
   "cell_type": "code",
   "execution_count": 116,
   "metadata": {},
   "outputs": [],
   "source": [
    "drawBoxNum(im, (0,0), color=(255,0,0))\n",
    "drawBoxNum(im, (1,1), color=(255,0,0))\n",
    "drawBoxNum(im, (1,2))\n",
    "drawBoxNum(im, (2,2), color=(255,0,0))\n",
    "drawBoxNum(im, (3,3), color=(255,0,0))\n",
    "drawBoxNum(im, (4,4), color=(255,0,0))\n",
    "drawBoxNum(im, (127,127), color=(255,0,0))\n",
    "drawBoxNum(im, (126,126), color=(255,0,0))\n",
    "drawBoxNum(im, (125,125), color=(255,0,0))\n",
    "drawBoxNum(im, (124,124), color=\"black\")"
   ]
  },
  {
   "cell_type": "code",
   "execution_count": 7,
   "metadata": {
    "collapsed": true
   },
   "outputs": [],
   "source": [
    "for i in range(128):\n",
    "    for j in range(128):\n",
    "        if (i+j)%2 == 0:\n",
    "            color = 'black'\n",
    "        else:\n",
    "            color = 'white'\n",
    "        drawBoxNum(im, (i,j), color)\n"
   ]
  },
  {
   "cell_type": "code",
   "execution_count": 8,
   "metadata": {
    "collapsed": true
   },
   "outputs": [],
   "source": [
    "im.show()"
   ]
  },
  {
   "cell_type": "code",
   "execution_count": 9,
   "metadata": {
    "collapsed": true
   },
   "outputs": [],
   "source": [
    "im.save('test.jpg')"
   ]
  }
 ],
 "metadata": {
  "kernelspec": {
   "display_name": "Python 2",
   "language": "python",
   "name": "python2"
  },
  "language_info": {
   "codemirror_mode": {
    "name": "ipython",
    "version": 2
   },
   "file_extension": ".py",
   "mimetype": "text/x-python",
   "name": "python",
   "nbconvert_exporter": "python",
   "pygments_lexer": "ipython2",
   "version": "2.7.13"
  }
 },
 "nbformat": 4,
 "nbformat_minor": 2
}
