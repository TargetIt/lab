{
 "cells": [
  {
   "cell_type": "markdown",
   "metadata": {
    "deletable": true,
    "editable": true
   },
   "source": [
    "# Process info"
   ]
  },
  {
   "cell_type": "code",
   "execution_count": null,
   "metadata": {
    "collapsed": false,
    "deletable": true,
    "editable": true
   },
   "outputs": [],
   "source": [
    "# os\n",
    "# Current process info\n",
    "\n",
    "uname()\n",
    "umask()\n",
    "\n",
    "get*()\n",
    "    Permission relatives: uid, euid, resuid, gid, egid, resgid\n",
    "    Process relatives:    pid, pgid, ppid, sid\n",
    "put*()\n",
    "    euid, egid \n",
    "    uid, gid\n",
    "    \n",
    "getenviron()\n",
    "setenviron()\n"
   ]
  },
  {
   "cell_type": "code",
   "execution_count": null,
   "metadata": {
    "collapsed": false,
    "deletable": true,
    "editable": true
   },
   "outputs": [],
   "source": [
    "import os\n",
    "print(os.getuid)\n",
    "print(os.getgid)"
   ]
  },
  {
   "cell_type": "code",
   "execution_count": null,
   "metadata": {
    "collapsed": false,
    "deletable": true,
    "editable": true
   },
   "outputs": [],
   "source": [
    "saveD UID and saved GID"
   ]
  },
  {
   "cell_type": "markdown",
   "metadata": {
    "deletable": true,
    "editable": true
   },
   "source": [
    "# subprocess"
   ]
  },
  {
   "cell_type": "code",
   "execution_count": null,
   "metadata": {
    "collapsed": true,
    "deletable": true,
    "editable": true
   },
   "outputs": [],
   "source": [
    "## 创建进程时考虑如下三个问题：\n",
    "1) 在创建子进程之后，父进程是否暂停，并等待子进程运行。\n",
    "2) 函数返回什么\n",
    "3) 当returncode不为0时，父进程如何处理。\n",
    "\n",
    "subprocess.call()\n",
    "subprocess.check_call()\n",
    "subprocess.check_output()"
   ]
  },
  {
   "cell_type": "code",
   "execution_count": null,
   "metadata": {
    "collapsed": false,
    "deletable": true,
    "editable": true
   },
   "outputs": [],
   "source": [
    "# list\n",
    "import subprocess\n",
    "rc = subprocess.call([\"ls\", \"-l\"])"
   ]
  },
  {
   "cell_type": "code",
   "execution_count": null,
   "metadata": {
    "collapsed": true,
    "deletable": true,
    "editable": true
   },
   "outputs": [],
   "source": [
    "# Use shell to explain a string\n",
    "import subprocess\n",
    "out = subprocess.call(\"ls -l\", shell=True)\n",
    "out = subprocess.call(\"cd ..\", shell=True)"
   ]
  },
  {
   "cell_type": "markdown",
   "metadata": {},
   "source": [
    "### Popen()"
   ]
  },
  {
   "cell_type": "code",
   "execution_count": null,
   "metadata": {
    "collapsed": false,
    "deletable": true,
    "editable": true
   },
   "outputs": [],
   "source": [
    "import subprocess\n",
    "child = subprocess.Popen([\"ping\", \"-c\", \"5\", \"www.baidu.com\"])\n",
    "print(\"parent process\")"
   ]
  },
  {
   "cell_type": "code",
   "execution_count": null,
   "metadata": {
    "collapsed": false,
    "deletable": true,
    "editable": true
   },
   "outputs": [],
   "source": [
    "import subprocess\n",
    "child = subprocess.Popen([\"ping\", \"-c\", \"5\", \"www.baidu.com\"])\n",
    "child.wait()\n",
    "print(\"parent process\")"
   ]
  },
  {
   "cell_type": "code",
   "execution_count": null,
   "metadata": {
    "collapsed": false,
    "deletable": true,
    "editable": true
   },
   "outputs": [],
   "source": [
    "child.poll()\n",
    "child.kill()\n",
    "child.send_signal()\n",
    "child.terminate()\n",
    "\n",
    "child.pid"
   ]
  },
  {
   "cell_type": "markdown",
   "metadata": {},
   "source": [
    "### subprocess text stream"
   ]
  },
  {
   "cell_type": "code",
   "execution_count": null,
   "metadata": {
    "collapsed": true,
    "deletable": true,
    "editable": true
   },
   "outputs": [],
   "source": [
    "import subprocess\n",
    "child1 = subprocess.Popen([\"ls\", \"-l\"], stdout=subprocess.PIPE)\n",
    "child2 = subprocess.Popen([\"wc\"], stdin=child1.stdout, stdout=subprocess.PIPE)\n",
    "out = child2.communicate()\n",
    "print(out)"
   ]
  },
  {
   "cell_type": "code",
   "execution_count": null,
   "metadata": {
    "collapsed": true,
    "deletable": true,
    "editable": true
   },
   "outputs": [],
   "source": [
    "import subprocess\n",
    "child = subprocess.Popen([\"cat\"], stdin=subprocess.PIPE)\n",
    "child.communicate(\"vamei\")"
   ]
  },
  {
   "cell_type": "markdown",
   "metadata": {
    "deletable": true,
    "editable": true
   },
   "source": [
    "# multiprocessing\n",
    "\n",
    "* 在UNIX平台上，当某个进程终结之后，该进程需要被其父进程调用wait，否则进程成为僵尸进程(Zombie)。所以，有必要对每个Process对象调用join()方法 (实际上等同于wait)。对于多线程来说，由于只有一个进程，所以不存在此必要性。\n",
    "* multiprocessing提供了threading包中没有的IPC(比如Pipe和Queue)，效率上更高。应优先考虑Pipe和Queue，避免使用Lock/Event/Semaphore/Condition等同步方式 (因为它们占据的不是用户进程的资源)。\n",
    "* 多进程应该避免共享资源。在多线程中，我们可以比较容易地共享资源，比如使用全局变量或者传递参数。在多进程情况下，由于每个进程有自己独立的内存空间，以上方法并不合适。此时我们可以通过共享内存和Manager的方法来共享资源。但这样做提高了程序的复杂度，并因为同步的需要而降低了程序的效率。\n"
   ]
  },
  {
   "cell_type": "code",
   "execution_count": null,
   "metadata": {
    "collapsed": false,
    "deletable": true,
    "editable": true
   },
   "outputs": [],
   "source": [
    "\n",
    "# Similarity and difference of multi thread vs. multi process\n",
    "\n",
    "import os\n",
    "import threading\n",
    "import multiprocessing\n",
    "\n",
    "# worker function\n",
    "def worker(sign, lock):\n",
    "    lock.acquire()\n",
    "    print(sign, os.getpid())\n",
    "    lock.release()\n",
    "\n",
    "# Main\n",
    "print(\"Main:\", os.getpid())\n",
    "\n",
    "# Multi-thread\n",
    "record = []\n",
    "lock = threading.Lock()\n",
    "for i in range(5):\n",
    "    thread = threading.Thread(target=worker, args=('thread', lock))\n",
    "    thread.start()\n",
    "    record.append(thread)\n",
    "\n",
    "for thread in record:\n",
    "    thread.join()\n",
    "\n",
    "# Multi-process\n",
    "record = []\n",
    "lock = multiprocessing.Lock()\n",
    "for i in range(5):\n",
    "    process = multiprocessing.Process(target=worker, args=('process',lock))\n",
    "    process.start()\n",
    "    record.append(process)\n",
    "\n",
    "for process in record:\n",
    "    process.join()"
   ]
  },
  {
   "cell_type": "markdown",
   "metadata": {
    "deletable": true,
    "editable": true
   },
   "source": [
    "### Pipe"
   ]
  },
  {
   "cell_type": "code",
   "execution_count": null,
   "metadata": {
    "collapsed": true,
    "deletable": true,
    "editable": true
   },
   "outputs": [],
   "source": [
    "# Multiprocessing with Pipe\n",
    "# FIFO, one TX, one RX;\n",
    "# support half-duplex, duplex\n",
    "\n",
    "import multiprocessing as mul\n",
    "\n",
    "def proc1(pipe):\n",
    "    pipe.send('hello')\n",
    "    print('proc1 rec:', pipe.recv())\n",
    "\n",
    "def proc2(pipe):\n",
    "    print(\"proc2 rec:\", pipe.recv())\n",
    "    pipe.send('hello, too')\n",
    "\n",
    "# Build a pipe\n",
    "pipe = mul.Pipe()\n",
    "\n",
    "# Pass an end of the pipe to process 1\n",
    "p1 = mul.Process(target=proc1, args=(pipe[0], ))\n",
    "# Pass the other end of the pipe to process 2\n",
    "p2 = mul.Process(target=proc2, args=(pipe[1], ))\n",
    "\n",
    "p1.start()\n",
    "p2.start()\n",
    "p1.join()\n",
    "p2.join()\n"
   ]
  },
  {
   "cell_type": "markdown",
   "metadata": {
    "deletable": true,
    "editable": true
   },
   "source": [
    "### Queue"
   ]
  },
  {
   "cell_type": "code",
   "execution_count": null,
   "metadata": {
    "collapsed": false,
    "deletable": true,
    "editable": true
   },
   "outputs": [],
   "source": [
    "# Multiprocessing with Queue\n",
    "# 1 same as PIPE, its FIFO structure\n",
    "# 2 different from PIPE, its multiple input, multiple output structure\n",
    "import os\n",
    "import multiprocessing\n",
    "import time\n",
    "\n",
    "# ======================\n",
    "# input worker\n",
    "def inputQ(queue):\n",
    "    info = str(os.getpid()) + '(put):' + str(time.time())\n",
    "    queue.put(info)\n",
    "\n",
    "# output worker\n",
    "def outputQ(queue, lock):\n",
    "    info = queue.get()\n",
    "    lock.acquire()\n",
    "    print (str(os.getpid()) + '(get):' + info)\n",
    "    lock.release()\n",
    "\n",
    "# ========================\n",
    "# Main\n",
    "record1 = [] # store input processes\n",
    "record2 = [] # store output processes\n",
    "\n",
    "lock = multiprocessing.Lock()\n",
    "queue = multiprocessing.Queue(3)\n",
    "\n",
    "# input processes\n",
    "for i in range(10):\n",
    "    process = multiprocessing.Process(target=inputQ, args=(queue,))\n",
    "    process.start()\n",
    "    record1.append(process)\n",
    "\n",
    "# output processes\n",
    "for i in range(10):\n",
    "    process = multiprocessing.Process(target=outputQ, args=(queue,lock))\n",
    "    process.start()\n",
    "    record2.append(process)\n",
    "\n",
    "for p in record1:\n",
    "    p.join()\n",
    "\n",
    "queue.close()\n",
    "\n",
    "for p in record2:\n",
    "    p.join()\n"
   ]
  },
  {
   "cell_type": "markdown",
   "metadata": {
    "deletable": true,
    "editable": true
   },
   "source": [
    "### Process pool"
   ]
  },
  {
   "cell_type": "code",
   "execution_count": null,
   "metadata": {
    "collapsed": true,
    "deletable": true,
    "editable": true
   },
   "outputs": [],
   "source": [
    "import multiprocessing as mul\n",
    "\n",
    "def f(x):\n",
    "    return x**2\n",
    "\n",
    "pool = mul.Pool(5)\n",
    "rel = pool.map(f,[1,2,3,4,5,6,7,8,9,10])\n",
    "print(rel)"
   ]
  },
  {
   "cell_type": "code",
   "execution_count": null,
   "metadata": {
    "collapsed": true,
    "deletable": true,
    "editable": true
   },
   "outputs": [],
   "source": [
    "# \n",
    "import multiprocessing\n",
    "\n",
    "def f(n, a):\n",
    "    n.value = 3.14\n",
    "    a[0] = 5\n",
    "\n",
    "num = multiprocessing.Value('d', 0.0)\n",
    "arr = multiprocessing.Array('i', range(10))\n",
    "\n",
    "p = multiprocessing.Process(target=f, args=(num,arr))\n",
    "p.start()\n",
    "p.join()\n",
    "\n",
    "print num.values\n",
    "print arr[:]"
   ]
  }
 ],
 "metadata": {
  "anaconda-cloud": {},
  "kernelspec": {
   "display_name": "Python [Root]",
   "language": "python",
   "name": "Python [Root]"
  },
  "language_info": {
   "codemirror_mode": {
    "name": "ipython",
    "version": 2
   },
   "file_extension": ".py",
   "mimetype": "text/x-python",
   "name": "python",
   "nbconvert_exporter": "python",
   "pygments_lexer": "ipython2",
   "version": "2.7.12"
  }
 },
 "nbformat": 4,
 "nbformat_minor": 2
}
