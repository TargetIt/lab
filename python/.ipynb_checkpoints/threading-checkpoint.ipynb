{
 "cells": [
  {
   "cell_type": "markdown",
   "metadata": {
    "deletable": true,
    "editable": true
   },
   "source": [
    "# Threading"
   ]
  },
  {
   "cell_type": "markdown",
   "metadata": {},
   "source": [
    "## Create threads"
   ]
  },
  {
   "cell_type": "code",
   "execution_count": null,
   "metadata": {
    "collapsed": false,
    "deletable": true,
    "editable": true,
    "scrolled": true
   },
   "outputs": [],
   "source": [
    "\n",
    "# A program to simulate selling tickets in multi-thread way\n",
    "\n",
    "import threading\n",
    "import time\n",
    "import os\n",
    "\n",
    "# This function could be any function to do other chores\n",
    "def doChore():\n",
    "    time.sleep(0.5)\n",
    "\n",
    "# Function for each thread\n",
    "def booth(tid):\n",
    "    global i \n",
    "    global lock\n",
    "    while True:\n",
    "        lock.acquire()\n",
    "        if i != 0:\n",
    "            i = i - 1\n",
    "            print(tid, ':now left: ', i)\n",
    "            doChore()\n",
    "        else:\n",
    "            print('Thread_id ', tid, ' Nor more tickets')\n",
    "            os._exit(0)   # Exit the whole process immediately\n",
    "        lock.release()\n",
    "        doChore()\n",
    "\n",
    "# Start of the main function\n",
    "i = 100                          # Available ticket number\n",
    "lock = threading.Lock()          # Lock (i.e., mutex)\n",
    "\n",
    "# Start 10 threads\n",
    "for k in range(10):\n",
    "    new_thread = threading.Thread(target=booth, args=(k,))\n",
    "    new_thread.start()"
   ]
  },
  {
   "cell_type": "markdown",
   "metadata": {},
   "source": [
    "## Create thread via OOP"
   ]
  },
  {
   "cell_type": "code",
   "execution_count": null,
   "metadata": {
    "collapsed": false,
    "deletable": true,
    "editable": true
   },
   "outputs": [],
   "source": [
    "# A program to simulate selling tickets in multi-thread way\n",
    "## -------------------------------------------------------------\n",
    "## 1 class BoothThread is derived from class thread.Threading\n",
    "## 2 all operations of BoothThread are packaged into run method\n",
    "## 3 don't use global var, but use a dict named monitor to store global var which will be shared by all threads\n",
    "## -------------------------------------------------------------\n",
    "import threading\n",
    "import time\n",
    "import os\n",
    "\n",
    "# This function could be any function to do other chores\n",
    "def doChore():\n",
    "    time.sleep(0.5)\n",
    "\n",
    "# Function for each thread\n",
    "class BoothThread(threading.Thread):\n",
    "    def __init__(self, tid, monitor):\n",
    "        self.tid = tid\n",
    "        self.monitor = monitor\n",
    "        threading.Thread.__init__(self)\n",
    "    def run(self):\n",
    "        while True:\n",
    "            monitor['lock'].acquire()\n",
    "            if monitor['tick'] != 0:\n",
    "                monitor['tick'] = monitor['tick'] - 1\n",
    "                print(self.tid, ':now left:', monitor['tick'])\n",
    "                doChore()\n",
    "            else:\n",
    "                print(\"Thread_id\", self.tid, \" No more tickets\")\n",
    "                os._exit(0)\n",
    "            monitor['lock'].release()\n",
    "            doChore()\n",
    "\n",
    "# Start of the main function\n",
    "monitor = {'tick':100, 'lock':threading.Lock()}\n",
    "\n",
    "#Start 10 threads\n",
    "for k in range(10):\n",
    "    new_thread = BoothThread(k, monitor)\n",
    "    new_thread.start()"
   ]
  },
  {
   "cell_type": "markdown",
   "metadata": {
    "deletable": true,
    "editable": true
   },
   "source": [
    "## multi-threading synchronization"
   ]
  },
  {
   "cell_type": "code",
   "execution_count": null,
   "metadata": {
    "collapsed": true
   },
   "outputs": [],
   "source": [
    "threading.Thread \n",
    "\n",
    "threading.Lock: mutex, method(acquired, release)\n",
    "threading.Condition: condition variable, \n",
    "threading.Semaphore: (sema = threading.Semaphore(5))\n",
    "threading.Event: "
   ]
  }
 ],
 "metadata": {
  "anaconda-cloud": {},
  "kernelspec": {
   "display_name": "Python [Root]",
   "language": "python",
   "name": "Python [Root]"
  },
  "language_info": {
   "codemirror_mode": {
    "name": "ipython",
    "version": 2
   },
   "file_extension": ".py",
   "mimetype": "text/x-python",
   "name": "python",
   "nbconvert_exporter": "python",
   "pygments_lexer": "ipython2",
   "version": "2.7.12"
  }
 },
 "nbformat": 4,
 "nbformat_minor": 2
}
