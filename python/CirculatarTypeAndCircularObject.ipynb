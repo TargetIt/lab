{
 "cells": [
  {
   "cell_type": "markdown",
   "metadata": {},
   "source": [
    "# Circular Type"
   ]
  },
  {
   "cell_type": "code",
   "execution_count": null,
   "metadata": {
    "collapsed": true
   },
   "outputs": [],
   "source": [
    "#range()\n",
    "#enumerate()\n",
    "#zip()\n",
    "S = 'abcdefghijk'"
   ]
  },
  {
   "cell_type": "code",
   "execution_count": null,
   "metadata": {
    "collapsed": true
   },
   "outputs": [],
   "source": [
    "for i in range(0,len(S),2):\n",
    "    print S[i]"
   ]
  },
  {
   "cell_type": "code",
   "execution_count": null,
   "metadata": {
    "collapsed": true
   },
   "outputs": [],
   "source": [
    "for (index,char) in enumerate(S):\n",
    "    print index\n",
    "    print char"
   ]
  },
  {
   "cell_type": "code",
   "execution_count": null,
   "metadata": {
    "collapsed": true
   },
   "outputs": [],
   "source": [
    "ta = [1,2,3]\n",
    "tb = [4,5,6]\n",
    "#cluster\n",
    "zipped = zip(ta,tb)\n",
    "print (zipped)\n",
    "#decompose\n",
    "na,nb = zip(*zipped)\n",
    "print (na, nb)"
   ]
  },
  {
   "cell_type": "markdown",
   "metadata": {},
   "source": [
    "# Circular Object"
   ]
  },
  {
   "cell_type": "code",
   "execution_count": null,
   "metadata": {
    "collapsed": true
   },
   "outputs": [],
   "source": [
    "# Circular Object is an object which has next() method, and will throw StopIteration when Circular finished.\n",
    "\n",
    "#The return of open() is a Circular Object actually. \n",
    "f = open('test.txt')\n",
    "f.next()\n",
    "f.next()\n",
    "...\n",
    "...\n",
    "StopIteration"
   ]
  },
  {
   "cell_type": "code",
   "execution_count": null,
   "metadata": {
    "collapsed": false
   },
   "outputs": [],
   "source": [
    "# generator\n",
    "\n",
    "def gen():\n",
    "    a = 100\n",
    "    yield a\n",
    "    a = a*8\n",
    "    yield a \n",
    "    yield 1000\n",
    "for i in gen():\n",
    "    print (i)"
   ]
  },
  {
   "cell_type": "code",
   "execution_count": null,
   "metadata": {
    "collapsed": true
   },
   "outputs": [],
   "source": [
    "#Generator\n",
    "def gen():\n",
    "    for i in range(4):\n",
    "        yield i\n",
    "\n",
    "# Generator Expression\n",
    "G = (x for x in range(4))\n",
    "type(G)"
   ]
  },
  {
   "cell_type": "code",
   "execution_count": null,
   "metadata": {
    "collapsed": true
   },
   "outputs": [],
   "source": [
    "# list comprehension\n",
    "\n",
    "#generaral method\n",
    "L = []\n",
    "for x in range(10):\n",
    "    L.append(x**2)\n",
    "#list comprehension\n",
    "L = [x**2 for x in range(10)]"
   ]
  }
 ],
 "metadata": {
  "kernelspec": {
   "display_name": "Python 3",
   "language": "python",
   "name": "python3"
  },
  "language_info": {
   "codemirror_mode": {
    "name": "ipython",
    "version": 3
   },
   "file_extension": ".py",
   "mimetype": "text/x-python",
   "name": "python",
   "nbconvert_exporter": "python",
   "pygments_lexer": "ipython3",
   "version": "3.6.0"
  }
 },
 "nbformat": 4,
 "nbformat_minor": 2
}
