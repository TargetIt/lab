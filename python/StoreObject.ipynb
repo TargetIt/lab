{
 "cells": [
  {
   "cell_type": "markdown",
   "metadata": {},
   "source": [
    "# StoreObject"
   ]
  },
  {
   "cell_type": "markdown",
   "metadata": {},
   "source": [
    "* pickle is the standard serialization module of python\n",
    "* cpickle is 1000 times quicker than pickle, written by C\n",
    "* json could make serialization more general, conform to Web standard"
   ]
  },
  {
   "cell_type": "code",
   "execution_count": null,
   "metadata": {
    "collapsed": false
   },
   "outputs": [],
   "source": [
    "# Convert object in internal memory to text stream\n",
    "\n",
    "import pickle\n",
    "\n",
    "# define class\n",
    "class Bird(object):\n",
    "    have_feather = True\n",
    "    way_of_reproduction = 'egg'\n",
    "\n",
    "summer = Bird()\n",
    "picklestring = pickle.dumps(summer)\n"
   ]
  },
  {
   "cell_type": "code",
   "execution_count": null,
   "metadata": {
    "collapsed": false
   },
   "outputs": [],
   "source": [
    "# Store object in internal memory as a file. \n",
    "import pickle\n",
    "\n",
    "# define class\n",
    "\n",
    "class Bird(object):\n",
    "    have_feather = True\n",
    "    way_of_production = 'egg'\n",
    "\n",
    "summer = Bird()\n",
    "fn = 'a.pkl'\n",
    "\n",
    "with open(fn, 'wb') as f:\n",
    "    picklestring = pickle.dump(summer,f)"
   ]
  },
  {
   "cell_type": "code",
   "execution_count": null,
   "metadata": {
    "collapsed": false
   },
   "outputs": [],
   "source": [
    "# Reconstruct object from a file\n",
    "\n",
    "import pickle\n",
    "\n",
    "# define the class before unpickle\n",
    "\n",
    "class Bird(object):\n",
    "    have_feather = True\n",
    "    way_of_production = 'egg'\n",
    "\n",
    "fn = 'a.pkl'\n",
    "with open(fn, 'rb') as f:\n",
    "    summer = pickle.load(f)"
   ]
  }
 ],
 "metadata": {
  "kernelspec": {
   "display_name": "Python 3",
   "language": "python",
   "name": "python3"
  },
  "language_info": {
   "codemirror_mode": {
    "name": "ipython",
    "version": 3
   },
   "file_extension": ".py",
   "mimetype": "text/x-python",
   "name": "python",
   "nbconvert_exporter": "python",
   "pygments_lexer": "ipython3",
   "version": "3.6.0"
  }
 },
 "nbformat": 4,
 "nbformat_minor": 2
}
