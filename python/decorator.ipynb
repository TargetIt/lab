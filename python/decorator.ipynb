{
 "cells": [
  {
   "cell_type": "markdown",
   "metadata": {},
   "source": [
    "## Decorator : decorate function/class"
   ]
  },
  {
   "cell_type": "markdown",
   "metadata": {
    "collapsed": true,
    "deletable": true,
    "editable": true
   },
   "source": [
    "### decorator for function"
   ]
  },
  {
   "cell_type": "code",
   "execution_count": 3,
   "metadata": {
    "collapsed": false,
    "deletable": true,
    "editable": true,
    "scrolled": true
   },
   "outputs": [
    {
     "name": "stdout",
     "output_type": "stream",
     "text": [
      "25\n",
      "-7\n"
     ]
    }
   ],
   "source": [
    "# get square sum\n",
    "\n",
    "def square_sum(a, b):\n",
    "    return a**2 + b**2\n",
    "\n",
    "# get square diff\n",
    "def square_diff(a, b):\n",
    "    return a**2 - b**2\n",
    "\n",
    "print(square_sum(3,4))\n",
    "print(square_diff(3,4))"
   ]
  },
  {
   "cell_type": "code",
   "execution_count": 4,
   "metadata": {
    "collapsed": false,
    "deletable": true,
    "editable": true
   },
   "outputs": [
    {
     "name": "stdout",
     "output_type": "stream",
     "text": [
      "input: 3 4\n",
      "25\n",
      "input: 3 4\n",
      "-7\n"
     ]
    }
   ],
   "source": [
    "# modify: print input\n",
    "\n",
    "# get square sum\n",
    "def square_sum(a,b):\n",
    "    print(\"input:\", a, b)\n",
    "    return a**2 + b**2\n",
    "# get square diff\n",
    "def square_diff(a,b):\n",
    "    print(\"input:\", a, b)\n",
    "    return a**2 - b**2\n",
    "print (square_sum(3,4))\n",
    "print (square_diff(3,4))"
   ]
  },
  {
   "cell_type": "code",
   "execution_count": 6,
   "metadata": {
    "collapsed": false,
    "deletable": true,
    "editable": true
   },
   "outputs": [
    {
     "name": "stdout",
     "output_type": "stream",
     "text": [
      "input: 3 4\n",
      "25\n",
      "input: 3 4\n",
      "-7\n"
     ]
    }
   ],
   "source": [
    "def decorator(F):\n",
    "    def new_F(a,b):\n",
    "        print (\"input:\", a, b)\n",
    "        return F(a, b)\n",
    "    return new_F\n",
    "\n",
    "# get square sum\n",
    "@decorator\n",
    "def square_sum(a, b):\n",
    "    return a**2 + b**2\n",
    "\n",
    "# get square diff\n",
    "#@decorator\n",
    "def square_diff(a, b):\n",
    "    return a**2 - b**2\n",
    "\n",
    "square_diff = decorator(square_diff)\n",
    "\n",
    "print (square_sum(3,4))\n",
    "print (square_diff(3,4))"
   ]
  },
  {
   "cell_type": "markdown",
   "metadata": {},
   "source": [
    "### decorator with parameter"
   ]
  },
  {
   "cell_type": "code",
   "execution_count": 7,
   "metadata": {
    "collapsed": false,
    "deletable": true,
    "editable": true
   },
   "outputs": [
    {
     "name": "stdout",
     "output_type": "stream",
     "text": [
      "^_^input 3 4\n",
      "25\n",
      "T_Tinput 3 4\n",
      "-7\n"
     ]
    }
   ],
   "source": [
    "# a new wrapper layer\n",
    "def pre_str(pre=''):\n",
    "    # old decorator\n",
    "    def decorator(F):\n",
    "        def new_F(a,b):\n",
    "            print(pre + \"input\", a, b)\n",
    "            return F(a,b)\n",
    "        return new_F\n",
    "    return decorator\n",
    "\n",
    "# get square sum\n",
    "@pre_str('^_^')\n",
    "def square_sum(a,b):\n",
    "    return a**2 + b**2\n",
    "\n",
    "# get square diff\n",
    "@pre_str('T_T')\n",
    "def square_diff(a,b):\n",
    "    return a**2 - b**2\n",
    "\n",
    "print (square_sum(3,4))\n",
    "print (square_diff(3,4))"
   ]
  },
  {
   "cell_type": "markdown",
   "metadata": {},
   "source": [
    "### decorator for class"
   ]
  },
  {
   "cell_type": "code",
   "execution_count": 2,
   "metadata": {
    "collapsed": false,
    "deletable": true,
    "editable": true
   },
   "outputs": [
    {
     "name": "stdout",
     "output_type": "stream",
     "text": [
      "total display 1\n",
      "My age is  5\n",
      "total display 2\n",
      "My age is  5\n",
      "total display 3\n",
      "My age is  5\n"
     ]
    }
   ],
   "source": [
    "def decorator(aClass):\n",
    "    class newClass:\n",
    "        def __init__(self, age):\n",
    "            self.total_display = 0\n",
    "            self.wrapped = aClass(age)\n",
    "        def display(self):\n",
    "            self.total_display += 1\n",
    "            print (\"total display\", self.total_display)\n",
    "            self.wrapped.display()\n",
    "    return newClass\n",
    "\n",
    "@decorator\n",
    "class Bird:\n",
    "    def __init__(self, age):\n",
    "        self.age = age\n",
    "    def display(self):\n",
    "        print(\"My age is \", self.age)\n",
    "\n",
    "eagleLord = Bird(5)\n",
    "for i in range(3):\n",
    "    eagleLord.display()\n",
    "\n"
   ]
  }
 ],
 "metadata": {
  "kernelspec": {
   "display_name": "Python 3",
   "language": "python",
   "name": "python3"
  },
  "language_info": {
   "codemirror_mode": {
    "name": "ipython",
    "version": 3
   },
   "file_extension": ".py",
   "mimetype": "text/x-python",
   "name": "python",
   "nbconvert_exporter": "python",
   "pygments_lexer": "ipython3",
   "version": "3.6.0"
  }
 },
 "nbformat": 4,
 "nbformat_minor": 2
}
