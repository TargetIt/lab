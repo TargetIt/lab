{
 "cells": [
  {
   "cell_type": "code",
   "execution_count": null,
   "metadata": {
    "collapsed": false,
    "deletable": true,
    "editable": true
   },
   "outputs": [
    {
     "name": "stdout",
     "output_type": "stream",
     "text": [
      "Waiting for connection...\n",
      "Accept new connection from 127.0.0.1:49770...\n",
      "Connection from 127.0.0.1:49770 closed.\n"
     ]
    }
   ],
   "source": [
    "import socket\n",
    "import threading\n",
    "import time\n",
    "\n",
    "s = socket.socket(socket.AF_INET, socket.SOCK_STREAM)\n",
    "# 监听端口:\n",
    "# 0.0.0.0   : ALL net address\n",
    "# 127.0.0.1 : local host IP address\n",
    "s.bind(('127.0.0.1', 9997))\n",
    "# start to listen port, \n",
    "# para means the maximum listen account\n",
    "s.listen(5)\n",
    "print 'Waiting for connection...'\n",
    "\n",
    "#\n",
    "def tcplink(sock, addr):\n",
    "    print 'Accept new connection from %s:%s...' % addr\n",
    "    sock.send('Welcome!')\n",
    "    while True:\n",
    "        data = sock.recv(1024) #blocked\n",
    "        time.sleep(1)\n",
    "        if data == 'exit' or not data:\n",
    "            break\n",
    "        sock.send('Hello, %s!' % data)\n",
    "    sock.close()\n",
    "    print 'Connection from %s:%s closed.' % addr\n",
    "\n",
    "while True:\n",
    "    # 接受一个新连接:\n",
    "    sock, addr = s.accept()\n",
    "    # 创建新线程来处理TCP连接:\n",
    "    t = threading.Thread(target=tcplink, args=(sock, addr))\n",
    "    t.start()\n"
   ]
  }
 ],
 "metadata": {
  "kernelspec": {
   "display_name": "Python 2",
   "language": "python",
   "name": "python2"
  },
  "language_info": {
   "codemirror_mode": {
    "name": "ipython",
    "version": 2
   },
   "file_extension": ".py",
   "mimetype": "text/x-python",
   "name": "python",
   "nbconvert_exporter": "python",
   "pygments_lexer": "ipython2",
   "version": "2.7.10"
  }
 },
 "nbformat": 4,
 "nbformat_minor": 2
}
