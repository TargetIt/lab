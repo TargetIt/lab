{
 "cells": [
  {
   "cell_type": "markdown",
   "metadata": {},
   "source": [
    "# 1. 到底什么是python？"
   ]
  },
  {
   "cell_type": "markdown",
   "metadata": {},
   "source": [
    "# 2. 补充缺失的代码\n",
    "```python \n",
    "def print_directory_contents(sPath): \n",
    "    \"\"\" 这个函数接受文件夹的名称作为输入参数，\n",
    "    返回该文件夹中文件的路径， \n",
    "    以及其包含文件夹中文件的路径。 \n",
    "    \"\"\" \n",
    "    # 补充代码\n",
    "```"
   ]
  },
  {
   "cell_type": "code",
   "execution_count": null,
   "metadata": {
    "collapsed": true
   },
   "outputs": [],
   "source": [
    "def print_directory_contents(sPath):\n",
    "    import os\n",
    "    for sChild in os.listdir(sPath):\n",
    "        sChildPath = os.path.join(sPath,sChild)\n",
    "        if os.path.isdir(sChildPath):\n",
    "            print_directory_contents(sChildPath)\n",
    "        else:\n",
    "            print sChildPath"
   ]
  },
  {
   "cell_type": "markdown",
   "metadata": {},
   "source": [
    "# 3. 阅读下面的代码，写出A0，A1至An的最终值  \n",
    "```python\n",
    "A0 = dict(zip(('a','b','c','d','e'),(1,2,3,4,5))) \n",
    "A1 = range(10) \n",
    "A2 = [i for i in A1 if i in A0] \n",
    "A3 = [A0[s] for s in A0] \n",
    "A4 = [i for i in A1 if i in A3] \n",
    "A5 = {i:i*i for i in A1} \n",
    "A6 = [[i,i*i] for i in A1]\n",
    "```\n"
   ]
  },
  {
   "cell_type": "code",
   "execution_count": null,
   "metadata": {
    "collapsed": false
   },
   "outputs": [],
   "source": [
    "A0=dict(zip(('a','b','c','d','e'),(1,2,3,4,5)))\n",
    "A0"
   ]
  },
  {
   "cell_type": "code",
   "execution_count": null,
   "metadata": {
    "collapsed": false
   },
   "outputs": [],
   "source": [
    "A1 = range(10) \n",
    "A1"
   ]
  },
  {
   "cell_type": "code",
   "execution_count": null,
   "metadata": {
    "collapsed": false
   },
   "outputs": [],
   "source": [
    "A2 = [i for i in A1 if i in A0] \n",
    "A2"
   ]
  },
  {
   "cell_type": "code",
   "execution_count": null,
   "metadata": {
    "collapsed": false
   },
   "outputs": [],
   "source": [
    "A3 = [A0[s] for s in A0] \n",
    "A3"
   ]
  },
  {
   "cell_type": "code",
   "execution_count": null,
   "metadata": {
    "collapsed": false
   },
   "outputs": [],
   "source": [
    "A4 = [i for i in A1 if i in A3] \n",
    "A4"
   ]
  },
  {
   "cell_type": "code",
   "execution_count": null,
   "metadata": {
    "collapsed": false
   },
   "outputs": [],
   "source": [
    "A5 = {i:i*i for i in A1} \n",
    "A5"
   ]
  },
  {
   "cell_type": "code",
   "execution_count": null,
   "metadata": {
    "collapsed": false
   },
   "outputs": [],
   "source": [
    "A6 = [[i,i*i] for i in A1]\n",
    "A6"
   ]
  },
  {
   "cell_type": "markdown",
   "metadata": {},
   "source": [
    "# 4. Python和多线程（multi-threading）。这是个好主意码？列举一些让Python代码以并行方式运行的方法。"
   ]
  },
  {
   "cell_type": "markdown",
   "metadata": {},
   "source": [
    "Python并不支持真正意义上的多线程。Python中提供了多线程包，但是如果你想通过多线程提高代码的速度，使用多线程包并不是个好主意。Python中有一个被称为Global Interpreter Lock（GIL）的东西，它会确保任何时候你的多个线程中，只有一个被执行。线程的执行速度非常之快，会让你误以为线程是并行执行的，但是实际上都是轮流执行。经过GIL这一道关卡处理，会增加执行的开销。这意味着，如果你想提高代码的运行速度，使用threading包并不是一个很好的方法。\n",
    "\n",
    "不过还是有很多理由促使我们使用threading包的。如果你想同时执行一些任务，而且不考虑效率问题，那么使用这个包是完全没问题的，而且也很方便。但是大部分情况下，并不是这么一回事，你会希望把多线程的部分外包给操作系统完成（通过开启多个进程），或者是某些调用你的Python代码的外部程序（例如Spark或Hadoop），又或者是你的Python代码调用的其他代码（例如，你可以在Python中调用C函数，用于处理开销较大的多线程工作）。\n",
    "\n",
    "为什么提这个问题\n",
    "\n",
    "因为GIL就是个混账东西（A-hole）。很多人花费大量的时间，试图寻找自己多线程代码中的瓶颈，直到他们明白GIL的存在。"
   ]
  },
  {
   "cell_type": "markdown",
   "metadata": {},
   "source": [
    "# 5.  版本管理"
   ]
  },
  {
   "cell_type": "markdown",
   "metadata": {},
   "source": [
    "# 6. 下面代码会输出什么  \n",
    "```python\n",
    "def f(x,l=[]): \n",
    "    for i in range(x): \n",
    "        l.append(i*i) \n",
    "        print l \n",
    "f(2) \n",
    "f(3,[3,2,1]) \n",
    "f(3)\n",
    "```"
   ]
  },
  {
   "cell_type": "code",
   "execution_count": null,
   "metadata": {
    "collapsed": true
   },
   "outputs": [],
   "source": [
    "def f(x,l=[]): \n",
    "    for i in range(x): \n",
    "        l.append(i*i) \n",
    "        print l "
   ]
  },
  {
   "cell_type": "code",
   "execution_count": null,
   "metadata": {
    "collapsed": false
   },
   "outputs": [],
   "source": [
    "f(2)"
   ]
  },
  {
   "cell_type": "code",
   "execution_count": null,
   "metadata": {
    "collapsed": false
   },
   "outputs": [],
   "source": [
    "l=[]\n",
    "f(3)"
   ]
  },
  {
   "cell_type": "code",
   "execution_count": null,
   "metadata": {
    "collapsed": false
   },
   "outputs": [],
   "source": [
    "f(3,[3,2,1]) "
   ]
  },
  {
   "cell_type": "markdown",
   "metadata": {},
   "source": [
    "# 7. “猴子补丁”（monkey patching）指的是什么？这种做法好吗？"
   ]
  },
  {
   "cell_type": "markdown",
   "metadata": {},
   "source": [
    "“猴子补丁”就是指，在函数或对象已经定义之后，再去改变它们的行为。"
   ]
  },
  {
   "cell_type": "code",
   "execution_count": null,
   "metadata": {
    "collapsed": false
   },
   "outputs": [],
   "source": [
    "import datetime\n",
    "datetime.datetime.now = lambda: datetime.datetime(2012, 12, 12)"
   ]
  },
  {
   "cell_type": "markdown",
   "metadata": {},
   "source": [
    "为什么提这个问题？\n",
    "\n",
    "答对这个问题说明你对单元测试的方法有一定了解。你如果提到要避免“猴子补丁”，可以说明你不是那种喜欢花里胡哨代码的程序员（公司里就有这种人，跟他们共事真是糟糕透了），而是更注重可维护性。还记得KISS原则码？答对这个问题还说明你明白一些Python底层运作的方式，函数实际是如何存储、调用等等。\n",
    "\n",
    "另外：如果你没读过mock模块的话，真的值得花时间读一读。这个模块非常有用。"
   ]
  },
  {
   "cell_type": "markdown",
   "metadata": {},
   "source": []
  },
  {
   "cell_type": "markdown",
   "metadata": {},
   "source": [
    "# 8. 这两个参数是什么意思：*args，**kwargs？我们为什么要使用它们？"
   ]
  },
  {
   "cell_type": "markdown",
   "metadata": {},
   "source": [
    "如果我们不确定要往函数中传入多少个参数，或者我们想往函数中以列表和元组的形式传参数时，那就使要用*args；如果我们不知道要往函数中传入多少个关键词参数，或者想传入字典的值作为关键词参数时，那就要使用**kwargs。args和kwargs这两个标识符是约定俗成的用法，你当然还可以用*bob和**billy，但是这样就并不太妥。"
   ]
  },
  {
   "cell_type": "code",
   "execution_count": 33,
   "metadata": {
    "collapsed": true
   },
   "outputs": [],
   "source": [
    "def f(*args,**kwargs): print args, kwargs"
   ]
  },
  {
   "cell_type": "code",
   "execution_count": 34,
   "metadata": {
    "collapsed": false
   },
   "outputs": [
    {
     "name": "stdout",
     "output_type": "stream",
     "text": [
      "() {}\n",
      "(1, 2, 3) {}\n",
      "(1, 2, 3, 'groovy') {}\n",
      "() {'a': 1, 'c': 3, 'b': 2}\n",
      "() {'a': 1, 'c': 3, 'b': 2, 'zzz': 'hi'}\n",
      "(1, 2, 3) {'a': 1, 'c': 3, 'b': 2}\n",
      "(1, 2, 3) {'a': 7, 'c': 9, 'b': 8}\n",
      "(4, 5, 6) {'a': 7, 'c': 9, 'b': 8}\n",
      "(1, 2, 4, 5, 6) {}\n",
      "() {'a': 7, 'q': 'winning', 'c': 9, 'b': 8}\n",
      "(1, 2, 4, 5, 6) {'a': 7, 'q': 'winning', 'c': 9, 'b': 8}\n",
      "1 2 (3,) {}\n",
      "1 2 (3, 'groovy') {}\n",
      "1 2 () {'c': 3}\n",
      "1 2 () {'c': 3, 'zzz': 'hi'}\n",
      "1 2 (3,) {'a': 1, 'c': 3, 'b': 2}\n",
      "1 2 (3,) {'a': 7, 'c': 9, 'b': 8}\n",
      "4 5 (6,) {'a': 7, 'c': 9, 'b': 8}\n",
      "1 2 (4, 5, 6) {}\n",
      "1 1 () {'a': 7, 'q': 'winning', 'c': 9, 'b': 8}\n",
      "1 2 (4, 5, 6) {'a': 7, 'q': 'winning', 'c': 9, 'b': 8}\n"
     ]
    }
   ],
   "source": [
    "l = [1,2,3]\n",
    "t = (4,5,6)\n",
    "d = {'a':7,'b':8,'c':9}\n",
    "\n",
    "f()\n",
    "f(1,2,3)                    # (1, 2, 3) {}\n",
    "f(1,2,3,\"groovy\")           # (1, 2, 3, 'groovy') {}\n",
    "f(a=1,b=2,c=3)              # () {'a': 1, 'c': 3, 'b': 2}\n",
    "f(a=1,b=2,c=3,zzz=\"hi\")     # () {'a': 1, 'c': 3, 'b': 2, 'zzz': 'hi'}\n",
    "f(1,2,3,a=1,b=2,c=3)        # (1, 2, 3) {'a': 1, 'c': 3, 'b': 2}\n",
    "\n",
    "f(*l,**d)                   # (1, 2, 3) {'a': 7, 'c': 9, 'b': 8}\n",
    "f(*t,**d)                   # (4, 5, 6) {'a': 7, 'c': 9, 'b': 8}\n",
    "f(1,2,*t)                   # (1, 2, 4, 5, 6) {}\n",
    "f(q=\"winning\",**d)          # () {'a': 7, 'q': 'winning', 'c': 9, 'b': 8}\n",
    "f(1,2,*t,q=\"winning\",**d)   # (1, 2, 4, 5, 6) {'a': 7, 'q': 'winning', 'c': 9, 'b': 8}\n",
    "\n",
    "def f2(arg1,arg2,*args,**kwargs): print arg1,arg2, args, kwargs\n",
    "\n",
    "f2(1,2,3)                       # 1 2 (3,) {}\n",
    "f2(1,2,3,\"groovy\")              # 1 2 (3, 'groovy') {}\n",
    "f2(arg1=1,arg2=2,c=3)           # 1 2 () {'c': 3}\n",
    "f2(arg1=1,arg2=2,c=3,zzz=\"hi\")  # 1 2 () {'c': 3, 'zzz': 'hi'}\n",
    "f2(1,2,3,a=1,b=2,c=3)           # 1 2 (3,) {'a': 1, 'c': 3, 'b': 2}\n",
    "\n",
    "f2(*l,**d)                   # 1 2 (3,) {'a': 7, 'c': 9, 'b': 8}\n",
    "f2(*t,**d)                   # 4 5 (6,) {'a': 7, 'c': 9, 'b': 8}\n",
    "f2(1,2,*t)                   # 1 2 (4, 5, 6) {}\n",
    "f2(1,1,q=\"winning\",**d)      # 1 1 () {'a': 7, 'q': 'winning', 'c': 9, 'b': 8}\n",
    "f2(1,2,*t,q=\"winning\",**d)   # 1 2 (4, 5, 6) {'a': 7, 'q': 'winning', 'c': 9, 'b': 8}"
   ]
  },
  {
   "cell_type": "markdown",
   "metadata": {},
   "source": [
    "# 9. 下面这些是什么意思：@classmethod, @staticmethod, @property？"
   ]
  },
  {
   "cell_type": "markdown",
   "metadata": {},
   "source": [
    "* **装饰器**是一种特殊的函数，要么接受函数作为输入参数，并返回一个函数，要么接受一个类作为输入参数，并返回一个类。\n",
    "* @标记是语法糖（syntactic sugar），可以让你以简单易读得方式装饰目标对象。"
   ]
  },
  {
   "cell_type": "code",
   "execution_count": 35,
   "metadata": {
    "collapsed": true
   },
   "outputs": [],
   "source": [
    "class MyClass(object):\n",
    "    def __init__(self):\n",
    "        self._some_property = \"properties are nice\"\n",
    "        self._some_other_property = \"VERY nice\"\n",
    "    def normal_method(*args,**kwargs):\n",
    "        print \"calling normal_method({0},{1})\".format(args,kwargs)\n",
    "    @classmethod\n",
    "    def class_method(*args,**kwargs):\n",
    "        print \"calling class_method({0},{1})\".format(args,kwargs)\n",
    "    @staticmethod\n",
    "    def static_method(*args,**kwargs):\n",
    "        print \"calling static_method({0},{1})\".format(args,kwargs)\n",
    "    @property\n",
    "    def some_property(self,*args,**kwargs):\n",
    "        print \"calling some_property getter({0},{1},{2})\".format(self,args,kwargs)\n",
    "        return self._some_property\n",
    "    @some_property.setter\n",
    "    def some_property(self,*args,**kwargs):\n",
    "        print \"calling some_property setter({0},{1},{2})\".format(self,args,kwargs)\n",
    "        self._some_property = args[0]\n",
    "    @property\n",
    "    def some_other_property(self,*args,**kwargs):\n",
    "        print \"calling some_other_property getter({0},{1},{2})\".format(self,args,kwargs)\n",
    "        return self._some_other_property\n",
    "\n",
    "o = MyClass()\n"
   ]
  },
  {
   "cell_type": "code",
   "execution_count": 45,
   "metadata": {
    "collapsed": true
   },
   "outputs": [],
   "source": [
    "# 未装饰的方法还是正常的行为方式，需要当前的类实例（self）作为第一个参数。"
   ]
  },
  {
   "cell_type": "code",
   "execution_count": 36,
   "metadata": {
    "collapsed": false,
    "scrolled": true
   },
   "outputs": [
    {
     "data": {
      "text/plain": [
       "<bound method MyClass.normal_method of <__main__.MyClass object at 0x0000000003E4B668>>"
      ]
     },
     "execution_count": 36,
     "metadata": {},
     "output_type": "execute_result"
    }
   ],
   "source": [
    "o.normal_method "
   ]
  },
  {
   "cell_type": "code",
   "execution_count": 37,
   "metadata": {
    "collapsed": false
   },
   "outputs": [
    {
     "name": "stdout",
     "output_type": "stream",
     "text": [
      "calling normal_method((<__main__.MyClass object at 0x0000000003E4B668>,),{})\n"
     ]
    }
   ],
   "source": [
    "o.normal_method() "
   ]
  },
  {
   "cell_type": "code",
   "execution_count": 38,
   "metadata": {
    "collapsed": false
   },
   "outputs": [
    {
     "name": "stdout",
     "output_type": "stream",
     "text": [
      "calling normal_method((<__main__.MyClass object at 0x0000000003E4B668>, 1, 2),{'y': 4, 'x': 3})\n"
     ]
    }
   ],
   "source": [
    "o.normal_method(1,2,x=3,y=4) "
   ]
  },
  {
   "cell_type": "code",
   "execution_count": 46,
   "metadata": {
    "collapsed": true
   },
   "outputs": [],
   "source": [
    "# 类方法的第一个参数永远是该类"
   ]
  },
  {
   "cell_type": "code",
   "execution_count": 39,
   "metadata": {
    "collapsed": false
   },
   "outputs": [
    {
     "data": {
      "text/plain": [
       "<bound method type.class_method of <class '__main__.MyClass'>>"
      ]
     },
     "execution_count": 39,
     "metadata": {},
     "output_type": "execute_result"
    }
   ],
   "source": [
    "o.class_method"
   ]
  },
  {
   "cell_type": "code",
   "execution_count": 40,
   "metadata": {
    "collapsed": false
   },
   "outputs": [
    {
     "name": "stdout",
     "output_type": "stream",
     "text": [
      "calling class_method((<class '__main__.MyClass'>,),{})\n"
     ]
    }
   ],
   "source": [
    "o.class_method()"
   ]
  },
  {
   "cell_type": "code",
   "execution_count": 41,
   "metadata": {
    "collapsed": false
   },
   "outputs": [
    {
     "name": "stdout",
     "output_type": "stream",
     "text": [
      "calling class_method((<class '__main__.MyClass'>, 1, 2),{'y': 4, 'x': 3})\n"
     ]
    }
   ],
   "source": [
    "o.class_method(1,2,x=3,y=4)"
   ]
  },
  {
   "cell_type": "code",
   "execution_count": 47,
   "metadata": {
    "collapsed": true
   },
   "outputs": [],
   "source": [
    "# 静态方法（static method）中除了你调用时传入的参数以外，没有其他的参数。"
   ]
  },
  {
   "cell_type": "code",
   "execution_count": 42,
   "metadata": {
    "collapsed": false
   },
   "outputs": [
    {
     "data": {
      "text/plain": [
       "<function __main__.static_method>"
      ]
     },
     "execution_count": 42,
     "metadata": {},
     "output_type": "execute_result"
    }
   ],
   "source": [
    "o.static_method"
   ]
  },
  {
   "cell_type": "code",
   "execution_count": 43,
   "metadata": {
    "collapsed": false
   },
   "outputs": [
    {
     "name": "stdout",
     "output_type": "stream",
     "text": [
      "calling static_method((),{})\n"
     ]
    }
   ],
   "source": [
    "o.static_method()"
   ]
  },
  {
   "cell_type": "code",
   "execution_count": 44,
   "metadata": {
    "collapsed": false
   },
   "outputs": [
    {
     "name": "stdout",
     "output_type": "stream",
     "text": [
      "calling static_method((1, 2),{'y': 4, 'x': 3})\n"
     ]
    }
   ],
   "source": [
    "o.static_method(1,2,x=3,y=4)"
   ]
  },
  {
   "cell_type": "code",
   "execution_count": 48,
   "metadata": {
    "collapsed": true
   },
   "outputs": [],
   "source": [
    "# @property是实现getter和setter方法的一种方式。直接调用它们是错误的。\n",
    "# “只读”属性可以通过只定义getter方法，不定义setter方法实现。"
   ]
  },
  {
   "cell_type": "code",
   "execution_count": 49,
   "metadata": {
    "collapsed": false
   },
   "outputs": [
    {
     "name": "stdout",
     "output_type": "stream",
     "text": [
      "calling some_property getter(<__main__.MyClass object at 0x0000000003E4B668>,(),{})\n"
     ]
    },
    {
     "data": {
      "text/plain": [
       "'properties are nice'"
      ]
     },
     "execution_count": 49,
     "metadata": {},
     "output_type": "execute_result"
    }
   ],
   "source": [
    "o.some_property"
   ]
  },
  {
   "cell_type": "code",
   "execution_count": 50,
   "metadata": {
    "collapsed": false
   },
   "outputs": [
    {
     "name": "stdout",
     "output_type": "stream",
     "text": [
      "calling some_other_property getter(<__main__.MyClass object at 0x0000000003E4B668>,(),{})\n",
      "calling some_property setter(<__main__.MyClass object at 0x0000000003E4B668>,('groovy',),{})\n",
      "calling some_property getter(<__main__.MyClass object at 0x0000000003E4B668>,(),{})\n"
     ]
    },
    {
     "ename": "AttributeError",
     "evalue": "can't set attribute",
     "output_type": "error",
     "traceback": [
      "\u001b[1;31m---------------------------------------------------------------------------\u001b[0m",
      "\u001b[1;31mAttributeError\u001b[0m                            Traceback (most recent call last)",
      "\u001b[1;32m<ipython-input-50-7cccd11ec936>\u001b[0m in \u001b[0;36m<module>\u001b[1;34m()\u001b[0m\n\u001b[0;32m     16\u001b[0m \u001b[1;31m# 'groovy'\u001b[0m\u001b[1;33m\u001b[0m\u001b[1;33m\u001b[0m\u001b[0m\n\u001b[0;32m     17\u001b[0m \u001b[1;33m\u001b[0m\u001b[0m\n\u001b[1;32m---> 18\u001b[1;33m \u001b[0mo\u001b[0m\u001b[1;33m.\u001b[0m\u001b[0msome_other_property\u001b[0m \u001b[1;33m=\u001b[0m \u001b[1;34m\"very groovy\"\u001b[0m\u001b[1;33m\u001b[0m\u001b[0m\n\u001b[0m\u001b[0;32m     19\u001b[0m \u001b[1;31m# Traceback (most recent call last):\u001b[0m\u001b[1;33m\u001b[0m\u001b[1;33m\u001b[0m\u001b[0m\n\u001b[0;32m     20\u001b[0m \u001b[1;31m#   File \"<stdin>\", line 1, in <module>\u001b[0m\u001b[1;33m\u001b[0m\u001b[1;33m\u001b[0m\u001b[0m\n",
      "\u001b[1;31mAttributeError\u001b[0m: can't set attribute"
     ]
    }
   ],
   "source": [
    "o.some_other_property\n",
    "# calling some_other_property getter(<__main__.MyClass instance at 0x7fb2b70877e8>,(),{})\n",
    "# 'VERY nice'\n",
    "\n",
    "# o.some_other_property()\n",
    "# calling some_other_property getter(<__main__.MyClass instance at 0x7fb2b70877e8>,(),{})\n",
    "# Traceback (most recent call last):\n",
    "#   File \"<stdin>\", line 1, in <module>\n",
    "# TypeError: 'str' object is not callable\n",
    "\n",
    "o.some_property = \"groovy\"\n",
    "# calling some_property setter(<__main__.MyClass object at 0x7fb2b7077890>,('groovy',),{})\n",
    "\n",
    "o.some_property\n",
    "# calling some_property getter(<__main__.MyClass object at 0x7fb2b7077890>,(),{})\n",
    "# 'groovy'\n",
    "\n",
    "o.some_other_property = \"very groovy\"\n",
    "# Traceback (most recent call last):\n",
    "#   File \"<stdin>\", line 1, in <module>\n",
    "# AttributeError: can't set attribute\n",
    "\n",
    "o.some_other_property\n",
    "# calling some_other_property getter(<__main__.MyClass object at 0x7fb2b7077890>,(),{})"
   ]
  },
  {
   "cell_type": "markdown",
   "metadata": {},
   "source": [
    "# 10. 继承 Is-a"
   ]
  },
  {
   "cell_type": "code",
   "execution_count": null,
   "metadata": {
    "collapsed": true
   },
   "outputs": [],
   "source": []
  },
  {
   "cell_type": "markdown",
   "metadata": {},
   "source": [
    "# 11. 组合构造 has-a"
   ]
  },
  {
   "cell_type": "code",
   "execution_count": null,
   "metadata": {
    "collapsed": true
   },
   "outputs": [],
   "source": []
  },
  {
   "cell_type": "markdown",
   "metadata": {},
   "source": [
    "# 12. 多态"
   ]
  },
  {
   "cell_type": "code",
   "execution_count": null,
   "metadata": {
    "collapsed": true
   },
   "outputs": [],
   "source": []
  },
  {
   "cell_type": "markdown",
   "metadata": {},
   "source": [
    "# 13. python的垃圾回收机制（garbage collection）"
   ]
  },
  {
   "cell_type": "code",
   "execution_count": null,
   "metadata": {
    "collapsed": true
   },
   "outputs": [],
   "source": []
  },
  {
   "cell_type": "markdown",
   "metadata": {},
   "source": [
    "# 14. 将下面的函数按照执行效率高低排序。它们都接受由0至1之间的数字构成的列表作为输入。这个列表可以很长。一个输入列表的示例如下：[random.random() for i in range(100000)]。你如何证明自己的答案是正确的。"
   ]
  },
  {
   "cell_type": "code",
   "execution_count": null,
   "metadata": {
    "collapsed": true
   },
   "outputs": [],
   "source": []
  }
 ],
 "metadata": {
  "kernelspec": {
   "display_name": "Python [Root]",
   "language": "python",
   "name": "Python [Root]"
  },
  "language_info": {
   "codemirror_mode": {
    "name": "ipython",
    "version": 2
   },
   "file_extension": ".py",
   "mimetype": "text/x-python",
   "name": "python",
   "nbconvert_exporter": "python",
   "pygments_lexer": "ipython2",
   "version": "2.7.12"
  }
 },
 "nbformat": 4,
 "nbformat_minor": 0
}
