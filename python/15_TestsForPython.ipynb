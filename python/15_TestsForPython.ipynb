{
 "cells": [
  {
   "cell_type": "markdown",
   "metadata": {},
   "source": [
    "# 1. 到底什么是python？"
   ]
  },
  {
   "cell_type": "markdown",
   "metadata": {},
   "source": [
    "# 2. 补充缺失的代码\n",
    "```python \n",
    "def print_directory_contents(sPath): \n",
    "    \"\"\" 这个函数接受文件夹的名称作为输入参数，\n",
    "    返回该文件夹中文件的路径， \n",
    "    以及其包含文件夹中文件的路径。 \n",
    "    \"\"\" \n",
    "    # 补充代码\n",
    "```"
   ]
  },
  {
   "cell_type": "markdown",
   "metadata": {},
   "source": [
    "# 3. 阅读下面的代码，写出A0，A1至An的最终值  \n",
    "```python\n",
    "A0 = dict(zip(('a','b','c','d','e'),(1,2,3,4,5))) \n",
    "A1 = range(10) \n",
    "A2 = [i for i in A1 if i in A0] \n",
    "A3 = [A0[s] for s in A0] \n",
    "A4 = [i for i in A1 if i in A3] \n",
    "A5 = {i:i*i for i in A1} \n",
    "A6 = [[i,i*i] for i in A1]\n",
    "```\n"
   ]
  },
  {
   "cell_type": "markdown",
   "metadata": {},
   "source": [
    "# 4. Python和多线程（multi-threading）。这是个好主意码？列举一些让Python代码以并行方式运行的方法。"
   ]
  },
  {
   "cell_type": "markdown",
   "metadata": {},
   "source": [
    "# 5.  版本管理"
   ]
  },
  {
   "cell_type": "markdown",
   "metadata": {},
   "source": [
    "# 6. 下面代码会输出什么  \n",
    "```python\n",
    "def f(x,l=[]): \n",
    "    for i in range(x): \n",
    "        l.append(i*i) \n",
    "        print l \n",
    "f(2) \n",
    "f(3,[3,2,1]) \n",
    "f(3)\n",
    "```"
   ]
  },
  {
   "cell_type": "markdown",
   "metadata": {},
   "source": [
    "# 7. “猴子补丁”（monkey patching）指的是什么？这种做法好吗？"
   ]
  },
  {
   "cell_type": "markdown",
   "metadata": {},
   "source": [
    "* **装饰器**是一种特殊的函数，要么接受函数作为输入参数，并返回一个函数，要么接受一个类作为输入参数，并返回一个类。\n",
    "* @标记是语法糖（syntactic sugar），可以让你以简单易读得方式装饰目标对象。"
   ]
  },
  {
   "cell_type": "markdown",
   "metadata": {},
   "source": []
  },
  {
   "cell_type": "markdown",
   "metadata": {},
   "source": [
    "# 8. 这两个参数是什么意思：*args，**kwargs？我们为什么要使用它们？"
   ]
  },
  {
   "cell_type": "markdown",
   "metadata": {},
   "source": [
    "# 9. 下面这些是什么意思：@classmethod, @staticmethod, @property？"
   ]
  },
  {
   "cell_type": "markdown",
   "metadata": {},
   "source": [
    "# 10. 继承 Is-a"
   ]
  },
  {
   "cell_type": "markdown",
   "metadata": {},
   "source": [
    "# 11. 组合构造 has-a"
   ]
  },
  {
   "cell_type": "markdown",
   "metadata": {},
   "source": [
    "# 12. 多态"
   ]
  },
  {
   "cell_type": "markdown",
   "metadata": {},
   "source": [
    "# 13. python的垃圾回收机制（garbage collection）"
   ]
  },
  {
   "cell_type": "markdown",
   "metadata": {},
   "source": [
    "# 14. 将下面的函数按照执行效率高低排序。它们都接受由0至1之间的数字构成的列表作为输入。这个列表可以很长。一个输入列表的示例如下：[random.random() for i in range(100000)]。你如何证明自己的答案是正确的。"
   ]
  },
  {
   "cell_type": "code",
   "execution_count": null,
   "metadata": {
    "collapsed": true
   },
   "outputs": [],
   "source": []
  }
 ],
 "metadata": {
  "kernelspec": {
   "display_name": "Python [Root]",
   "language": "python",
   "name": "Python [Root]"
  },
  "language_info": {
   "codemirror_mode": {
    "name": "ipython",
    "version": 2
   },
   "file_extension": ".py",
   "mimetype": "text/x-python",
   "name": "python",
   "nbconvert_exporter": "python",
   "pygments_lexer": "ipython2",
   "version": "2.7.12"
  }
 },
 "nbformat": 4,
 "nbformat_minor": 0
}
