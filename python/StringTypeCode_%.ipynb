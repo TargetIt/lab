{
 "cells": [
  {
   "cell_type": "markdown",
   "metadata": {},
   "source": [
    "## print ((Templet) % (tuple/dict))"
   ]
  },
  {
   "cell_type": "code",
   "execution_count": null,
   "metadata": {
    "collapsed": true,
    "deletable": true,
    "editable": true
   },
   "outputs": [],
   "source": [
    "## Standard format\n",
    "%[(name)][flags][width].[precision]typecode\n",
    "(name)\n",
    "flags: +,-,0; \n",
    "    +： right alignment; -: left alignment; 0: fill a space in the left beginging\n",
    "width: display width\n",
    "precision: the precision after float point\n",
    "typdecode:\n",
    "    %s/%r/%c/%b/%d/%i/%o/%x/%e/%E/%f/%F/%g/%G/%%"
   ]
  },
  {
   "cell_type": "markdown",
   "metadata": {
    "deletable": true,
    "editable": true
   },
   "source": [
    "## Tuple as a templet"
   ]
  },
  {
   "cell_type": "code",
   "execution_count": 1,
   "metadata": {
    "collapsed": false,
    "deletable": true,
    "editable": true
   },
   "outputs": [
    {
     "name": "stdout",
     "output_type": "stream",
     "text": [
      "I'm TargetIt. I'm 99 year old\n"
     ]
    }
   ],
   "source": [
    "print ((\"I'm %s. I'm %d year old\") % ('TargetIt', 99))"
   ]
  },
  {
   "cell_type": "code",
   "execution_count": 2,
   "metadata": {
    "collapsed": false,
    "deletable": true,
    "editable": true
   },
   "outputs": [
    {
     "name": "stdout",
     "output_type": "stream",
     "text": [
      "I'm TargetIt. I'm 99 year old\n"
     ]
    }
   ],
   "source": [
    "a = \"I'm %s. I'm %d year old\" % ('TargetIt', 99)\n",
    "print (a)"
   ]
  },
  {
   "cell_type": "markdown",
   "metadata": {
    "deletable": true,
    "editable": true
   },
   "source": [
    "## Dict as a templet"
   ]
  },
  {
   "cell_type": "code",
   "execution_count": 4,
   "metadata": {
    "collapsed": false,
    "deletable": true,
    "editable": true
   },
   "outputs": [
    {
     "name": "stdout",
     "output_type": "stream",
     "text": [
      "I'm TargetIt. I'm 99 year old\n"
     ]
    }
   ],
   "source": [
    "# dict\n",
    "\n",
    "print (\"I'm %(name)s. I'm %(age)d year old\" % {'name':'TargetIt', 'age':99})"
   ]
  },
  {
   "cell_type": "markdown",
   "metadata": {
    "deletable": true,
    "editable": true
   },
   "source": [
    "## "
   ]
  },
  {
   "cell_type": "code",
   "execution_count": 6,
   "metadata": {
    "collapsed": false,
    "deletable": true,
    "editable": true
   },
   "outputs": [
    {
     "name": "stdout",
     "output_type": "stream",
     "text": [
      "        +a\n",
      "0005\n",
      " 2.300\n"
     ]
    }
   ],
   "source": [
    "print (\"% + 10x\" % 10)\n",
    "print (\"%04d\" % 5)\n",
    "print (\"%6.3f\" % 2.3)"
   ]
  },
  {
   "cell_type": "code",
   "execution_count": 7,
   "metadata": {
    "collapsed": false,
    "deletable": true,
    "editable": true
   },
   "outputs": [
    {
     "name": "stdout",
     "output_type": "stream",
     "text": [
      "1.2000\n"
     ]
    }
   ],
   "source": [
    "print(\"%.*f\" % (4, 1.2))"
   ]
  }
 ],
 "metadata": {
  "kernelspec": {
   "display_name": "Python 3",
   "language": "python",
   "name": "python3"
  },
  "language_info": {
   "codemirror_mode": {
    "name": "ipython",
    "version": 3
   },
   "file_extension": ".py",
   "mimetype": "text/x-python",
   "name": "python",
   "nbconvert_exporter": "python",
   "pygments_lexer": "ipython3",
   "version": "3.6.0"
  }
 },
 "nbformat": 4,
 "nbformat_minor": 2
}
