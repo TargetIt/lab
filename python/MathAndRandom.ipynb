{
 "cells": [
  {
   "cell_type": "markdown",
   "metadata": {
    "deletable": true,
    "editable": true
   },
   "source": [
    "### math\n",
    "  * constants : \n",
    "          e, pi\n",
    "  * Number-theoretic and representation functions\n",
    "          ceil(x), floor(x), factorial(x)\n",
    "  * power and logarithmic functions: \n",
    "          exp(x), log(x), sqrt(x)\n",
    "  * Trigonometric functions\n",
    "          acos(x), asin(x), atan(x), atan2(y,x), cos(x), hypot(x,y), sin(x), tan(x)\n",
    "  * Angular conversion\n",
    "          degrees(x), radians(x)\n",
    "  * Hyerbolic functions\n",
    "          acosh(x), asinh(x), atanh(x), cosh(x), sinh(x), tanh(x)\n",
    "  * Special functions\n",
    "          erf(x), erfc(x), gamma(x), lgamma(x)"
   ]
  },
  {
   "cell_type": "markdown",
   "metadata": {},
   "source": [
    "### random\n",
    "  * This module implements pseudo-random number generators for various distributions.\n",
    "  * For integers, uniform selection from a range. For sequences, uniform selection of a random element, a function to generate a random permutation of a list in-place, and a function for random sampling without replacement.\n",
    "  * On the real line, there are functions to compute uniform, normal(Gaussian), lognormal, negative exponential, gamma, and beta distributions. For generating distributions of angles, the Von Mises distribution is available. \n",
    "  * eg\n",
    "      * random selection and sort\n",
    "          random.choice(seq),  # choose a random element from seq\n",
    "          random.sample(seq,k), # randomly select k elements from seq\n",
    "          random.shuffle(req),  # give a random sort for seq\n",
    "      * random generator\n",
    "          random.random()\n",
    "          random.uniform(a,b)\n",
    "          \n",
    "          random.gauss(mu,sigma)\n",
    "          random.expovariate(lambd) "
   ]
  },
  {
   "cell_type": "code",
   "execution_count": null,
   "metadata": {
    "collapsed": false
   },
   "outputs": [],
   "source": [
    "#ex1: extract 5 integers from 1..22\n",
    "import random\n",
    "random.sample(range(1,22),5)"
   ]
  },
  {
   "cell_type": "code",
   "execution_count": null,
   "metadata": {
    "collapsed": false
   },
   "outputs": [],
   "source": [
    "#ex2 : generate a 8-digits data, each of them is one integer between 1 and 6\n",
    "\n",
    "# method 1\n",
    "import random\n",
    "re = []\n",
    "for i in range(8):\n",
    "    re.append(str(random.randint(1,6)))\n",
    "print (''.join(re))\n"
   ]
  },
  {
   "cell_type": "code",
   "execution_count": null,
   "metadata": {
    "collapsed": false
   },
   "outputs": [],
   "source": [
    "# method 2\n",
    "import random\n",
    "import math\n",
    "re = []\n",
    "sum = 0\n",
    "for i in range(8):\n",
    "    dat = random.randint(1,6)\n",
    "    sum = sum + dat*math.pow(10,i)\n",
    "print (sum)"
   ]
  },
  {
   "cell_type": "code",
   "execution_count": null,
   "metadata": {
    "collapsed": false
   },
   "outputs": [],
   "source": [
    "# method 3\n",
    "import random\n",
    "from functools import reduce\n",
    "re = []\n",
    "for i in range(8):\n",
    "    re.append(random.randint(1,6))\n",
    "reduce(lambda x,y: x*10+y, re)"
   ]
  }
 ],
 "metadata": {
  "celltoolbar": "Raw Cell Format",
  "kernelspec": {
   "display_name": "Python 3",
   "language": "python",
   "name": "python3"
  },
  "language_info": {
   "codemirror_mode": {
    "name": "ipython",
    "version": 3
   },
   "file_extension": ".py",
   "mimetype": "text/x-python",
   "name": "python",
   "nbconvert_exporter": "python",
   "pygments_lexer": "ipython3",
   "version": "3.6.0"
  }
 },
 "nbformat": 4,
 "nbformat_minor": 2
}
