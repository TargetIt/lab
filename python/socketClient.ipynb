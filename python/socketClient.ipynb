{
 "cells": [
  {
   "cell_type": "code",
   "execution_count": 5,
   "metadata": {
    "collapsed": true,
    "deletable": true,
    "editable": true
   },
   "outputs": [],
   "source": [
    "import socket"
   ]
  },
  {
   "cell_type": "code",
   "execution_count": 8,
   "metadata": {
    "collapsed": false,
    "deletable": true,
    "editable": true
   },
   "outputs": [
    {
     "name": "stdout",
     "output_type": "stream",
     "text": [
      "Welcome!\n",
      "Hello, Michael!\n",
      "Hello, Tracy!\n",
      "Hello, Sarah!\n",
      "\n"
     ]
    }
   ],
   "source": [
    "# Client\n",
    "\n",
    "#AF_INET: IPv4 protocol, AF_INET6\n",
    "s = socket.socket(socket.AF_INET, socket.SOCK_STREAM)\n",
    "\n",
    "# build a connect\n",
    "s.connect(('127.0.0.1', 9997)) # Notice: para is a tuple\n",
    "\n",
    "print s.recv(1024)\n",
    "for data in ['Michael', 'Tracy', 'Sarah', 'exit']:\n",
    "    s.send(data)\n",
    "    print s.recv(1024)\n",
    "\n",
    "s.send('exit')\n",
    "s.close()"
   ]
  }
 ],
 "metadata": {
  "kernelspec": {
   "display_name": "Python 2",
   "language": "python",
   "name": "python2"
  },
  "language_info": {
   "codemirror_mode": {
    "name": "ipython",
    "version": 2
   },
   "file_extension": ".py",
   "mimetype": "text/x-python",
   "name": "python",
   "nbconvert_exporter": "python",
   "pygments_lexer": "ipython2",
   "version": "2.7.10"
  }
 },
 "nbformat": 4,
 "nbformat_minor": 2
}
