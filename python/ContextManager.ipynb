{
 "cells": [
  {
   "cell_type": "markdown",
   "metadata": {},
   "source": [
    "### Context Manager \n",
    "* Purpose: limit the scope of an object\n",
    "* Usage: free the inside object memory when excuted outside the scope\n",
    "* Syntax: with ... as ...\n",
    "* Principle:\n",
    "   1. invoke method \\__enter__() of object before block;\n",
    "   2. invoke method \\__exit__() of object after block;"
   ]
  },
  {
   "cell_type": "code",
   "execution_count": null,
   "metadata": {
    "collapsed": false
   },
   "outputs": [],
   "source": [
    "# without context manager \n",
    "f = open(\"new.txt\", \"w\")\n",
    "print(f.closed)      #display whether the file is open\n",
    "f.write(\"Hello World!\")\n",
    "f.close()\n",
    "print(f.closed)"
   ]
  },
  {
   "cell_type": "code",
   "execution_count": null,
   "metadata": {
    "collapsed": false
   },
   "outputs": [],
   "source": [
    "# with context manager\n",
    "# __enter__() and __exit__() are built-in method of file handle f\n",
    "with open(\"new.txt\", \"w\") as f:\n",
    "    print(f.closed)\n",
    "    f.write(\"Hello World!\")\n",
    "print(f.closed)"
   ]
  },
  {
   "cell_type": "code",
   "execution_count": null,
   "metadata": {
    "collapsed": false
   },
   "outputs": [],
   "source": [
    "# customized object\n",
    "\n",
    "class VOW(object):\n",
    "    def __init__(self, text):\n",
    "        self.text = text\n",
    "    def __enter__(self):\n",
    "        self.text = \"I say: \" + self.text\n",
    "        return self\n",
    "    def __exit__(self, exc_type, exc_value, traceback):\n",
    "        self.text = self.text + \"!\"\n",
    "\n",
    "with VOW(\"I'm fine\") as myvow:\n",
    "    print(myvow.text)\n",
    "\n",
    "print(myvow.text)"
   ]
  },
  {
   "cell_type": "code",
   "execution_count": null,
   "metadata": {
    "collapsed": false
   },
   "outputs": [],
   "source": [
    "# Basic flow of ContextManager\n",
    "\n",
    "# with EXPR as VAR:\n",
    "\n",
    "VAR = EXPR\n",
    "VAR = VAR.__enter__()\n",
    "try:\n",
    "    BLOCK\n",
    "finally:\n",
    "    VAR.__exit__()"
   ]
  }
 ],
 "metadata": {
  "kernelspec": {
   "display_name": "Python 3",
   "language": "python",
   "name": "python3"
  },
  "language_info": {
   "codemirror_mode": {
    "name": "ipython",
    "version": 3
   },
   "file_extension": ".py",
   "mimetype": "text/x-python",
   "name": "python",
   "nbconvert_exporter": "python",
   "pygments_lexer": "ipython3",
   "version": "3.6.0"
  }
 },
 "nbformat": 4,
 "nbformat_minor": 2
}
